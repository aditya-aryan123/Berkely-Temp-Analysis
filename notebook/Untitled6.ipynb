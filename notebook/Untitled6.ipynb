{
 "cells": [
  {
   "cell_type": "code",
   "execution_count": 4,
   "id": "d6d33570",
   "metadata": {},
   "outputs": [],
   "source": [
    "import random\n",
    "import pandas as pd\n",
    "import numpy as np\n",
    "import seaborn as sns\n",
    "import matplotlib.pyplot as plt\n",
    "from sklearn.linear_model import LinearRegression\n",
    "from sklearn.ensemble import RandomForestRegressor\n",
    "from sklearn.model_selection import train_test_split\n",
    "from sklearn.metrics import mean_squared_error, r2_score"
   ]
  },
  {
   "cell_type": "code",
   "execution_count": 5,
   "id": "59ab3ee4",
   "metadata": {
    "scrolled": true
   },
   "outputs": [
    {
     "data": {
      "text/html": [
       "<div>\n",
       "<style scoped>\n",
       "    .dataframe tbody tr th:only-of-type {\n",
       "        vertical-align: middle;\n",
       "    }\n",
       "\n",
       "    .dataframe tbody tr th {\n",
       "        vertical-align: top;\n",
       "    }\n",
       "\n",
       "    .dataframe thead th {\n",
       "        text-align: right;\n",
       "    }\n",
       "</style>\n",
       "<table border=\"1\" class=\"dataframe\">\n",
       "  <thead>\n",
       "    <tr style=\"text-align: right;\">\n",
       "      <th></th>\n",
       "      <th>time</th>\n",
       "      <th>lat</th>\n",
       "      <th>lon</th>\n",
       "      <th>timeseries-tas-monthly-mean</th>\n",
       "    </tr>\n",
       "  </thead>\n",
       "  <tbody>\n",
       "    <tr>\n",
       "      <th>0</th>\n",
       "      <td>1901-01-16</td>\n",
       "      <td>26.25</td>\n",
       "      <td>-122.75</td>\n",
       "      <td>NaN</td>\n",
       "    </tr>\n",
       "    <tr>\n",
       "      <th>1</th>\n",
       "      <td>1901-01-16</td>\n",
       "      <td>26.25</td>\n",
       "      <td>-122.25</td>\n",
       "      <td>NaN</td>\n",
       "    </tr>\n",
       "    <tr>\n",
       "      <th>2</th>\n",
       "      <td>1901-01-16</td>\n",
       "      <td>26.25</td>\n",
       "      <td>-121.75</td>\n",
       "      <td>NaN</td>\n",
       "    </tr>\n",
       "    <tr>\n",
       "      <th>3</th>\n",
       "      <td>1901-01-16</td>\n",
       "      <td>26.25</td>\n",
       "      <td>-121.25</td>\n",
       "      <td>NaN</td>\n",
       "    </tr>\n",
       "    <tr>\n",
       "      <th>4</th>\n",
       "      <td>1901-01-16</td>\n",
       "      <td>26.25</td>\n",
       "      <td>-120.75</td>\n",
       "      <td>NaN</td>\n",
       "    </tr>\n",
       "  </tbody>\n",
       "</table>\n",
       "</div>"
      ],
      "text/plain": [
       "         time    lat     lon  timeseries-tas-monthly-mean\n",
       "0  1901-01-16  26.25 -122.75                          NaN\n",
       "1  1901-01-16  26.25 -122.25                          NaN\n",
       "2  1901-01-16  26.25 -121.75                          NaN\n",
       "3  1901-01-16  26.25 -121.25                          NaN\n",
       "4  1901-01-16  26.25 -120.75                          NaN"
      ]
     },
     "execution_count": 5,
     "metadata": {},
     "output_type": "execute_result"
    }
   ],
   "source": [
    "df = pd.read_csv('Avg_CRU.csv')\n",
    "df.head()"
   ]
  },
  {
   "cell_type": "code",
   "execution_count": 38,
   "id": "9b84099e",
   "metadata": {},
   "outputs": [],
   "source": [
    "df['time'] = pd.to_datetime(df['time'])"
   ]
  },
  {
   "cell_type": "code",
   "execution_count": 45,
   "id": "a8f92b8f",
   "metadata": {},
   "outputs": [
    {
     "ename": "TypeError",
     "evalue": "Only valid with DatetimeIndex, TimedeltaIndex or PeriodIndex, but got an instance of 'RangeIndex'",
     "output_type": "error",
     "traceback": [
      "\u001b[1;31m---------------------------------------------------------------------------\u001b[0m",
      "\u001b[1;31mTypeError\u001b[0m                                 Traceback (most recent call last)",
      "Input \u001b[1;32mIn [45]\u001b[0m, in \u001b[0;36m<cell line: 1>\u001b[1;34m()\u001b[0m\n\u001b[1;32m----> 1\u001b[0m \u001b[43mdf\u001b[49m\u001b[38;5;241;43m.\u001b[39;49m\u001b[43mgroupby\u001b[49m\u001b[43m(\u001b[49m\u001b[43m[\u001b[49m\u001b[38;5;124;43m'\u001b[39;49m\u001b[38;5;124;43mlat\u001b[39;49m\u001b[38;5;124;43m'\u001b[39;49m\u001b[43m,\u001b[49m\u001b[43m \u001b[49m\u001b[38;5;124;43m'\u001b[39;49m\u001b[38;5;124;43mlon\u001b[39;49m\u001b[38;5;124;43m'\u001b[39;49m\u001b[43m,\u001b[49m\u001b[43m \u001b[49m\u001b[43mpd\u001b[49m\u001b[38;5;241;43m.\u001b[39;49m\u001b[43mGrouper\u001b[49m\u001b[43m(\u001b[49m\u001b[38;5;124;43m'\u001b[39;49m\u001b[38;5;124;43mtime\u001b[39;49m\u001b[38;5;124;43m'\u001b[39;49m\u001b[43m)\u001b[49m\u001b[43m]\u001b[49m\u001b[43m)\u001b[49m\u001b[43m[\u001b[49m\u001b[38;5;124;43m'\u001b[39;49m\u001b[38;5;124;43mtimeseries-tas-monthly-mean\u001b[39;49m\u001b[38;5;124;43m'\u001b[39;49m\u001b[43m]\u001b[49m\u001b[38;5;241;43m.\u001b[39;49m\u001b[43mresample\u001b[49m\u001b[43m(\u001b[49m\u001b[38;5;124;43m'\u001b[39;49m\u001b[38;5;124;43mM\u001b[39;49m\u001b[38;5;124;43m'\u001b[39;49m\u001b[43m)\u001b[49m\u001b[38;5;241m.\u001b[39mmean()\n",
      "File \u001b[1;32m~\\AppData\\Local\\Programs\\Python\\Python310\\lib\\site-packages\\pandas\\core\\groupby\\groupby.py:2417\u001b[0m, in \u001b[0;36mGroupBy.resample\u001b[1;34m(self, rule, *args, **kwargs)\u001b[0m\n\u001b[0;32m   2319\u001b[0m \u001b[38;5;124;03m\"\"\"\u001b[39;00m\n\u001b[0;32m   2320\u001b[0m \u001b[38;5;124;03mProvide resampling when using a TimeGrouper.\u001b[39;00m\n\u001b[0;32m   2321\u001b[0m \n\u001b[1;32m   (...)\u001b[0m\n\u001b[0;32m   2413\u001b[0m \u001b[38;5;124;03m5   2000-01-01 00:03:00  5  1\u001b[39;00m\n\u001b[0;32m   2414\u001b[0m \u001b[38;5;124;03m\"\"\"\u001b[39;00m\n\u001b[0;32m   2415\u001b[0m \u001b[38;5;28;01mfrom\u001b[39;00m \u001b[38;5;21;01mpandas\u001b[39;00m\u001b[38;5;21;01m.\u001b[39;00m\u001b[38;5;21;01mcore\u001b[39;00m\u001b[38;5;21;01m.\u001b[39;00m\u001b[38;5;21;01mresample\u001b[39;00m \u001b[38;5;28;01mimport\u001b[39;00m get_resampler_for_grouping\n\u001b[1;32m-> 2417\u001b[0m \u001b[38;5;28;01mreturn\u001b[39;00m get_resampler_for_grouping(\u001b[38;5;28mself\u001b[39m, rule, \u001b[38;5;241m*\u001b[39margs, \u001b[38;5;241m*\u001b[39m\u001b[38;5;241m*\u001b[39mkwargs)\n",
      "File \u001b[1;32m~\\AppData\\Local\\Programs\\Python\\Python310\\lib\\site-packages\\pandas\\core\\resample.py:1437\u001b[0m, in \u001b[0;36mget_resampler_for_grouping\u001b[1;34m(groupby, rule, how, fill_method, limit, kind, on, **kwargs)\u001b[0m\n\u001b[0;32m   1435\u001b[0m \u001b[38;5;66;03m# .resample uses 'on' similar to how .groupby uses 'key'\u001b[39;00m\n\u001b[0;32m   1436\u001b[0m tg \u001b[38;5;241m=\u001b[39m TimeGrouper(freq\u001b[38;5;241m=\u001b[39mrule, key\u001b[38;5;241m=\u001b[39mon, \u001b[38;5;241m*\u001b[39m\u001b[38;5;241m*\u001b[39mkwargs)\n\u001b[1;32m-> 1437\u001b[0m resampler \u001b[38;5;241m=\u001b[39m \u001b[43mtg\u001b[49m\u001b[38;5;241;43m.\u001b[39;49m\u001b[43m_get_resampler\u001b[49m\u001b[43m(\u001b[49m\u001b[43mgroupby\u001b[49m\u001b[38;5;241;43m.\u001b[39;49m\u001b[43mobj\u001b[49m\u001b[43m,\u001b[49m\u001b[43m \u001b[49m\u001b[43mkind\u001b[49m\u001b[38;5;241;43m=\u001b[39;49m\u001b[43mkind\u001b[49m\u001b[43m)\u001b[49m\n\u001b[0;32m   1438\u001b[0m \u001b[38;5;28;01mreturn\u001b[39;00m resampler\u001b[38;5;241m.\u001b[39m_get_resampler_for_grouping(groupby\u001b[38;5;241m=\u001b[39mgroupby)\n",
      "File \u001b[1;32m~\\AppData\\Local\\Programs\\Python\\Python310\\lib\\site-packages\\pandas\\core\\resample.py:1599\u001b[0m, in \u001b[0;36mTimeGrouper._get_resampler\u001b[1;34m(self, obj, kind)\u001b[0m\n\u001b[0;32m   1596\u001b[0m \u001b[38;5;28;01melif\u001b[39;00m \u001b[38;5;28misinstance\u001b[39m(ax, TimedeltaIndex):\n\u001b[0;32m   1597\u001b[0m     \u001b[38;5;28;01mreturn\u001b[39;00m TimedeltaIndexResampler(obj, groupby\u001b[38;5;241m=\u001b[39m\u001b[38;5;28mself\u001b[39m, axis\u001b[38;5;241m=\u001b[39m\u001b[38;5;28mself\u001b[39m\u001b[38;5;241m.\u001b[39maxis)\n\u001b[1;32m-> 1599\u001b[0m \u001b[38;5;28;01mraise\u001b[39;00m \u001b[38;5;167;01mTypeError\u001b[39;00m(\n\u001b[0;32m   1600\u001b[0m     \u001b[38;5;124m\"\u001b[39m\u001b[38;5;124mOnly valid with DatetimeIndex, \u001b[39m\u001b[38;5;124m\"\u001b[39m\n\u001b[0;32m   1601\u001b[0m     \u001b[38;5;124m\"\u001b[39m\u001b[38;5;124mTimedeltaIndex or PeriodIndex, \u001b[39m\u001b[38;5;124m\"\u001b[39m\n\u001b[0;32m   1602\u001b[0m     \u001b[38;5;124mf\u001b[39m\u001b[38;5;124m\"\u001b[39m\u001b[38;5;124mbut got an instance of \u001b[39m\u001b[38;5;124m'\u001b[39m\u001b[38;5;132;01m{\u001b[39;00m\u001b[38;5;28mtype\u001b[39m(ax)\u001b[38;5;241m.\u001b[39m\u001b[38;5;18m__name__\u001b[39m\u001b[38;5;132;01m}\u001b[39;00m\u001b[38;5;124m'\u001b[39m\u001b[38;5;124m\"\u001b[39m\n\u001b[0;32m   1603\u001b[0m )\n",
      "\u001b[1;31mTypeError\u001b[0m: Only valid with DatetimeIndex, TimedeltaIndex or PeriodIndex, but got an instance of 'RangeIndex'"
     ]
    }
   ],
   "source": [
    "df.groupby(['lat', 'lon', pd.Grouper('time')])['timeseries-tas-monthly-mean'].resample('M').mean()"
   ]
  },
  {
   "cell_type": "code",
   "execution_count": 6,
   "id": "43055827",
   "metadata": {},
   "outputs": [
    {
     "data": {
      "text/plain": [
       "(6644352, 4)"
      ]
     },
     "execution_count": 6,
     "metadata": {},
     "output_type": "execute_result"
    }
   ],
   "source": [
    "df.shape"
   ]
  },
  {
   "cell_type": "code",
   "execution_count": 7,
   "id": "4880b09f",
   "metadata": {},
   "outputs": [],
   "source": [
    "df['time'] = pd.to_datetime(df['time'])"
   ]
  },
  {
   "cell_type": "code",
   "execution_count": null,
   "id": "1f27afc3",
   "metadata": {},
   "outputs": [],
   "source": []
  },
  {
   "cell_type": "code",
   "execution_count": 8,
   "id": "d2804aec",
   "metadata": {},
   "outputs": [
    {
     "data": {
      "text/plain": [
       "lat    lon      time      \n",
       "26.25  -122.75  1901-01-16          NaN\n",
       "                1901-02-15          NaN\n",
       "                1901-03-16          NaN\n",
       "                1901-04-16          NaN\n",
       "                1901-05-16          NaN\n",
       "                                ...    \n",
       "47.75  -71.25   2021-08-16    15.300000\n",
       "                2021-09-16    10.200000\n",
       "                2021-10-16     5.800000\n",
       "                2021-11-16    -4.300000\n",
       "                2021-12-16    -9.900001\n",
       "Name: timeseries-tas-monthly-mean, Length: 6644352, dtype: float64"
      ]
     },
     "execution_count": 8,
     "metadata": {},
     "output_type": "execute_result"
    }
   ],
   "source": [
    "df.groupby(['lat', 'lon', 'time'])['timeseries-tas-monthly-mean'].mean()"
   ]
  },
  {
   "cell_type": "code",
   "execution_count": 9,
   "id": "b07f1045",
   "metadata": {},
   "outputs": [
    {
     "data": {
      "text/plain": [
       "(Timestamp('1901-01-16 00:00:00'), Timestamp('2021-12-16 00:00:00'))"
      ]
     },
     "execution_count": 9,
     "metadata": {},
     "output_type": "execute_result"
    }
   ],
   "source": [
    "df['time'].min(), df['time'].max()"
   ]
  },
  {
   "cell_type": "code",
   "execution_count": 10,
   "id": "762498c1",
   "metadata": {},
   "outputs": [],
   "source": [
    "df_copy = df.copy()"
   ]
  },
  {
   "cell_type": "code",
   "execution_count": 11,
   "id": "d6547024",
   "metadata": {},
   "outputs": [],
   "source": [
    "df_copy['time'] = pd.to_datetime(df_copy['time'])\n",
    "df_copy['year'] = df_copy['time'].dt.year\n",
    "df_copy['month'] = df_copy['time'].dt.month\n",
    "df_copy['dayofyear'] = df_copy['time'].dt.dayofyear\n",
    "df_copy['quarter'] = df_copy['time'].dt.quarter"
   ]
  },
  {
   "cell_type": "code",
   "execution_count": 12,
   "id": "eda9aa75",
   "metadata": {},
   "outputs": [],
   "source": [
    "#test_file.drop(['timeseries-tas-monthly-mean', 'time'], axis=1, inplace=True)\n",
    "#test_file.loc[:, 'timeseries-tas-monthly-mean'] = model.predict(test_file)\n",
    "#test_file.head()"
   ]
  },
  {
   "cell_type": "code",
   "execution_count": 13,
   "id": "946b1fe8",
   "metadata": {},
   "outputs": [],
   "source": [
    "#final_file = pd.concat([test_file, train_file])\n",
    "#final_file.drop('time', axis=1, inplace=True)"
   ]
  },
  {
   "cell_type": "code",
   "execution_count": 14,
   "id": "7c89863b",
   "metadata": {},
   "outputs": [],
   "source": [
    "#final_file.head()"
   ]
  },
  {
   "cell_type": "code",
   "execution_count": 15,
   "id": "748e59e7",
   "metadata": {},
   "outputs": [],
   "source": [
    "#final_file.isnull().sum()"
   ]
  },
  {
   "cell_type": "code",
   "execution_count": 17,
   "id": "c09643a8",
   "metadata": {},
   "outputs": [],
   "source": [
    "#fig, ax = plt.subplots(figsize=(15, 6))\n",
    "#df_1 = df_copy.loc[(df_copy['time'] >= '1901-01-16') & (df_copy['time'] < '1950-01-16'), :]\n",
    "#sns.kdeplot(data=df_1, x='timeseries-tas-monthly-mean', label='Raw Data', fill=True, ax=ax)\n",
    "#plt.legend()\n",
    "#plt.show()"
   ]
  },
  {
   "cell_type": "code",
   "execution_count": 18,
   "id": "c31f4216",
   "metadata": {},
   "outputs": [],
   "source": [
    "#fig, ax = plt.subplots(2, 1, figsize=(15, 6))\n",
    "#df_1['timeseries-tas-monthly-mean'].plot(color='b', ax=ax[0])\n",
    "#final_file['timeseries-tas-monthly-mean'].plot(color='r', ax=ax[1])\n",
    "#plt.show()"
   ]
  },
  {
   "cell_type": "code",
   "execution_count": 19,
   "id": "bd3e6983",
   "metadata": {},
   "outputs": [],
   "source": [
    "#fig, ax = plt.subplots(figsize=(15, 6))\n",
    "#df_1.groupby('year')['timeseries-tas-monthly-mean'].mean().plot(color='b', ax=ax)\n",
    "#final_file.groupby('year')['timeseries-tas-monthly-mean'].mean().plot(color='r', ax=ax)\n",
    "#plt.show()"
   ]
  },
  {
   "cell_type": "code",
   "execution_count": 20,
   "id": "a178aae6",
   "metadata": {},
   "outputs": [],
   "source": [
    "#fig, ax = plt.subplots(figsize=(15, 6))\n",
    "#df_1.groupby('year')['timeseries-tas-monthly-mean'].rolling(window=10).mean().plot(color='b', ax=ax)\n",
    "#final_file.groupby('year')['timeseries-tas-monthly-mean'].rolling(window=10).mean().plot(color='r', ax=ax)\n",
    "#plt.show()"
   ]
  },
  {
   "cell_type": "code",
   "execution_count": 21,
   "id": "4abe02e5",
   "metadata": {},
   "outputs": [],
   "source": [
    "def split_time_series(start_year, end_year, data=df_copy, col='timeseries-tas-monthly-mean'):\n",
    "    data = data.loc[(data['time'] >= start_year) & ((data['time'] < end_year)), :]\n",
    "    \n",
    "    frame_to_use = data.loc[data[col].notna(), :]\n",
    "    frame_to_pred = data.loc[data[col].isna(), :]\n",
    "    \n",
    "    X = frame_to_use.drop(['timeseries-tas-monthly-mean', 'time'], axis=1)\n",
    "    y = frame_to_use['timeseries-tas-monthly-mean']\n",
    "\n",
    "    X_train, X_test, y_train, y_test = train_test_split(X, y, test_size=0.2, random_state=1)\n",
    "    X_train, X_val, y_train, y_val = train_test_split(X_train, y_train, test_size=0.25, random_state=1)\n",
    "\n",
    "    model = RandomForestRegressor(n_estimators=100, random_state=0)\n",
    "    model.fit(X_train, y_train)\n",
    "    prediction_val = model.predict(X_val)\n",
    "    prediction_test = model.predict(X_test)\n",
    "    \n",
    "    frame_to_pred.drop(['timeseries-tas-monthly-mean', 'time'], axis=1, inplace=True)\n",
    "    frame_to_pred.loc[:, 'timeseries-tas-monthly-mean'] = model.predict(frame_to_pred)\n",
    "    \n",
    "    return frame_to_pred"
   ]
  },
  {
   "cell_type": "code",
   "execution_count": 22,
   "id": "7f95e2fe",
   "metadata": {},
   "outputs": [
    {
     "name": "stderr",
     "output_type": "stream",
     "text": [
      "C:\\Users\\lenovo\\AppData\\Local\\Temp\\ipykernel_300\\3563636579.py:18: SettingWithCopyWarning: \n",
      "A value is trying to be set on a copy of a slice from a DataFrame\n",
      "\n",
      "See the caveats in the documentation: https://pandas.pydata.org/pandas-docs/stable/user_guide/indexing.html#returning-a-view-versus-a-copy\n",
      "  frame_to_pred.drop(['timeseries-tas-monthly-mean', 'time'], axis=1, inplace=True)\n",
      "C:\\Users\\lenovo\\AppData\\Local\\Temp\\ipykernel_300\\3563636579.py:19: SettingWithCopyWarning: \n",
      "A value is trying to be set on a copy of a slice from a DataFrame.\n",
      "Try using .loc[row_indexer,col_indexer] = value instead\n",
      "\n",
      "See the caveats in the documentation: https://pandas.pydata.org/pandas-docs/stable/user_guide/indexing.html#returning-a-view-versus-a-copy\n",
      "  frame_to_pred.loc[:, 'timeseries-tas-monthly-mean'] = model.predict(frame_to_pred)\n"
     ]
    }
   ],
   "source": [
    "preds = split_time_series('1901-01-16', '1950-01-16')"
   ]
  },
  {
   "cell_type": "code",
   "execution_count": 23,
   "id": "48bf69ff",
   "metadata": {},
   "outputs": [],
   "source": [
    "df_copy.loc[(df_copy['time'] >= '1901-01-16') & \n",
    "            (df_copy['time'] < '1950-01-16'), :] = df_copy.loc[(df_copy['time'] >= '1901-01-16') & \n",
    "            (df_copy['time'] < '1950-01-16'), :].fillna(preds, axis=0)"
   ]
  },
  {
   "cell_type": "code",
   "execution_count": 24,
   "id": "aaa770cf",
   "metadata": {
    "scrolled": false
   },
   "outputs": [
    {
     "name": "stderr",
     "output_type": "stream",
     "text": [
      "C:\\Users\\lenovo\\AppData\\Local\\Temp\\ipykernel_300\\3563636579.py:18: SettingWithCopyWarning: \n",
      "A value is trying to be set on a copy of a slice from a DataFrame\n",
      "\n",
      "See the caveats in the documentation: https://pandas.pydata.org/pandas-docs/stable/user_guide/indexing.html#returning-a-view-versus-a-copy\n",
      "  frame_to_pred.drop(['timeseries-tas-monthly-mean', 'time'], axis=1, inplace=True)\n",
      "C:\\Users\\lenovo\\AppData\\Local\\Temp\\ipykernel_300\\3563636579.py:19: SettingWithCopyWarning: \n",
      "A value is trying to be set on a copy of a slice from a DataFrame.\n",
      "Try using .loc[row_indexer,col_indexer] = value instead\n",
      "\n",
      "See the caveats in the documentation: https://pandas.pydata.org/pandas-docs/stable/user_guide/indexing.html#returning-a-view-versus-a-copy\n",
      "  frame_to_pred.loc[:, 'timeseries-tas-monthly-mean'] = model.predict(frame_to_pred)\n"
     ]
    }
   ],
   "source": [
    "preds_1 = split_time_series('1950-01-16', '2001-01-16')"
   ]
  },
  {
   "cell_type": "code",
   "execution_count": 25,
   "id": "d92be796",
   "metadata": {},
   "outputs": [],
   "source": [
    "df_copy.loc[(df_copy['time'] >= '1950-01-16') & \n",
    "            (df_copy['time'] < '2001-01-16'), :] = df_copy.loc[(df_copy['time'] >= '1950-01-16') & \n",
    "            (df_copy['time'] < '2001-01-16'), :].fillna(preds_1, axis=0)"
   ]
  },
  {
   "cell_type": "code",
   "execution_count": 26,
   "id": "d1c33ac4",
   "metadata": {
    "scrolled": false
   },
   "outputs": [
    {
     "name": "stderr",
     "output_type": "stream",
     "text": [
      "C:\\Users\\lenovo\\AppData\\Local\\Temp\\ipykernel_300\\3563636579.py:18: SettingWithCopyWarning: \n",
      "A value is trying to be set on a copy of a slice from a DataFrame\n",
      "\n",
      "See the caveats in the documentation: https://pandas.pydata.org/pandas-docs/stable/user_guide/indexing.html#returning-a-view-versus-a-copy\n",
      "  frame_to_pred.drop(['timeseries-tas-monthly-mean', 'time'], axis=1, inplace=True)\n",
      "C:\\Users\\lenovo\\AppData\\Local\\Temp\\ipykernel_300\\3563636579.py:19: SettingWithCopyWarning: \n",
      "A value is trying to be set on a copy of a slice from a DataFrame.\n",
      "Try using .loc[row_indexer,col_indexer] = value instead\n",
      "\n",
      "See the caveats in the documentation: https://pandas.pydata.org/pandas-docs/stable/user_guide/indexing.html#returning-a-view-versus-a-copy\n",
      "  frame_to_pred.loc[:, 'timeseries-tas-monthly-mean'] = model.predict(frame_to_pred)\n"
     ]
    }
   ],
   "source": [
    "preds_2 = split_time_series('2001-01-16', '2021-01-16')"
   ]
  },
  {
   "cell_type": "code",
   "execution_count": 27,
   "id": "0f478abc",
   "metadata": {},
   "outputs": [],
   "source": [
    "df_copy.loc[(df_copy['time'] >= '2001-01-16') & \n",
    "            (df_copy['time'] < '2021-01-16'), :] = df_copy.loc[(df_copy['time'] >= '2001-01-16') & \n",
    "            (df_copy['time'] < '2021-01-16'), :].fillna(preds_2, axis=0)"
   ]
  },
  {
   "cell_type": "code",
   "execution_count": 28,
   "id": "e158a023",
   "metadata": {
    "scrolled": true
   },
   "outputs": [
    {
     "name": "stderr",
     "output_type": "stream",
     "text": [
      "C:\\Users\\lenovo\\AppData\\Local\\Temp\\ipykernel_300\\3563636579.py:18: SettingWithCopyWarning: \n",
      "A value is trying to be set on a copy of a slice from a DataFrame\n",
      "\n",
      "See the caveats in the documentation: https://pandas.pydata.org/pandas-docs/stable/user_guide/indexing.html#returning-a-view-versus-a-copy\n",
      "  frame_to_pred.drop(['timeseries-tas-monthly-mean', 'time'], axis=1, inplace=True)\n",
      "C:\\Users\\lenovo\\AppData\\Local\\Temp\\ipykernel_300\\3563636579.py:19: SettingWithCopyWarning: \n",
      "A value is trying to be set on a copy of a slice from a DataFrame.\n",
      "Try using .loc[row_indexer,col_indexer] = value instead\n",
      "\n",
      "See the caveats in the documentation: https://pandas.pydata.org/pandas-docs/stable/user_guide/indexing.html#returning-a-view-versus-a-copy\n",
      "  frame_to_pred.loc[:, 'timeseries-tas-monthly-mean'] = model.predict(frame_to_pred)\n"
     ]
    }
   ],
   "source": [
    "preds_3 = split_time_series('2021-01-16', '2021-12-16')"
   ]
  },
  {
   "cell_type": "code",
   "execution_count": 29,
   "id": "512bd889",
   "metadata": {},
   "outputs": [],
   "source": [
    "df_copy.loc[(df_copy['time'] >= '2021-01-16') & \n",
    "            (df_copy['time'] <= '2021-12-16'), :] = df_copy.loc[(df_copy['time'] >= '2021-01-16') & \n",
    "            (df_copy['time'] <= '2021-12-16'), :].fillna(preds_3, axis=0)"
   ]
  },
  {
   "cell_type": "code",
   "execution_count": 30,
   "id": "8fec923d",
   "metadata": {},
   "outputs": [
    {
     "name": "stdout",
     "output_type": "stream",
     "text": [
      "(6644352, 8) (6644352, 4)\n"
     ]
    }
   ],
   "source": [
    "print(df_copy.shape, df.shape)"
   ]
  },
  {
   "cell_type": "code",
   "execution_count": 31,
   "id": "7ee07541",
   "metadata": {},
   "outputs": [
    {
     "data": {
      "text/plain": [
       "(6644352, 4)"
      ]
     },
     "execution_count": 31,
     "metadata": {},
     "output_type": "execute_result"
    }
   ],
   "source": [
    "df.shape"
   ]
  },
  {
   "cell_type": "code",
   "execution_count": 32,
   "id": "948ce656",
   "metadata": {
    "scrolled": true
   },
   "outputs": [
    {
     "data": {
      "text/plain": [
       "(6644352, 8)"
      ]
     },
     "execution_count": 32,
     "metadata": {},
     "output_type": "execute_result"
    }
   ],
   "source": [
    "df_copy.shape"
   ]
  },
  {
   "cell_type": "code",
   "execution_count": 33,
   "id": "f543b152",
   "metadata": {
    "scrolled": true
   },
   "outputs": [
    {
     "data": {
      "text/plain": [
       "time                                 0\n",
       "lat                                  0\n",
       "lon                                  0\n",
       "timeseries-tas-monthly-mean    1209516\n",
       "dtype: int64"
      ]
     },
     "execution_count": 33,
     "metadata": {},
     "output_type": "execute_result"
    }
   ],
   "source": [
    "df.isnull().sum()"
   ]
  },
  {
   "cell_type": "code",
   "execution_count": 34,
   "id": "5d211121",
   "metadata": {},
   "outputs": [
    {
     "data": {
      "text/plain": [
       "time                             0\n",
       "lat                              0\n",
       "lon                              0\n",
       "timeseries-tas-monthly-mean    833\n",
       "year                             0\n",
       "month                            0\n",
       "dayofyear                        0\n",
       "quarter                          0\n",
       "dtype: int64"
      ]
     },
     "execution_count": 34,
     "metadata": {},
     "output_type": "execute_result"
    }
   ],
   "source": [
    "df_copy.isnull().sum()"
   ]
  },
  {
   "cell_type": "code",
   "execution_count": 35,
   "id": "0db6e43a",
   "metadata": {},
   "outputs": [
    {
     "data": {
      "text/html": [
       "<div>\n",
       "<style scoped>\n",
       "    .dataframe tbody tr th:only-of-type {\n",
       "        vertical-align: middle;\n",
       "    }\n",
       "\n",
       "    .dataframe tbody tr th {\n",
       "        vertical-align: top;\n",
       "    }\n",
       "\n",
       "    .dataframe thead th {\n",
       "        text-align: right;\n",
       "    }\n",
       "</style>\n",
       "<table border=\"1\" class=\"dataframe\">\n",
       "  <thead>\n",
       "    <tr style=\"text-align: right;\">\n",
       "      <th></th>\n",
       "      <th>time</th>\n",
       "      <th>lat</th>\n",
       "      <th>lon</th>\n",
       "      <th>timeseries-tas-monthly-mean</th>\n",
       "      <th>year</th>\n",
       "      <th>month</th>\n",
       "      <th>dayofyear</th>\n",
       "      <th>quarter</th>\n",
       "    </tr>\n",
       "  </thead>\n",
       "  <tbody>\n",
       "    <tr>\n",
       "      <th>6639776</th>\n",
       "      <td>2021-12-16</td>\n",
       "      <td>26.25</td>\n",
       "      <td>-122.75</td>\n",
       "      <td>NaN</td>\n",
       "      <td>2021</td>\n",
       "      <td>12</td>\n",
       "      <td>350</td>\n",
       "      <td>4</td>\n",
       "    </tr>\n",
       "    <tr>\n",
       "      <th>6639777</th>\n",
       "      <td>2021-12-16</td>\n",
       "      <td>26.25</td>\n",
       "      <td>-122.25</td>\n",
       "      <td>NaN</td>\n",
       "      <td>2021</td>\n",
       "      <td>12</td>\n",
       "      <td>350</td>\n",
       "      <td>4</td>\n",
       "    </tr>\n",
       "    <tr>\n",
       "      <th>6639778</th>\n",
       "      <td>2021-12-16</td>\n",
       "      <td>26.25</td>\n",
       "      <td>-121.75</td>\n",
       "      <td>NaN</td>\n",
       "      <td>2021</td>\n",
       "      <td>12</td>\n",
       "      <td>350</td>\n",
       "      <td>4</td>\n",
       "    </tr>\n",
       "    <tr>\n",
       "      <th>6639779</th>\n",
       "      <td>2021-12-16</td>\n",
       "      <td>26.25</td>\n",
       "      <td>-121.25</td>\n",
       "      <td>NaN</td>\n",
       "      <td>2021</td>\n",
       "      <td>12</td>\n",
       "      <td>350</td>\n",
       "      <td>4</td>\n",
       "    </tr>\n",
       "    <tr>\n",
       "      <th>6639780</th>\n",
       "      <td>2021-12-16</td>\n",
       "      <td>26.25</td>\n",
       "      <td>-120.75</td>\n",
       "      <td>NaN</td>\n",
       "      <td>2021</td>\n",
       "      <td>12</td>\n",
       "      <td>350</td>\n",
       "      <td>4</td>\n",
       "    </tr>\n",
       "    <tr>\n",
       "      <th>...</th>\n",
       "      <td>...</td>\n",
       "      <td>...</td>\n",
       "      <td>...</td>\n",
       "      <td>...</td>\n",
       "      <td>...</td>\n",
       "      <td>...</td>\n",
       "      <td>...</td>\n",
       "      <td>...</td>\n",
       "    </tr>\n",
       "    <tr>\n",
       "      <th>6642789</th>\n",
       "      <td>2021-12-16</td>\n",
       "      <td>40.25</td>\n",
       "      <td>-72.25</td>\n",
       "      <td>NaN</td>\n",
       "      <td>2021</td>\n",
       "      <td>12</td>\n",
       "      <td>350</td>\n",
       "      <td>4</td>\n",
       "    </tr>\n",
       "    <tr>\n",
       "      <th>6642790</th>\n",
       "      <td>2021-12-16</td>\n",
       "      <td>40.25</td>\n",
       "      <td>-71.75</td>\n",
       "      <td>NaN</td>\n",
       "      <td>2021</td>\n",
       "      <td>12</td>\n",
       "      <td>350</td>\n",
       "      <td>4</td>\n",
       "    </tr>\n",
       "    <tr>\n",
       "      <th>6642791</th>\n",
       "      <td>2021-12-16</td>\n",
       "      <td>40.25</td>\n",
       "      <td>-71.25</td>\n",
       "      <td>NaN</td>\n",
       "      <td>2021</td>\n",
       "      <td>12</td>\n",
       "      <td>350</td>\n",
       "      <td>4</td>\n",
       "    </tr>\n",
       "    <tr>\n",
       "      <th>6642894</th>\n",
       "      <td>2021-12-16</td>\n",
       "      <td>40.75</td>\n",
       "      <td>-71.75</td>\n",
       "      <td>NaN</td>\n",
       "      <td>2021</td>\n",
       "      <td>12</td>\n",
       "      <td>350</td>\n",
       "      <td>4</td>\n",
       "    </tr>\n",
       "    <tr>\n",
       "      <th>6642895</th>\n",
       "      <td>2021-12-16</td>\n",
       "      <td>40.75</td>\n",
       "      <td>-71.25</td>\n",
       "      <td>NaN</td>\n",
       "      <td>2021</td>\n",
       "      <td>12</td>\n",
       "      <td>350</td>\n",
       "      <td>4</td>\n",
       "    </tr>\n",
       "  </tbody>\n",
       "</table>\n",
       "<p>833 rows × 8 columns</p>\n",
       "</div>"
      ],
      "text/plain": [
       "              time    lat     lon  timeseries-tas-monthly-mean  year  month  \\\n",
       "6639776 2021-12-16  26.25 -122.75                          NaN  2021     12   \n",
       "6639777 2021-12-16  26.25 -122.25                          NaN  2021     12   \n",
       "6639778 2021-12-16  26.25 -121.75                          NaN  2021     12   \n",
       "6639779 2021-12-16  26.25 -121.25                          NaN  2021     12   \n",
       "6639780 2021-12-16  26.25 -120.75                          NaN  2021     12   \n",
       "...            ...    ...     ...                          ...   ...    ...   \n",
       "6642789 2021-12-16  40.25  -72.25                          NaN  2021     12   \n",
       "6642790 2021-12-16  40.25  -71.75                          NaN  2021     12   \n",
       "6642791 2021-12-16  40.25  -71.25                          NaN  2021     12   \n",
       "6642894 2021-12-16  40.75  -71.75                          NaN  2021     12   \n",
       "6642895 2021-12-16  40.75  -71.25                          NaN  2021     12   \n",
       "\n",
       "         dayofyear  quarter  \n",
       "6639776        350        4  \n",
       "6639777        350        4  \n",
       "6639778        350        4  \n",
       "6639779        350        4  \n",
       "6639780        350        4  \n",
       "...            ...      ...  \n",
       "6642789        350        4  \n",
       "6642790        350        4  \n",
       "6642791        350        4  \n",
       "6642894        350        4  \n",
       "6642895        350        4  \n",
       "\n",
       "[833 rows x 8 columns]"
      ]
     },
     "execution_count": 35,
     "metadata": {},
     "output_type": "execute_result"
    }
   ],
   "source": [
    "df_copy.loc[df_copy['timeseries-tas-monthly-mean'].isnull(), :]"
   ]
  },
  {
   "cell_type": "code",
   "execution_count": 36,
   "id": "9b57130a",
   "metadata": {},
   "outputs": [],
   "source": [
    "df_copy.to_csv('Updated_CRU.csv', index=False)"
   ]
  },
  {
   "cell_type": "code",
   "execution_count": null,
   "id": "f3f4ab8e",
   "metadata": {},
   "outputs": [],
   "source": []
  },
  {
   "cell_type": "code",
   "execution_count": 238,
   "id": "c68c8cad",
   "metadata": {},
   "outputs": [
    {
     "name": "stderr",
     "output_type": "stream",
     "text": [
      "C:\\Users\\lenovo\\AppData\\Local\\Temp\\ipykernel_8684\\2758902732.py:6: SettingWithCopyWarning: \n",
      "A value is trying to be set on a copy of a slice from a DataFrame.\n",
      "Try using .loc[row_indexer,col_indexer] = value instead\n",
      "\n",
      "See the caveats in the documentation: https://pandas.pydata.org/pandas-docs/stable/user_guide/indexing.html#returning-a-view-versus-a-copy\n",
      "  df_1[df_1 == -9999] = np.nan\n",
      "C:\\Users\\lenovo\\AppData\\Local\\Temp\\ipykernel_8684\\2758902732.py:6: SettingWithCopyWarning: \n",
      "A value is trying to be set on a copy of a slice from a DataFrame\n",
      "\n",
      "See the caveats in the documentation: https://pandas.pydata.org/pandas-docs/stable/user_guide/indexing.html#returning-a-view-versus-a-copy\n",
      "  df_1[df_1 == -9999] = np.nan\n"
     ]
    },
    {
     "ename": "TypeError",
     "evalue": "can only concatenate str (not \"float\") to str",
     "output_type": "error",
     "traceback": [
      "\u001b[1;31m---------------------------------------------------------------------------\u001b[0m",
      "\u001b[1;31mTypeError\u001b[0m                                 Traceback (most recent call last)",
      "Input \u001b[1;32mIn [238]\u001b[0m, in \u001b[0;36m<cell line: 14>\u001b[1;34m()\u001b[0m\n\u001b[0;32m     11\u001b[0m     data \u001b[38;5;241m=\u001b[39m data[\u001b[38;5;241m~\u001b[39mnp\u001b[38;5;241m.\u001b[39misnan(data)]\n\u001b[0;32m     12\u001b[0m     \u001b[38;5;28;01mreturn\u001b[39;00m n\u001b[38;5;241m*\u001b[39mnp\u001b[38;5;241m.\u001b[39mlog(sigma) \u001b[38;5;241m+\u001b[39m np\u001b[38;5;241m.\u001b[39mnansum((data\u001b[38;5;241m-\u001b[39mmu)\u001b[38;5;241m*\u001b[39m\u001b[38;5;241m*\u001b[39m\u001b[38;5;241m2\u001b[39m)\u001b[38;5;241m/\u001b[39m(\u001b[38;5;241m2\u001b[39m\u001b[38;5;241m*\u001b[39msigma\u001b[38;5;241m*\u001b[39m\u001b[38;5;241m*\u001b[39m\u001b[38;5;241m2\u001b[39m)\n\u001b[1;32m---> 14\u001b[0m mu_init \u001b[38;5;241m=\u001b[39m \u001b[43mnp\u001b[49m\u001b[38;5;241;43m.\u001b[39;49m\u001b[43mnanmean\u001b[49m\u001b[43m(\u001b[49m\u001b[43mdf_1\u001b[49m\u001b[43m)\u001b[49m\n\u001b[0;32m     15\u001b[0m sigma_init \u001b[38;5;241m=\u001b[39m np\u001b[38;5;241m.\u001b[39mnanstd(df_1)\n\u001b[0;32m     16\u001b[0m params_init \u001b[38;5;241m=\u001b[39m [mu_init, sigma_init]\n",
      "File \u001b[1;32m<__array_function__ internals>:180\u001b[0m, in \u001b[0;36mnanmean\u001b[1;34m(*args, **kwargs)\u001b[0m\n",
      "File \u001b[1;32m~\\AppData\\Local\\Programs\\Python\\Python310\\lib\\site-packages\\numpy\\lib\\nanfunctions.py:1047\u001b[0m, in \u001b[0;36mnanmean\u001b[1;34m(a, axis, dtype, out, keepdims, where)\u001b[0m\n\u001b[0;32m   1043\u001b[0m     \u001b[38;5;28;01mraise\u001b[39;00m \u001b[38;5;167;01mTypeError\u001b[39;00m(\u001b[38;5;124m\"\u001b[39m\u001b[38;5;124mIf a is inexact, then out must be inexact\u001b[39m\u001b[38;5;124m\"\u001b[39m)\n\u001b[0;32m   1045\u001b[0m cnt \u001b[38;5;241m=\u001b[39m np\u001b[38;5;241m.\u001b[39msum(\u001b[38;5;241m~\u001b[39mmask, axis\u001b[38;5;241m=\u001b[39maxis, dtype\u001b[38;5;241m=\u001b[39mnp\u001b[38;5;241m.\u001b[39mintp, keepdims\u001b[38;5;241m=\u001b[39mkeepdims,\n\u001b[0;32m   1046\u001b[0m              where\u001b[38;5;241m=\u001b[39mwhere)\n\u001b[1;32m-> 1047\u001b[0m tot \u001b[38;5;241m=\u001b[39m \u001b[43mnp\u001b[49m\u001b[38;5;241;43m.\u001b[39;49m\u001b[43msum\u001b[49m\u001b[43m(\u001b[49m\u001b[43marr\u001b[49m\u001b[43m,\u001b[49m\u001b[43m \u001b[49m\u001b[43maxis\u001b[49m\u001b[38;5;241;43m=\u001b[39;49m\u001b[43maxis\u001b[49m\u001b[43m,\u001b[49m\u001b[43m \u001b[49m\u001b[43mdtype\u001b[49m\u001b[38;5;241;43m=\u001b[39;49m\u001b[43mdtype\u001b[49m\u001b[43m,\u001b[49m\u001b[43m \u001b[49m\u001b[43mout\u001b[49m\u001b[38;5;241;43m=\u001b[39;49m\u001b[43mout\u001b[49m\u001b[43m,\u001b[49m\u001b[43m \u001b[49m\u001b[43mkeepdims\u001b[49m\u001b[38;5;241;43m=\u001b[39;49m\u001b[43mkeepdims\u001b[49m\u001b[43m,\u001b[49m\n\u001b[0;32m   1048\u001b[0m \u001b[43m             \u001b[49m\u001b[43mwhere\u001b[49m\u001b[38;5;241;43m=\u001b[39;49m\u001b[43mwhere\u001b[49m\u001b[43m)\u001b[49m\n\u001b[0;32m   1049\u001b[0m avg \u001b[38;5;241m=\u001b[39m _divide_by_count(tot, cnt, out\u001b[38;5;241m=\u001b[39mout)\n\u001b[0;32m   1051\u001b[0m isbad \u001b[38;5;241m=\u001b[39m (cnt \u001b[38;5;241m==\u001b[39m \u001b[38;5;241m0\u001b[39m)\n",
      "File \u001b[1;32m<__array_function__ internals>:180\u001b[0m, in \u001b[0;36msum\u001b[1;34m(*args, **kwargs)\u001b[0m\n",
      "File \u001b[1;32m~\\AppData\\Local\\Programs\\Python\\Python310\\lib\\site-packages\\numpy\\core\\fromnumeric.py:2296\u001b[0m, in \u001b[0;36msum\u001b[1;34m(a, axis, dtype, out, keepdims, initial, where)\u001b[0m\n\u001b[0;32m   2293\u001b[0m         \u001b[38;5;28;01mreturn\u001b[39;00m out\n\u001b[0;32m   2294\u001b[0m     \u001b[38;5;28;01mreturn\u001b[39;00m res\n\u001b[1;32m-> 2296\u001b[0m \u001b[38;5;28;01mreturn\u001b[39;00m \u001b[43m_wrapreduction\u001b[49m\u001b[43m(\u001b[49m\u001b[43ma\u001b[49m\u001b[43m,\u001b[49m\u001b[43m \u001b[49m\u001b[43mnp\u001b[49m\u001b[38;5;241;43m.\u001b[39;49m\u001b[43madd\u001b[49m\u001b[43m,\u001b[49m\u001b[43m \u001b[49m\u001b[38;5;124;43m'\u001b[39;49m\u001b[38;5;124;43msum\u001b[39;49m\u001b[38;5;124;43m'\u001b[39;49m\u001b[43m,\u001b[49m\u001b[43m \u001b[49m\u001b[43maxis\u001b[49m\u001b[43m,\u001b[49m\u001b[43m \u001b[49m\u001b[43mdtype\u001b[49m\u001b[43m,\u001b[49m\u001b[43m \u001b[49m\u001b[43mout\u001b[49m\u001b[43m,\u001b[49m\u001b[43m \u001b[49m\u001b[43mkeepdims\u001b[49m\u001b[38;5;241;43m=\u001b[39;49m\u001b[43mkeepdims\u001b[49m\u001b[43m,\u001b[49m\n\u001b[0;32m   2297\u001b[0m \u001b[43m                      \u001b[49m\u001b[43minitial\u001b[49m\u001b[38;5;241;43m=\u001b[39;49m\u001b[43minitial\u001b[49m\u001b[43m,\u001b[49m\u001b[43m \u001b[49m\u001b[43mwhere\u001b[49m\u001b[38;5;241;43m=\u001b[39;49m\u001b[43mwhere\u001b[49m\u001b[43m)\u001b[49m\n",
      "File \u001b[1;32m~\\AppData\\Local\\Programs\\Python\\Python310\\lib\\site-packages\\numpy\\core\\fromnumeric.py:86\u001b[0m, in \u001b[0;36m_wrapreduction\u001b[1;34m(obj, ufunc, method, axis, dtype, out, **kwargs)\u001b[0m\n\u001b[0;32m     83\u001b[0m         \u001b[38;5;28;01melse\u001b[39;00m:\n\u001b[0;32m     84\u001b[0m             \u001b[38;5;28;01mreturn\u001b[39;00m reduction(axis\u001b[38;5;241m=\u001b[39maxis, out\u001b[38;5;241m=\u001b[39mout, \u001b[38;5;241m*\u001b[39m\u001b[38;5;241m*\u001b[39mpasskwargs)\n\u001b[1;32m---> 86\u001b[0m \u001b[38;5;28;01mreturn\u001b[39;00m ufunc\u001b[38;5;241m.\u001b[39mreduce(obj, axis, dtype, out, \u001b[38;5;241m*\u001b[39m\u001b[38;5;241m*\u001b[39mpasskwargs)\n",
      "\u001b[1;31mTypeError\u001b[0m: can only concatenate str (not \"float\") to str"
     ]
    }
   ],
   "source": [
    "import numpy as np\n",
    "from scipy.optimize import minimize\n",
    "\n",
    "df_1 = df.loc[(df['time'] >= '1901-01-16') & (df['time'] < '1910-01-16'), :]\n",
    "\n",
    "df_1[df_1 == -9999] = np.nan\n",
    "\n",
    "def neg_log_likelihood(params, data):\n",
    "    mu, sigma = params\n",
    "    n = len(data)\n",
    "    data = data[~np.isnan(data)]\n",
    "    return n*np.log(sigma) + np.nansum((data-mu)**2)/(2*sigma**2)\n",
    "\n",
    "mu_init = np.nanmean(df_1)\n",
    "sigma_init = np.nanstd(df_1)\n",
    "params_init = [mu_init, sigma_init]\n",
    "\n",
    "# Maximize the likelihood function\n",
    "result = minimize(neg_log_likelihood, params_init, args=(df_1,), method='BFGS')\n",
    "\n",
    "# Extract the parameter estimates\n",
    "mu_est, sigma_est = result.x"
   ]
  },
  {
   "cell_type": "code",
   "execution_count": null,
   "id": "dc6b4e31",
   "metadata": {},
   "outputs": [],
   "source": []
  },
  {
   "cell_type": "code",
   "execution_count": null,
   "id": "a1615884",
   "metadata": {},
   "outputs": [],
   "source": []
  },
  {
   "cell_type": "code",
   "execution_count": null,
   "id": "d4d2ce32",
   "metadata": {},
   "outputs": [],
   "source": []
  },
  {
   "cell_type": "code",
   "execution_count": null,
   "id": "2b0ff819",
   "metadata": {},
   "outputs": [],
   "source": []
  },
  {
   "cell_type": "code",
   "execution_count": null,
   "id": "d6357bc9",
   "metadata": {},
   "outputs": [],
   "source": []
  },
  {
   "cell_type": "code",
   "execution_count": null,
   "id": "715f4585",
   "metadata": {},
   "outputs": [],
   "source": []
  },
  {
   "cell_type": "code",
   "execution_count": null,
   "id": "8e21556d",
   "metadata": {},
   "outputs": [],
   "source": []
  },
  {
   "cell_type": "code",
   "execution_count": null,
   "id": "2265ddb0",
   "metadata": {},
   "outputs": [],
   "source": []
  },
  {
   "cell_type": "code",
   "execution_count": null,
   "id": "990ebca3",
   "metadata": {},
   "outputs": [],
   "source": []
  },
  {
   "cell_type": "code",
   "execution_count": null,
   "id": "92ecb006",
   "metadata": {},
   "outputs": [],
   "source": []
  },
  {
   "cell_type": "code",
   "execution_count": null,
   "id": "ddcffa5a",
   "metadata": {},
   "outputs": [],
   "source": []
  },
  {
   "cell_type": "code",
   "execution_count": null,
   "id": "576b3f82",
   "metadata": {},
   "outputs": [],
   "source": []
  },
  {
   "cell_type": "code",
   "execution_count": null,
   "id": "84ffb77d",
   "metadata": {},
   "outputs": [],
   "source": []
  },
  {
   "cell_type": "code",
   "execution_count": null,
   "id": "7d614e40",
   "metadata": {},
   "outputs": [],
   "source": [
    "import pandas as pd\n",
    "import numpy as np\n",
    "\n",
    "# create a DataFrame with some missing temperature data\n",
    "df = pd.DataFrame({'date': ['2020-01-01', '2020-01-02', '2020-01-03', '2020-01-04'],\n",
    "                   'temperature': [32, np.nan, 28, np.nan]})\n",
    "\n",
    "# define a rolling window size\n",
    "window = 2\n",
    "\n",
    "# fill in the missing temperature data with the rolling mean\n",
    "df['temperature'].fillna(df['temperature'].rolling(window).mean(), inplace=True)"
   ]
  },
  {
   "cell_type": "code",
   "execution_count": null,
   "id": "d9f5c9b2",
   "metadata": {},
   "outputs": [],
   "source": [
    "from statsmodels.tsa.holtwinters import ExponentialSmoothing\n",
    "\n",
    "# Create a DataFrame with some missing temperature data\n",
    "df = pd.DataFrame({'date': ['2020-01-01', '2020-01-02', '2020-01-03', '2020-01-04'],\n",
    "                   'temperature': [32, np.nan, 28, np.nan]})\n",
    "\n",
    "# Fit an ExponentialSmoothing model\n",
    "model = ExponentialSmoothing(df['temperature'], trend='add', seasonal='add', seasonal_periods=12).fit()\n",
    "\n",
    "# make predictions\n",
    "predictions = model.predict(start=len(df['temperature'])-1, end=len(df['temperature']))\n",
    "\n",
    "# fill missing temperature data with the predicted values\n",
    "df['temperature'].fillna(predictions, inplace=True)"
   ]
  },
  {
   "cell_type": "code",
   "execution_count": null,
   "id": "743810f1",
   "metadata": {},
   "outputs": [],
   "source": [
    "!pip install fbprophet\n",
    "\n",
    "from fbprophet import Prophet\n",
    "import pandas as pd\n",
    "\n",
    "# Create a DataFrame with historical temperature data\n",
    "df = pd.DataFrame({'ds': ['2020-01-01', '2020-01-02', '2020-01-03', '2020-01-04'],\n",
    "                   'y': [32, np.nan, 28, np.nan]})\n",
    "\n",
    "# Initialize the Prophet model\n",
    "m = Prophet()\n",
    "\n",
    "# Fit the model to the historical data\n",
    "m.fit(df)\n",
    "\n",
    "# Create a DataFrame for future dates\n",
    "future = m.make_future_dataframe(periods=1, freq='D')\n",
    "\n",
    "# Make predictions for the future dates\n",
    "forecast = m.predict(future)\n",
    "\n",
    "# Extract the predicted values for the temperature\n",
    "predicted_temperature = forecast[['ds', 'yhat']].tail(1)\n",
    "\n",
    "# Fill in the missing temperature data with the predicted values\n",
    "df['y'].fillna(predicted_temperature['yhat'].values[0], inplace=True)"
   ]
  },
  {
   "cell_type": "code",
   "execution_count": null,
   "id": "c8ba865e",
   "metadata": {},
   "outputs": [],
   "source": [
    "import pystan\n",
    "import pandas as pd\n",
    "\n",
    "# Load the data into a pandas DataFrame\n",
    "df = pd.read_csv(\"data.csv\")\n",
    "\n",
    "# Define the Stan model\n",
    "model_code = \"\"\"\n",
    "data {\n",
    "    int<lower=0> N;\n",
    "    int<lower=0> K;\n",
    "    int<lower=1,upper=K> x[N];\n",
    "    vector[K] mu;\n",
    "    matrix[K,K] Sigma;\n",
    "}\n",
    "parameters {\n",
    "    vector[K] beta;\n",
    "}\n",
    "model {\n",
    "    for (n in 1:N)\n",
    "        x[n] ~ categorical(mu[x[n]]);\n",
    "    beta ~ multi_normal(mu, Sigma);\n",
    "}\n",
    "\"\"\"\n",
    "\n",
    "# Compile the model\n",
    "model = pystan.StanModel(model_code=model_code)\n",
    "\n",
    "# Prepare the data for the model\n",
    "data = {'N': df.shape[0],\n",
    "        'K': df.shape[1],\n",
    "        'x': df.values+1,  # missing values are replaced with -1\n",
    "        'mu': df.mean(),\n",
    "        'Sigma': df.cov()}\n",
    "\n",
    "# Fit the model\n",
    "fit = model.sampling(data=data, iter=1000, chains=4)\n",
    "\n",
    "# Extract the parameter estimates\n",
    "beta_estimates = fit.extract()['beta']"
   ]
  },
  {
   "cell_type": "code",
   "execution_count": null,
   "id": "6e7d307e",
   "metadata": {},
   "outputs": [],
   "source": [
    "import numpy as np\n",
    "from scipy.optimize import minimize\n",
    "\n",
    "# Load the data into a numpy array\n",
    "data = np.loadtxt(\"data.txt\")\n",
    "\n",
    "# Replace missing values with NaNs\n",
    "data[data == -9999] = np.nan\n",
    "\n",
    "# Define a function to calculate the negative log-likelihood\n",
    "def neg_log_likelihood(params, data):\n",
    "    mu, sigma = params\n",
    "    n = len(data)\n",
    "    data = data[~np.isnan(data)]\n",
    "    return n*np.log(sigma) + np.nansum((data-mu)**2)/(2*sigma**2)\n",
    "\n",
    "# Initialize the parameter estimates\n",
    "mu_init = np.nanmean(data)\n",
    "sigma_init = np.nanstd(data)\n",
    "params_init = [mu_init, sigma_init]\n",
    "\n",
    "# Maximize the likelihood function\n",
    "result = minimize(neg_log_likelihood, params_init, args=(data,), method='BFGS')\n",
    "\n",
    "# Extract the parameter estimates\n",
    "mu_est, sigma_est = result.x"
   ]
  }
 ],
 "metadata": {
  "kernelspec": {
   "display_name": "Python 3 (ipykernel)",
   "language": "python",
   "name": "python3"
  },
  "language_info": {
   "codemirror_mode": {
    "name": "ipython",
    "version": 3
   },
   "file_extension": ".py",
   "mimetype": "text/x-python",
   "name": "python",
   "nbconvert_exporter": "python",
   "pygments_lexer": "ipython3",
   "version": "3.10.5"
  }
 },
 "nbformat": 4,
 "nbformat_minor": 5
}
