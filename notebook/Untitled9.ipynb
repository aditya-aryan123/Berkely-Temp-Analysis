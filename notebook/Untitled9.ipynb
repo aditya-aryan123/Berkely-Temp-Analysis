{
 "cells": [
  {
   "cell_type": "code",
   "execution_count": 1,
   "id": "35996021",
   "metadata": {},
   "outputs": [],
   "source": [
    "import pandas as pd\n",
    "import numpy as np\n",
    "import os.path as osp\n",
    "from tqdm.notebook import tqdm\n",
    "\n",
    "import tensorflow\n",
    "from tensorflow import keras\n",
    "from keras.models import Sequential\n",
    "from keras.layers import Dense, Activation, LSTM\n",
    "from keras.callbacks import EarlyStopping\n",
    "\n",
    "import torch\n",
    "import torch.nn as nn\n",
    "from torch.autograd import Variable \n",
    "import torch.optim as optim\n",
    "from torch.utils.data import Dataset, DataLoader\n",
    "\n",
    "from sklearn.preprocessing import FunctionTransformer\n",
    "from sklearn.preprocessing import StandardScaler\n",
    "from sklearn.model_selection import train_test_split"
   ]
  },
  {
   "cell_type": "code",
   "execution_count": 2,
   "id": "e0e3194f",
   "metadata": {},
   "outputs": [
    {
     "data": {
      "text/html": [
       "<div>\n",
       "<style scoped>\n",
       "    .dataframe tbody tr th:only-of-type {\n",
       "        vertical-align: middle;\n",
       "    }\n",
       "\n",
       "    .dataframe tbody tr th {\n",
       "        vertical-align: top;\n",
       "    }\n",
       "\n",
       "    .dataframe thead th {\n",
       "        text-align: right;\n",
       "    }\n",
       "</style>\n",
       "<table border=\"1\" class=\"dataframe\">\n",
       "  <thead>\n",
       "    <tr style=\"text-align: right;\">\n",
       "      <th></th>\n",
       "      <th>time</th>\n",
       "      <th>lat</th>\n",
       "      <th>lon</th>\n",
       "      <th>timeseries-tas-monthly-mean</th>\n",
       "      <th>year</th>\n",
       "      <th>month</th>\n",
       "      <th>dayofyear</th>\n",
       "      <th>quarter</th>\n",
       "    </tr>\n",
       "  </thead>\n",
       "  <tbody>\n",
       "    <tr>\n",
       "      <th>0</th>\n",
       "      <td>1901-01-16</td>\n",
       "      <td>26.25</td>\n",
       "      <td>-122.75</td>\n",
       "      <td>16.322001</td>\n",
       "      <td>1901</td>\n",
       "      <td>1</td>\n",
       "      <td>16</td>\n",
       "      <td>1</td>\n",
       "    </tr>\n",
       "    <tr>\n",
       "      <th>1</th>\n",
       "      <td>1901-01-16</td>\n",
       "      <td>26.25</td>\n",
       "      <td>-122.25</td>\n",
       "      <td>16.322001</td>\n",
       "      <td>1901</td>\n",
       "      <td>1</td>\n",
       "      <td>16</td>\n",
       "      <td>1</td>\n",
       "    </tr>\n",
       "    <tr>\n",
       "      <th>2</th>\n",
       "      <td>1901-01-16</td>\n",
       "      <td>26.25</td>\n",
       "      <td>-121.75</td>\n",
       "      <td>16.322001</td>\n",
       "      <td>1901</td>\n",
       "      <td>1</td>\n",
       "      <td>16</td>\n",
       "      <td>1</td>\n",
       "    </tr>\n",
       "    <tr>\n",
       "      <th>3</th>\n",
       "      <td>1901-01-16</td>\n",
       "      <td>26.25</td>\n",
       "      <td>-121.25</td>\n",
       "      <td>16.322001</td>\n",
       "      <td>1901</td>\n",
       "      <td>1</td>\n",
       "      <td>16</td>\n",
       "      <td>1</td>\n",
       "    </tr>\n",
       "    <tr>\n",
       "      <th>4</th>\n",
       "      <td>1901-01-16</td>\n",
       "      <td>26.25</td>\n",
       "      <td>-120.75</td>\n",
       "      <td>16.322001</td>\n",
       "      <td>1901</td>\n",
       "      <td>1</td>\n",
       "      <td>16</td>\n",
       "      <td>1</td>\n",
       "    </tr>\n",
       "  </tbody>\n",
       "</table>\n",
       "</div>"
      ],
      "text/plain": [
       "         time    lat     lon  timeseries-tas-monthly-mean  year  month  \\\n",
       "0  1901-01-16  26.25 -122.75                    16.322001  1901      1   \n",
       "1  1901-01-16  26.25 -122.25                    16.322001  1901      1   \n",
       "2  1901-01-16  26.25 -121.75                    16.322001  1901      1   \n",
       "3  1901-01-16  26.25 -121.25                    16.322001  1901      1   \n",
       "4  1901-01-16  26.25 -120.75                    16.322001  1901      1   \n",
       "\n",
       "   dayofyear  quarter  \n",
       "0         16        1  \n",
       "1         16        1  \n",
       "2         16        1  \n",
       "3         16        1  \n",
       "4         16        1  "
      ]
     },
     "execution_count": 2,
     "metadata": {},
     "output_type": "execute_result"
    }
   ],
   "source": [
    "df = pd.read_csv('Updated_CRU.csv')\n",
    "df.head()"
   ]
  },
  {
   "cell_type": "code",
   "execution_count": 3,
   "id": "68cfa5df",
   "metadata": {},
   "outputs": [
    {
     "data": {
      "text/plain": [
       "(6644352, 8)"
      ]
     },
     "execution_count": 3,
     "metadata": {},
     "output_type": "execute_result"
    }
   ],
   "source": [
    "df.shape"
   ]
  },
  {
   "cell_type": "code",
   "execution_count": 4,
   "id": "0bbd29dd",
   "metadata": {},
   "outputs": [],
   "source": [
    "df_ft = df[['time', 'timeseries-tas-monthly-mean']].copy()"
   ]
  },
  {
   "cell_type": "code",
   "execution_count": 5,
   "id": "f1836ec2",
   "metadata": {},
   "outputs": [],
   "source": [
    "df_ft['time'] = pd.to_datetime(df_ft['time'])\n",
    "df_ft.set_index('time', inplace=True)\n",
    "df_ft.rename(columns={'timeseries-tas-monthly-mean': 'temperature'}, inplace=True)\n",
    "df_ft = df_ft['temperature'].resample('D').mean()\n",
    "df_ft = df_ft.reset_index()"
   ]
  },
  {
   "cell_type": "code",
   "execution_count": 6,
   "id": "a5ffa2a1",
   "metadata": {},
   "outputs": [
    {
     "data": {
      "text/plain": [
       "(44165, 2)"
      ]
     },
     "execution_count": 6,
     "metadata": {},
     "output_type": "execute_result"
    }
   ],
   "source": [
    "df_ft.shape"
   ]
  },
  {
   "cell_type": "code",
   "execution_count": 7,
   "id": "6dbf00f7",
   "metadata": {},
   "outputs": [
    {
     "data": {
      "text/html": [
       "<div>\n",
       "<style scoped>\n",
       "    .dataframe tbody tr th:only-of-type {\n",
       "        vertical-align: middle;\n",
       "    }\n",
       "\n",
       "    .dataframe tbody tr th {\n",
       "        vertical-align: top;\n",
       "    }\n",
       "\n",
       "    .dataframe thead th {\n",
       "        text-align: right;\n",
       "    }\n",
       "</style>\n",
       "<table border=\"1\" class=\"dataframe\">\n",
       "  <thead>\n",
       "    <tr style=\"text-align: right;\">\n",
       "      <th></th>\n",
       "      <th>time</th>\n",
       "      <th>temperature</th>\n",
       "    </tr>\n",
       "  </thead>\n",
       "  <tbody>\n",
       "    <tr>\n",
       "      <th>0</th>\n",
       "      <td>1901-01-16</td>\n",
       "      <td>2.729315</td>\n",
       "    </tr>\n",
       "    <tr>\n",
       "      <th>1</th>\n",
       "      <td>1901-01-17</td>\n",
       "      <td>NaN</td>\n",
       "    </tr>\n",
       "    <tr>\n",
       "      <th>2</th>\n",
       "      <td>1901-01-18</td>\n",
       "      <td>NaN</td>\n",
       "    </tr>\n",
       "    <tr>\n",
       "      <th>3</th>\n",
       "      <td>1901-01-19</td>\n",
       "      <td>NaN</td>\n",
       "    </tr>\n",
       "    <tr>\n",
       "      <th>4</th>\n",
       "      <td>1901-01-20</td>\n",
       "      <td>NaN</td>\n",
       "    </tr>\n",
       "  </tbody>\n",
       "</table>\n",
       "</div>"
      ],
      "text/plain": [
       "        time  temperature\n",
       "0 1901-01-16     2.729315\n",
       "1 1901-01-17          NaN\n",
       "2 1901-01-18          NaN\n",
       "3 1901-01-19          NaN\n",
       "4 1901-01-20          NaN"
      ]
     },
     "execution_count": 7,
     "metadata": {},
     "output_type": "execute_result"
    }
   ],
   "source": [
    "df_ft.head()"
   ]
  },
  {
   "cell_type": "code",
   "execution_count": 8,
   "id": "332b468c",
   "metadata": {},
   "outputs": [],
   "source": [
    "df_ft['year'] = df_ft['time'].dt.year\n",
    "df_ft[\"week\"] = df_ft['time'].dt.isocalendar().week\n",
    "df_ft['month'] = df_ft['time'].dt.month\n",
    "df_ft['quarter'] = df_ft['time'].dt.quarter\n",
    "df_ft['dayofyear'] = df_ft['time'].dt.dayofyear\n",
    "df_ft['dayofweek'] = df_ft['time'].dt.dayofweek\n",
    "df_ft[\"is_month_start\"] = df_ft['time'].dt.is_month_start\n",
    "df_ft[\"is_month_end\"] = df_ft['time'].dt.is_month_end\n",
    "df_ft[\"is_quarter_start\"] = df_ft['time'].dt.is_quarter_start\n",
    "df_ft[\"is_quarter_end\"] = df_ft['time'].dt.is_quarter_end\n",
    "df_ft[\"is_year_start\"] = df_ft['time'].dt.is_year_start\n",
    "df_ft[\"is_year_end\"] = df_ft['time'].dt.is_year_end\n",
    "df_ft[\"days_in_month\"] = df_ft['time'].dt.days_in_month\n",
    "df_ft[\"is_leap_year\"] = df_ft['time'].dt.is_leap_year\n",
    "df_ft['is_weekend'] = np.where(df_ft['dayofweek'].isin([5, 6]), 1, 0)"
   ]
  },
  {
   "cell_type": "code",
   "execution_count": 9,
   "id": "b73c688a",
   "metadata": {},
   "outputs": [],
   "source": [
    "def sin_transformer(period):\n",
    "    return FunctionTransformer(lambda x: np.sin(x / period * 2 * np.pi))\n",
    "\n",
    "\n",
    "def cos_transformer(period):\n",
    "    return FunctionTransformer(lambda x: np.cos(x / period * 2 * np.pi))\n",
    "\n",
    "\n",
    "df_ft[\"sin_week\"] = sin_transformer(7).fit_transform(df_ft['week'])\n",
    "df_ft[\"sin_month\"] = sin_transformer(12).fit_transform(df_ft['month'])\n",
    "df_ft[\"sin_quarter\"] = sin_transformer(4).fit_transform(df_ft['quarter'])\n",
    "df_ft[\"sin_dayofyear\"] = sin_transformer(365).fit_transform(df_ft['dayofyear'])\n",
    "df_ft['sin_day_of_week'] = sin_transformer(7).fit_transform(df_ft['dayofweek'])\n",
    "\n",
    "df_ft[\"cos_week\"] = cos_transformer(7).fit_transform(df_ft['week'])\n",
    "df_ft[\"cos_month\"] = cos_transformer(12).fit_transform(df_ft['month'])\n",
    "df_ft[\"cos_quarter\"] = cos_transformer(4).fit_transform(df_ft['quarter'])\n",
    "df_ft[\"cos_dayofyear\"] = cos_transformer(365).fit_transform(df_ft['dayofyear'])\n",
    "df_ft['cos_day_of_week'] = cos_transformer(7).fit_transform(df_ft['dayofweek'])"
   ]
  },
  {
   "cell_type": "code",
   "execution_count": 42,
   "id": "63dac073",
   "metadata": {},
   "outputs": [],
   "source": [
    "train_series = df_ft.loc[(df_ft['time'] >= '1900-01-16') & (df_ft['time'] < '2010-01-16'), :]\n",
    "test_series = df_ft.loc[(df_ft['time'] >= '2010-01-16'), :]"
   ]
  },
  {
   "cell_type": "code",
   "execution_count": 43,
   "id": "14851a17",
   "metadata": {},
   "outputs": [],
   "source": [
    "X = train_series.drop(['time', 'temperature'], axis=1)\n",
    "y = train_series['temperature'].values\n",
    "X_train, X_test, y_train, y_test = train_test_split(X, y, test_size=0.2, random_state=1)"
   ]
  },
  {
   "cell_type": "code",
   "execution_count": 44,
   "id": "e8de81ed",
   "metadata": {},
   "outputs": [],
   "source": [
    "train_scaler = StandardScaler().fit(X_train)\n",
    "target_scaler = StandardScaler().fit(y_train.reshape(-1, 1))\n",
    "\n",
    "X_train = train_scaler.transform(X_train)\n",
    "y_train = target_scaler.transform(y_train.reshape(-1, 1))\n",
    "\n",
    "X_val = train_scaler.transform(X_test)\n",
    "y_val = target_scaler.transform(y_test.reshape(-1, 1))"
   ]
  },
  {
   "cell_type": "code",
   "execution_count": 45,
   "id": "afcccf6d",
   "metadata": {},
   "outputs": [
    {
     "name": "stderr",
     "output_type": "stream",
     "text": [
      "C:\\Users\\lenovo\\AppData\\Local\\Temp\\ipykernel_2820\\258293069.py:1: SettingWithCopyWarning: \n",
      "A value is trying to be set on a copy of a slice from a DataFrame\n",
      "\n",
      "See the caveats in the documentation: https://pandas.pydata.org/pandas-docs/stable/user_guide/indexing.html#returning-a-view-versus-a-copy\n",
      "  train_series.drop('time', axis=1, inplace=True)\n",
      "C:\\Users\\lenovo\\AppData\\Local\\Temp\\ipykernel_2820\\258293069.py:2: SettingWithCopyWarning: \n",
      "A value is trying to be set on a copy of a slice from a DataFrame\n",
      "\n",
      "See the caveats in the documentation: https://pandas.pydata.org/pandas-docs/stable/user_guide/indexing.html#returning-a-view-versus-a-copy\n",
      "  test_series.drop('time', axis=1, inplace=True)\n"
     ]
    }
   ],
   "source": [
    "train_series.drop('time', axis=1, inplace=True)\n",
    "test_series.drop('time', axis=1, inplace=True)\n",
    "\n",
    "scaler = StandardScaler()\n",
    "scaler.fit(train_series)\n",
    "scaled_train = scaler.transform(train_series)\n",
    "scaled_test = scaler.transform(test_series)\n",
    "\n",
    "\n",
    "def df_to_x_y(df, window_size=1):\n",
    "    X = []\n",
    "    y = []\n",
    "    for i in range(len(df) - window_size):\n",
    "        row = [[a] for a in df[i: i + window_size, 0]]\n",
    "        X.append(row)\n",
    "        label = df[i + window_size, 0]\n",
    "        y.append(label)\n",
    "    return np.array(X), np.array(y)"
   ]
  },
  {
   "cell_type": "code",
   "execution_count": 46,
   "id": "f1e7a1ac",
   "metadata": {},
   "outputs": [],
   "source": [
    "time_steps = 60\n",
    "X_1, y_1 = df_to_x_y(scaled_train, time_steps)"
   ]
  },
  {
   "cell_type": "code",
   "execution_count": 47,
   "id": "92f1e340",
   "metadata": {},
   "outputs": [
    {
     "name": "stdout",
     "output_type": "stream",
     "text": [
      "(39737, 60, 1) (39737,)\n"
     ]
    }
   ],
   "source": [
    "print(X_1.shape, y_1.shape)"
   ]
  },
  {
   "cell_type": "code",
   "execution_count": 48,
   "id": "572ea3dd",
   "metadata": {},
   "outputs": [
    {
     "data": {
      "text/plain": [
       "31789.600000000002"
      ]
     },
     "execution_count": 48,
     "metadata": {},
     "output_type": "execute_result"
    }
   ],
   "source": [
    "39737 * 0.8"
   ]
  },
  {
   "cell_type": "code",
   "execution_count": 49,
   "id": "d30664b9",
   "metadata": {},
   "outputs": [],
   "source": [
    "X_train, y_train = X_1[:31790], y_1[:31790]\n",
    "X_test, y_test = X_1[31790:], y_1[31790:]"
   ]
  },
  {
   "cell_type": "code",
   "execution_count": 10,
   "id": "6081d794",
   "metadata": {
    "scrolled": true
   },
   "outputs": [
    {
     "name": "stderr",
     "output_type": "stream",
     "text": [
      "C:\\Users\\lenovo\\AppData\\Local\\Temp\\ipykernel_2820\\531871185.py:1: UserWarning: Failed to initialize NumPy: module compiled against API version 0x10 but this version of numpy is 0xf (Triggered internally at  ..\\torch\\csrc\\utils\\tensor_numpy.cpp:68.)\n",
      "  X_train_tensors = Variable(torch.Tensor(X_train))\n"
     ]
    }
   ],
   "source": [
    "X_train_tensors = Variable(torch.Tensor(X_train))\n",
    "X_test_tensors = Variable(torch.Tensor(X_val))\n",
    "\n",
    "y_train_tensors = Variable(torch.Tensor(y_train))\n",
    "y_test_tensors = Variable(torch.Tensor(y_val)) "
   ]
  },
  {
   "cell_type": "code",
   "execution_count": 11,
   "id": "6c7ee651",
   "metadata": {},
   "outputs": [],
   "source": [
    "X_train_tensors_final = torch.reshape(X_train_tensors,   (X_train_tensors.shape[0], 1, X_train_tensors.shape[1]))\n",
    "X_test_tensors_final = torch.reshape(X_test_tensors,  (X_test_tensors.shape[0], 1, X_test_tensors.shape[1])) "
   ]
  },
  {
   "cell_type": "code",
   "execution_count": 12,
   "id": "da07c6bc",
   "metadata": {
    "scrolled": true
   },
   "outputs": [
    {
     "name": "stdout",
     "output_type": "stream",
     "text": [
      "Training Shape torch.Size([1046, 1, 25]) torch.Size([1046, 1])\n",
      "Testing Shape torch.Size([262, 1, 25]) torch.Size([262, 1])\n"
     ]
    }
   ],
   "source": [
    "print(\"Training Shape\", X_train_tensors_final.shape, y_train_tensors.shape)\n",
    "print(\"Testing Shape\", X_test_tensors_final.shape, y_test_tensors.shape) "
   ]
  },
  {
   "cell_type": "code",
   "execution_count": 13,
   "id": "60261fda",
   "metadata": {},
   "outputs": [],
   "source": [
    "class LSTM1(nn.Module):\n",
    "    def __init__(self, num_classes, input_size, hidden_size, num_layers, seq_length):\n",
    "        super(LSTM1, self).__init__()\n",
    "        self.num_classes = num_classes #number of classes\n",
    "        self.num_layers = num_layers #number of layers\n",
    "        self.input_size = input_size #input size\n",
    "        self.hidden_size = hidden_size #hidden state\n",
    "        self.seq_length = seq_length #sequence length\n",
    "\n",
    "        self.lstm = nn.LSTM(input_size=input_size, hidden_size=hidden_size,\n",
    "                          num_layers=num_layers, batch_first=True) #lstm\n",
    "        self.fc_1 =  nn.Linear(hidden_size, 128) #fully connected 1\n",
    "        self.fc = nn.Linear(128, num_classes) #fully connected last layer\n",
    "\n",
    "        self.relu = nn.ReLU()\n",
    "    \n",
    "    def forward(self,x):\n",
    "        h_0 = Variable(torch.zeros(self.num_layers, x.size(0), self.hidden_size)) #hidden state\n",
    "        c_0 = Variable(torch.zeros(self.num_layers, x.size(0), self.hidden_size)) #internal state\n",
    "        # Propagate input through LSTM\n",
    "        output, (hn, cn) = self.lstm(x, (h_0, c_0)) #lstm with input, hidden, and internal state\n",
    "        hn = hn.view(-1, self.hidden_size) #reshaping the data for Dense layer next\n",
    "        out = self.relu(hn)\n",
    "        out = self.fc_1(out) #first Dense\n",
    "        out = self.relu(out) #relu\n",
    "        out = self.fc(out) #Final Output\n",
    "        return out"
   ]
  },
  {
   "cell_type": "code",
   "execution_count": 14,
   "id": "164e55c0",
   "metadata": {},
   "outputs": [],
   "source": [
    "num_epochs = 1000\n",
    "learning_rate = 0.001\n",
    "\n",
    "input_size = 25\n",
    "hidden_size = 2\n",
    "num_layers = 1\n",
    "\n",
    "output_size = 1"
   ]
  },
  {
   "cell_type": "code",
   "execution_count": 15,
   "id": "afb90ce5",
   "metadata": {},
   "outputs": [],
   "source": [
    "lstm1 = LSTM1(output_size, input_size, hidden_size, num_layers, X_train_tensors_final.shape[1])"
   ]
  },
  {
   "cell_type": "code",
   "execution_count": 16,
   "id": "a39fab89",
   "metadata": {},
   "outputs": [],
   "source": [
    "criterion = torch.nn.MSELoss()    # mean-squared error for regression\n",
    "optimizer = torch.optim.Adam(lstm1.parameters(), lr=learning_rate) "
   ]
  },
  {
   "cell_type": "code",
   "execution_count": 17,
   "id": "31b86d1d",
   "metadata": {},
   "outputs": [
    {
     "name": "stdout",
     "output_type": "stream",
     "text": [
      "Epoch: 0, loss: 1.01582\n",
      "Epoch: 100, loss: 0.39306\n",
      "Epoch: 200, loss: 0.08312\n",
      "Epoch: 300, loss: 0.04919\n",
      "Epoch: 400, loss: 0.03550\n",
      "Epoch: 500, loss: 0.02697\n",
      "Epoch: 600, loss: 0.02303\n",
      "Epoch: 700, loss: 0.02038\n",
      "Epoch: 800, loss: 0.01915\n",
      "Epoch: 900, loss: 0.01857\n"
     ]
    }
   ],
   "source": [
    "for epoch in range(num_epochs):\n",
    "    outputs = lstm1.forward(X_train_tensors_final) #forward pass\n",
    "    optimizer.zero_grad() #caluclate the gradient, manually setting to 0\n",
    " \n",
    "    # obtain the loss function\n",
    "    loss = criterion(outputs, y_train_tensors)\n",
    " \n",
    "    loss.backward() #calculates the loss of the loss function\n",
    " \n",
    "    optimizer.step() #improve from loss, i.e backprop\n",
    "    if epoch % 100 == 0:\n",
    "        print(\"Epoch: %d, loss: %1.5f\" % (epoch, loss.item())) "
   ]
  },
  {
   "cell_type": "code",
   "execution_count": null,
   "id": "ea3f9a88",
   "metadata": {},
   "outputs": [],
   "source": []
  },
  {
   "cell_type": "code",
   "execution_count": null,
   "id": "eb79f4d9",
   "metadata": {},
   "outputs": [],
   "source": []
  },
  {
   "cell_type": "code",
   "execution_count": null,
   "id": "86a6858d",
   "metadata": {},
   "outputs": [],
   "source": []
  },
  {
   "cell_type": "code",
   "execution_count": null,
   "id": "915c4af6",
   "metadata": {},
   "outputs": [],
   "source": []
  },
  {
   "cell_type": "code",
   "execution_count": null,
   "id": "b2153a50",
   "metadata": {},
   "outputs": [],
   "source": []
  },
  {
   "cell_type": "code",
   "execution_count": null,
   "id": "95750ec3",
   "metadata": {},
   "outputs": [],
   "source": []
  }
 ],
 "metadata": {
  "kernelspec": {
   "display_name": "Python 3 (ipykernel)",
   "language": "python",
   "name": "python3"
  },
  "language_info": {
   "codemirror_mode": {
    "name": "ipython",
    "version": 3
   },
   "file_extension": ".py",
   "mimetype": "text/x-python",
   "name": "python",
   "nbconvert_exporter": "python",
   "pygments_lexer": "ipython3",
   "version": "3.10.5"
  }
 },
 "nbformat": 4,
 "nbformat_minor": 5
}
