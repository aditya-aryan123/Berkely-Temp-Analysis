{
 "cells": [
  {
   "cell_type": "code",
   "execution_count": 32,
   "id": "073bec5a",
   "metadata": {},
   "outputs": [],
   "source": [
    "import pandas as pd\n",
    "import torch\n",
    "import torch.nn as nn\n",
    "from sklearn.model_selection import train_test_split\n",
    "from sklearn.preprocessing import StandardScaler"
   ]
  },
  {
   "cell_type": "code",
   "execution_count": 33,
   "id": "0aef198e",
   "metadata": {},
   "outputs": [
    {
     "data": {
      "text/html": [
       "<div>\n",
       "<style scoped>\n",
       "    .dataframe tbody tr th:only-of-type {\n",
       "        vertical-align: middle;\n",
       "    }\n",
       "\n",
       "    .dataframe tbody tr th {\n",
       "        vertical-align: top;\n",
       "    }\n",
       "\n",
       "    .dataframe thead th {\n",
       "        text-align: right;\n",
       "    }\n",
       "</style>\n",
       "<table border=\"1\" class=\"dataframe\">\n",
       "  <thead>\n",
       "    <tr style=\"text-align: right;\">\n",
       "      <th></th>\n",
       "      <th>time</th>\n",
       "      <th>lat</th>\n",
       "      <th>lon</th>\n",
       "      <th>timeseries-tas-monthly-mean</th>\n",
       "      <th>year</th>\n",
       "      <th>month</th>\n",
       "      <th>dayofyear</th>\n",
       "      <th>quarter</th>\n",
       "    </tr>\n",
       "  </thead>\n",
       "  <tbody>\n",
       "    <tr>\n",
       "      <th>0</th>\n",
       "      <td>1901-01-16</td>\n",
       "      <td>26.25</td>\n",
       "      <td>-122.75</td>\n",
       "      <td>16.322001</td>\n",
       "      <td>1901</td>\n",
       "      <td>1</td>\n",
       "      <td>16</td>\n",
       "      <td>1</td>\n",
       "    </tr>\n",
       "    <tr>\n",
       "      <th>1</th>\n",
       "      <td>1901-01-16</td>\n",
       "      <td>26.25</td>\n",
       "      <td>-122.25</td>\n",
       "      <td>16.322001</td>\n",
       "      <td>1901</td>\n",
       "      <td>1</td>\n",
       "      <td>16</td>\n",
       "      <td>1</td>\n",
       "    </tr>\n",
       "    <tr>\n",
       "      <th>2</th>\n",
       "      <td>1901-01-16</td>\n",
       "      <td>26.25</td>\n",
       "      <td>-121.75</td>\n",
       "      <td>16.322001</td>\n",
       "      <td>1901</td>\n",
       "      <td>1</td>\n",
       "      <td>16</td>\n",
       "      <td>1</td>\n",
       "    </tr>\n",
       "    <tr>\n",
       "      <th>3</th>\n",
       "      <td>1901-01-16</td>\n",
       "      <td>26.25</td>\n",
       "      <td>-121.25</td>\n",
       "      <td>16.322001</td>\n",
       "      <td>1901</td>\n",
       "      <td>1</td>\n",
       "      <td>16</td>\n",
       "      <td>1</td>\n",
       "    </tr>\n",
       "    <tr>\n",
       "      <th>4</th>\n",
       "      <td>1901-01-16</td>\n",
       "      <td>26.25</td>\n",
       "      <td>-120.75</td>\n",
       "      <td>16.322001</td>\n",
       "      <td>1901</td>\n",
       "      <td>1</td>\n",
       "      <td>16</td>\n",
       "      <td>1</td>\n",
       "    </tr>\n",
       "  </tbody>\n",
       "</table>\n",
       "</div>"
      ],
      "text/plain": [
       "         time    lat     lon  timeseries-tas-monthly-mean  year  month  \\\n",
       "0  1901-01-16  26.25 -122.75                    16.322001  1901      1   \n",
       "1  1901-01-16  26.25 -122.25                    16.322001  1901      1   \n",
       "2  1901-01-16  26.25 -121.75                    16.322001  1901      1   \n",
       "3  1901-01-16  26.25 -121.25                    16.322001  1901      1   \n",
       "4  1901-01-16  26.25 -120.75                    16.322001  1901      1   \n",
       "\n",
       "   dayofyear  quarter  \n",
       "0         16        1  \n",
       "1         16        1  \n",
       "2         16        1  \n",
       "3         16        1  \n",
       "4         16        1  "
      ]
     },
     "execution_count": 33,
     "metadata": {},
     "output_type": "execute_result"
    }
   ],
   "source": [
    "df = pd.read_csv('Updated_CRU.csv')\n",
    "df.head()"
   ]
  },
  {
   "cell_type": "code",
   "execution_count": 34,
   "id": "60b52c80",
   "metadata": {},
   "outputs": [
    {
     "data": {
      "text/plain": [
       "(6644352, 8)"
      ]
     },
     "execution_count": 34,
     "metadata": {},
     "output_type": "execute_result"
    }
   ],
   "source": [
    "df.shape"
   ]
  },
  {
   "cell_type": "code",
   "execution_count": 35,
   "id": "59c910df",
   "metadata": {},
   "outputs": [],
   "source": [
    "df_copy = df.copy()"
   ]
  },
  {
   "cell_type": "code",
   "execution_count": 36,
   "id": "cc55064c",
   "metadata": {},
   "outputs": [],
   "source": [
    "df_copy['time'] = pd.to_datetime(df_copy['time'])"
   ]
  },
  {
   "cell_type": "code",
   "execution_count": 37,
   "id": "5e3cce46",
   "metadata": {},
   "outputs": [],
   "source": [
    "df_copy.set_index('time', inplace=True)"
   ]
  },
  {
   "cell_type": "code",
   "execution_count": 38,
   "id": "03d4d00a",
   "metadata": {},
   "outputs": [],
   "source": [
    "df_copy = df_copy['timeseries-tas-monthly-mean'].resample('M').mean()"
   ]
  },
  {
   "cell_type": "code",
   "execution_count": 39,
   "id": "6fc20260",
   "metadata": {},
   "outputs": [],
   "source": [
    "df_copy = df_copy.reset_index()"
   ]
  },
  {
   "cell_type": "code",
   "execution_count": 40,
   "id": "93fdf6cf",
   "metadata": {},
   "outputs": [],
   "source": [
    "df_copy['year'] = df_copy['time'].dt.year\n",
    "df_copy['month'] = df_copy['time'].dt.month\n",
    "df_copy['quarter'] = df_copy['time'].dt.quarter\n",
    "df_copy['season'] = df_copy['month'] %12 // 3 + 1"
   ]
  },
  {
   "cell_type": "code",
   "execution_count": 41,
   "id": "d811fe12",
   "metadata": {},
   "outputs": [],
   "source": [
    "X = df_copy.drop(['timeseries-tas-monthly-mean', 'time'], axis=1)\n",
    "y = df_copy['timeseries-tas-monthly-mean']\n",
    "\n",
    "X_train, X_test, y_train, y_test = train_test_split(X, y, test_size=0.2, random_state=1)"
   ]
  },
  {
   "cell_type": "code",
   "execution_count": 48,
   "id": "22ba9f80",
   "metadata": {},
   "outputs": [
    {
     "data": {
      "text/plain": [
       "((1161, 4), (1161,))"
      ]
     },
     "execution_count": 48,
     "metadata": {},
     "output_type": "execute_result"
    }
   ],
   "source": [
    "X_train.shape, y_train.shape"
   ]
  },
  {
   "cell_type": "code",
   "execution_count": 50,
   "id": "4fea80c5",
   "metadata": {},
   "outputs": [],
   "source": [
    "feature_scaler = StandardScaler().fit(X_train)\n",
    "target_scaler = StandardScaler().fit(y_train.values.reshape(-1, 1))\n",
    "\n",
    "X_train_scaled = feature_scaler.transform(X_train)\n",
    "y_train_scaled = target_scaler.transform(y_train.values.reshape(-1, 1))\n",
    "\n",
    "X_test_scaled = feature_scaler.transform(X_test)\n",
    "y_test_scaled = target_scaler.transform(y_test.values.reshape(-1, 1))"
   ]
  },
  {
   "cell_type": "code",
   "execution_count": 55,
   "id": "1400c39c",
   "metadata": {},
   "outputs": [],
   "source": [
    "class TimeSeriesDataset:\n",
    "    def __init__(self,X, y):\n",
    "        self.X = X\n",
    "        self.y = y\n",
    "        \n",
    "    def __len__(self):\n",
    "        return self.X.__len__()\n",
    "    \n",
    "    def __getitem__(self, idx):\n",
    "        return np.array(self.X[idx], dtype=float), np.array(self.y[idx], dtype=float)"
   ]
  },
  {
   "cell_type": "code",
   "execution_count": null,
   "id": "8facd3ab",
   "metadata": {},
   "outputs": [],
   "source": []
  },
  {
   "cell_type": "code",
   "execution_count": null,
   "id": "a2e93253",
   "metadata": {},
   "outputs": [],
   "source": []
  }
 ],
 "metadata": {
  "kernelspec": {
   "display_name": "Python 3 (ipykernel)",
   "language": "python",
   "name": "python3"
  },
  "language_info": {
   "codemirror_mode": {
    "name": "ipython",
    "version": 3
   },
   "file_extension": ".py",
   "mimetype": "text/x-python",
   "name": "python",
   "nbconvert_exporter": "python",
   "pygments_lexer": "ipython3",
   "version": "3.10.5"
  }
 },
 "nbformat": 4,
 "nbformat_minor": 5
}
