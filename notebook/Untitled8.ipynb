{
 "cells": [
  {
   "cell_type": "code",
   "execution_count": 5,
   "id": "1dd1334a",
   "metadata": {},
   "outputs": [],
   "source": [
    "import pandas as pd\n",
    "import numpy as np\n",
    "import torch\n",
    "import os.path as osp\n",
    "import torch.nn as nn\n",
    "import torch.optim as optim\n",
    "from torch.utils.data import Dataset, DataLoader\n",
    "from sklearn.preprocessing import FunctionTransformer\n",
    "from tqdm.notebook import tqdm\n",
    "from sklearn.preprocessing import StandardScaler\n",
    "from sklearn.model_selection import train_test_split"
   ]
  },
  {
   "cell_type": "code",
   "execution_count": 6,
   "id": "547410b9",
   "metadata": {},
   "outputs": [
    {
     "data": {
      "text/html": [
       "<div>\n",
       "<style scoped>\n",
       "    .dataframe tbody tr th:only-of-type {\n",
       "        vertical-align: middle;\n",
       "    }\n",
       "\n",
       "    .dataframe tbody tr th {\n",
       "        vertical-align: top;\n",
       "    }\n",
       "\n",
       "    .dataframe thead th {\n",
       "        text-align: right;\n",
       "    }\n",
       "</style>\n",
       "<table border=\"1\" class=\"dataframe\">\n",
       "  <thead>\n",
       "    <tr style=\"text-align: right;\">\n",
       "      <th></th>\n",
       "      <th>time</th>\n",
       "      <th>lat</th>\n",
       "      <th>lon</th>\n",
       "      <th>timeseries-tas-monthly-mean</th>\n",
       "      <th>year</th>\n",
       "      <th>month</th>\n",
       "      <th>dayofyear</th>\n",
       "      <th>quarter</th>\n",
       "    </tr>\n",
       "  </thead>\n",
       "  <tbody>\n",
       "    <tr>\n",
       "      <th>0</th>\n",
       "      <td>1901-01-16</td>\n",
       "      <td>26.25</td>\n",
       "      <td>-122.75</td>\n",
       "      <td>16.322001</td>\n",
       "      <td>1901</td>\n",
       "      <td>1</td>\n",
       "      <td>16</td>\n",
       "      <td>1</td>\n",
       "    </tr>\n",
       "    <tr>\n",
       "      <th>1</th>\n",
       "      <td>1901-01-16</td>\n",
       "      <td>26.25</td>\n",
       "      <td>-122.25</td>\n",
       "      <td>16.322001</td>\n",
       "      <td>1901</td>\n",
       "      <td>1</td>\n",
       "      <td>16</td>\n",
       "      <td>1</td>\n",
       "    </tr>\n",
       "    <tr>\n",
       "      <th>2</th>\n",
       "      <td>1901-01-16</td>\n",
       "      <td>26.25</td>\n",
       "      <td>-121.75</td>\n",
       "      <td>16.322001</td>\n",
       "      <td>1901</td>\n",
       "      <td>1</td>\n",
       "      <td>16</td>\n",
       "      <td>1</td>\n",
       "    </tr>\n",
       "    <tr>\n",
       "      <th>3</th>\n",
       "      <td>1901-01-16</td>\n",
       "      <td>26.25</td>\n",
       "      <td>-121.25</td>\n",
       "      <td>16.322001</td>\n",
       "      <td>1901</td>\n",
       "      <td>1</td>\n",
       "      <td>16</td>\n",
       "      <td>1</td>\n",
       "    </tr>\n",
       "    <tr>\n",
       "      <th>4</th>\n",
       "      <td>1901-01-16</td>\n",
       "      <td>26.25</td>\n",
       "      <td>-120.75</td>\n",
       "      <td>16.322001</td>\n",
       "      <td>1901</td>\n",
       "      <td>1</td>\n",
       "      <td>16</td>\n",
       "      <td>1</td>\n",
       "    </tr>\n",
       "  </tbody>\n",
       "</table>\n",
       "</div>"
      ],
      "text/plain": [
       "         time    lat     lon  timeseries-tas-monthly-mean  year  month  \\\n",
       "0  1901-01-16  26.25 -122.75                    16.322001  1901      1   \n",
       "1  1901-01-16  26.25 -122.25                    16.322001  1901      1   \n",
       "2  1901-01-16  26.25 -121.75                    16.322001  1901      1   \n",
       "3  1901-01-16  26.25 -121.25                    16.322001  1901      1   \n",
       "4  1901-01-16  26.25 -120.75                    16.322001  1901      1   \n",
       "\n",
       "   dayofyear  quarter  \n",
       "0         16        1  \n",
       "1         16        1  \n",
       "2         16        1  \n",
       "3         16        1  \n",
       "4         16        1  "
      ]
     },
     "execution_count": 6,
     "metadata": {},
     "output_type": "execute_result"
    }
   ],
   "source": [
    "df = pd.read_csv('Updated_CRU.csv')\n",
    "df.head()"
   ]
  },
  {
   "cell_type": "code",
   "execution_count": 7,
   "id": "37084aaf",
   "metadata": {},
   "outputs": [
    {
     "data": {
      "text/plain": [
       "(6644352, 8)"
      ]
     },
     "execution_count": 7,
     "metadata": {},
     "output_type": "execute_result"
    }
   ],
   "source": [
    "df.shape"
   ]
  },
  {
   "cell_type": "code",
   "execution_count": 8,
   "id": "46c2bfea",
   "metadata": {},
   "outputs": [],
   "source": [
    "df_ft = df[['time', 'timeseries-tas-monthly-mean']].copy()"
   ]
  },
  {
   "cell_type": "code",
   "execution_count": 9,
   "id": "8f8396e9",
   "metadata": {},
   "outputs": [
    {
     "data": {
      "text/html": [
       "<div>\n",
       "<style scoped>\n",
       "    .dataframe tbody tr th:only-of-type {\n",
       "        vertical-align: middle;\n",
       "    }\n",
       "\n",
       "    .dataframe tbody tr th {\n",
       "        vertical-align: top;\n",
       "    }\n",
       "\n",
       "    .dataframe thead th {\n",
       "        text-align: right;\n",
       "    }\n",
       "</style>\n",
       "<table border=\"1\" class=\"dataframe\">\n",
       "  <thead>\n",
       "    <tr style=\"text-align: right;\">\n",
       "      <th></th>\n",
       "      <th>time</th>\n",
       "      <th>timeseries-tas-monthly-mean</th>\n",
       "    </tr>\n",
       "  </thead>\n",
       "  <tbody>\n",
       "    <tr>\n",
       "      <th>0</th>\n",
       "      <td>1901-01-16</td>\n",
       "      <td>16.322001</td>\n",
       "    </tr>\n",
       "    <tr>\n",
       "      <th>1</th>\n",
       "      <td>1901-01-16</td>\n",
       "      <td>16.322001</td>\n",
       "    </tr>\n",
       "    <tr>\n",
       "      <th>2</th>\n",
       "      <td>1901-01-16</td>\n",
       "      <td>16.322001</td>\n",
       "    </tr>\n",
       "    <tr>\n",
       "      <th>3</th>\n",
       "      <td>1901-01-16</td>\n",
       "      <td>16.322001</td>\n",
       "    </tr>\n",
       "    <tr>\n",
       "      <th>4</th>\n",
       "      <td>1901-01-16</td>\n",
       "      <td>16.322001</td>\n",
       "    </tr>\n",
       "  </tbody>\n",
       "</table>\n",
       "</div>"
      ],
      "text/plain": [
       "         time  timeseries-tas-monthly-mean\n",
       "0  1901-01-16                    16.322001\n",
       "1  1901-01-16                    16.322001\n",
       "2  1901-01-16                    16.322001\n",
       "3  1901-01-16                    16.322001\n",
       "4  1901-01-16                    16.322001"
      ]
     },
     "execution_count": 9,
     "metadata": {},
     "output_type": "execute_result"
    }
   ],
   "source": [
    "df_ft.head()"
   ]
  },
  {
   "cell_type": "code",
   "execution_count": 10,
   "id": "b84cc208",
   "metadata": {},
   "outputs": [],
   "source": [
    "df_ft['time'] = pd.to_datetime(df_ft['time'])\n",
    "df_ft.set_index('time', inplace=True)\n",
    "df_ft.rename(columns={'timeseries-tas-monthly-mean': 'temperature'}, inplace=True)\n",
    "df_ft = df_ft['temperature'].resample('M').mean()\n",
    "df_ft = df_ft.reset_index()"
   ]
  },
  {
   "cell_type": "code",
   "execution_count": 11,
   "id": "309c34ef",
   "metadata": {},
   "outputs": [],
   "source": [
    "df_ft['year'] = df_ft['time'].dt.year\n",
    "df_ft[\"week\"] = df_ft['time'].dt.isocalendar().week\n",
    "df_ft['month'] = df_ft['time'].dt.month\n",
    "df_ft['quarter'] = df_ft['time'].dt.quarter\n",
    "df_ft['dayofyear'] = df_ft['time'].dt.dayofyear\n",
    "df_ft['dayofweek'] = df_ft['time'].dt.dayofweek\n",
    "df_ft[\"is_month_start\"] = df_ft['time'].dt.is_month_start\n",
    "df_ft[\"is_month_end\"] = df_ft['time'].dt.is_month_end\n",
    "df_ft[\"is_quarter_start\"] = df_ft['time'].dt.is_quarter_start\n",
    "df_ft[\"is_quarter_end\"] = df_ft['time'].dt.is_quarter_end\n",
    "df_ft[\"is_year_start\"] = df_ft['time'].dt.is_year_start\n",
    "df_ft[\"is_year_end\"] = df_ft['time'].dt.is_year_end\n",
    "df_ft[\"days_in_month\"] = df_ft['time'].dt.days_in_month\n",
    "df_ft[\"is_leap_year\"] = df_ft['time'].dt.is_leap_year\n",
    "df_ft['is_weekend'] = np.where(df_ft['dayofweek'].isin([5, 6]), 1, 0)"
   ]
  },
  {
   "cell_type": "code",
   "execution_count": 12,
   "id": "52d113dc",
   "metadata": {},
   "outputs": [],
   "source": [
    "def sin_transformer(period):\n",
    "    return FunctionTransformer(lambda x: np.sin(x / period * 2 * np.pi))\n",
    "\n",
    "\n",
    "def cos_transformer(period):\n",
    "    return FunctionTransformer(lambda x: np.cos(x / period * 2 * np.pi))\n",
    "\n",
    "\n",
    "df_ft[\"sin_week\"] = sin_transformer(7).fit_transform(df_ft['week'])\n",
    "df_ft[\"sin_month\"] = sin_transformer(12).fit_transform(df_ft['month'])\n",
    "df_ft[\"sin_quarter\"] = sin_transformer(4).fit_transform(df_ft['quarter'])\n",
    "df_ft[\"sin_dayofyear\"] = sin_transformer(365).fit_transform(df_ft['dayofyear'])\n",
    "df_ft['sin_day_of_week'] = sin_transformer(7).fit_transform(df_ft['dayofweek'])\n",
    "\n",
    "df_ft[\"cos_week\"] = cos_transformer(7).fit_transform(df_ft['week'])\n",
    "df_ft[\"cos_month\"] = cos_transformer(12).fit_transform(df_ft['month'])\n",
    "df_ft[\"cos_quarter\"] = cos_transformer(4).fit_transform(df_ft['quarter'])\n",
    "df_ft[\"cos_dayofyear\"] = cos_transformer(365).fit_transform(df_ft['dayofyear'])\n",
    "df_ft['cos_day_of_week'] = cos_transformer(7).fit_transform(df_ft['dayofweek'])"
   ]
  },
  {
   "cell_type": "code",
   "execution_count": 13,
   "id": "b47b362d",
   "metadata": {},
   "outputs": [
    {
     "data": {
      "text/plain": [
       "(1452, 27)"
      ]
     },
     "execution_count": 13,
     "metadata": {},
     "output_type": "execute_result"
    }
   ],
   "source": [
    "df_ft.shape"
   ]
  },
  {
   "cell_type": "code",
   "execution_count": 14,
   "id": "495922b4",
   "metadata": {},
   "outputs": [],
   "source": [
    "train_series = df_ft.loc[(df_ft['time'] >= '1900-01-16') & (df_ft['time'] < '2010-01-16'), :]\n",
    "test_series = df_ft.loc[(df_ft['time'] >= '2010-01-16'), :]"
   ]
  },
  {
   "cell_type": "code",
   "execution_count": 15,
   "id": "86097da7",
   "metadata": {},
   "outputs": [
    {
     "data": {
      "text/plain": [
       "((1308, 27), (144, 27))"
      ]
     },
     "execution_count": 15,
     "metadata": {},
     "output_type": "execute_result"
    }
   ],
   "source": [
    "train_series.shape, test_series.shape"
   ]
  },
  {
   "cell_type": "code",
   "execution_count": 16,
   "id": "c50673dc",
   "metadata": {},
   "outputs": [],
   "source": [
    "X = train_series.drop(['time', 'temperature'], axis=1)\n",
    "y = train_series['temperature'].values\n",
    "X_train, X_test, y_train, y_test = train_test_split(X, y, test_size=0.2, random_state=1)"
   ]
  },
  {
   "cell_type": "code",
   "execution_count": 17,
   "id": "41904f2d",
   "metadata": {},
   "outputs": [
    {
     "data": {
      "text/plain": [
       "((1046, 25), (262, 25), (1046,), (262,))"
      ]
     },
     "execution_count": 17,
     "metadata": {},
     "output_type": "execute_result"
    }
   ],
   "source": [
    "X_train.shape, X_test.shape, y_train.shape, y_test.shape"
   ]
  },
  {
   "cell_type": "code",
   "execution_count": 18,
   "id": "cd076dbb",
   "metadata": {},
   "outputs": [],
   "source": [
    "train_scaler = StandardScaler().fit(X_train)\n",
    "target_scaler = StandardScaler().fit(y_train.reshape(-1, 1))\n",
    "\n",
    "X_train = train_scaler.transform(X_train)\n",
    "y_train = target_scaler.transform(y_train.reshape(-1, 1))\n",
    "\n",
    "X_val = train_scaler.transform(X_test)\n",
    "y_val = target_scaler.transform(y_test.reshape(-1, 1))"
   ]
  },
  {
   "cell_type": "code",
   "execution_count": 80,
   "id": "d5b88490",
   "metadata": {},
   "outputs": [],
   "source": [
    "class TimeSeriesDataset(Dataset):\n",
    "    def __init__(self, X, y):\n",
    "        self.X = X\n",
    "        self.y = y\n",
    "\n",
    "    def __len__(self):\n",
    "        return self.X.__len__()\n",
    "\n",
    "    def __getitem__(self, idx):\n",
    "        return np.array(self.X[idx], dtype=float), np.array(self.y[idx], dtype='float')"
   ]
  },
  {
   "cell_type": "code",
   "execution_count": 81,
   "id": "c2eaeb7e",
   "metadata": {},
   "outputs": [],
   "source": [
    "class TimeSeriesModel(nn.Module):\n",
    "    def __init__(self, num_features):\n",
    "        super(TimeSeriesModel, self).__init__()\n",
    "        self.linear1 = nn.Linear(num_features, 128)\n",
    "        self.linear2 = nn.Linear(128,64)\n",
    "        self.linear3 = nn.Linear(64,16)\n",
    "        self.linear4 = nn.Linear(16,1)\n",
    "\n",
    "        self.dropout = nn.Dropout(0.5)\n",
    "        self.activation1 = nn.ReLU()\n",
    "        \n",
    "    def forward(self, x):\n",
    "        x = self.dropout(self.linear1(x))\n",
    "        x = self.activation1(x)\n",
    "        x = self.dropout(self.linear2(x))\n",
    "        x = self.activation1(x)\n",
    "        x = self.dropout(self.linear3(x))\n",
    "        x = self.activation1(x)\n",
    "        x = self.linear4(x)\n",
    "        return x"
   ]
  },
  {
   "cell_type": "code",
   "execution_count": 82,
   "id": "8e84bacb",
   "metadata": {},
   "outputs": [],
   "source": [
    "# Hyperparameters\n",
    "n_epochs = 1000\n",
    "n_epochs_stop = 30\n",
    "input_size = X_train.shape[1]\n",
    "output_size = 1\n",
    "batch_size = 64\n",
    "device = 'cuda' if torch.cuda.is_available() else 'cpu'\n",
    "model_dir = 'models'"
   ]
  },
  {
   "cell_type": "code",
   "execution_count": 93,
   "id": "ade1fb56",
   "metadata": {},
   "outputs": [
    {
     "data": {
      "text/plain": [
       "26"
      ]
     },
     "execution_count": 93,
     "metadata": {},
     "output_type": "execute_result"
    }
   ],
   "source": [
    "X_train.shape[1]"
   ]
  },
  {
   "cell_type": "code",
   "execution_count": 83,
   "id": "f61c2eb1",
   "metadata": {},
   "outputs": [],
   "source": [
    "train_dataset = TimeSeriesDataset(X_train, y_train)\n",
    "val_dataset = TimeSeriesDataset(X_val, y_val)\n",
    "\n",
    "train_loader = DataLoader(train_dataset, batch_size=batch_size, shuffle=False)\n",
    "val_loader = DataLoader(val_dataset, batch_size=batch_size, shuffle=False)"
   ]
  },
  {
   "cell_type": "code",
   "execution_count": 85,
   "id": "c16a3bb8",
   "metadata": {},
   "outputs": [],
   "source": [
    "model = TimeSeriesModel(num_features=input_size)\n",
    "criterion = torch.nn.MSELoss()\n",
    "optimizer = torch.optim.Adam(model.parameters(), lr=0.001)"
   ]
  },
  {
   "cell_type": "code",
   "execution_count": 92,
   "id": "5687dc90",
   "metadata": {},
   "outputs": [
    {
     "name": "stdout",
     "output_type": "stream",
     "text": [
      "Epoch 1 train loss: 0.35079737 val loss: 13.86887703\n",
      "Epoch 2 train loss: 0.35907044 val loss: 13.82889366\n",
      "Epoch 3 train loss: 0.37290238 val loss: 13.93538094\n",
      "Epoch 4 train loss: 0.37572849 val loss: 13.96545792\n",
      "Epoch 5 train loss: 0.36588743 val loss: 13.97237892\n",
      "Epoch 6 train loss: 0.37213832 val loss: 13.9424921\n",
      "Epoch 7 train loss: 0.36875611 val loss: 13.90692348\n",
      "Epoch 8 train loss: 0.3641164 val loss: 13.97084103\n",
      "Epoch 9 train loss: 0.35896575 val loss: 13.97601223\n",
      "Epoch 10 train loss: 0.38005316 val loss: 13.97062321\n",
      "Epoch 11 train loss: 0.37502273 val loss: 13.96072044\n",
      "Epoch 12 train loss: 0.34883172 val loss: 13.97363625\n",
      "Epoch 13 train loss: 0.36469031 val loss: 13.95362186\n",
      "Epoch 14 train loss: 0.36126663 val loss: 13.9281868\n",
      "Epoch 15 train loss: 0.38015273 val loss: 13.93367882\n",
      "Epoch 16 train loss: 0.36319965 val loss: 13.88624935\n",
      "Epoch 17 train loss: 0.36246859 val loss: 13.94507599\n",
      "Epoch 18 train loss: 0.35811867 val loss: 13.91037598\n",
      "Epoch 19 train loss: 0.36750792 val loss: 13.86625557\n",
      "Epoch 20 train loss: 0.36440112 val loss: 13.87953205\n",
      "Epoch 21 train loss: 0.36572042 val loss: 13.94515228\n",
      "Epoch 22 train loss: 0.37872108 val loss: 13.97651653\n",
      "Epoch 23 train loss: 0.36779805 val loss: 13.97626343\n",
      "Epoch 24 train loss: 0.36459085 val loss: 13.96970291\n",
      "Epoch 25 train loss: 0.36542449 val loss: 13.98067341\n",
      "Epoch 26 train loss: 0.37475506 val loss: 13.97614746\n",
      "Epoch 27 train loss: 0.36619793 val loss: 13.97680874\n",
      "Epoch 28 train loss: 0.38610151 val loss: 13.94444027\n",
      "Epoch 29 train loss: 0.36914801 val loss: 13.95225372\n",
      "Epoch 30 train loss: 0.35634806 val loss: 13.93579369\n",
      "Epoch 31 train loss: 0.36135504 val loss: 13.96993275\n",
      "best loss: 13.828893661499023\n"
     ]
    }
   ],
   "source": [
    "best_loss = np.inf\n",
    "epochs_no_improve = 0\n",
    "model_name = 'nn_model_new'\n",
    "for epochs in range(1, n_epochs+1):\n",
    "    train_loss = 0\n",
    "    model.train()\n",
    "    for data, target in train_loader:\n",
    "        optimizer.zero_grad()\n",
    "        data = torch.Tensor(data).to(device)\n",
    "        target = target.reshape(-1,1)\n",
    "        output = model(data.float())\n",
    "        loss = criterion(output, target.float().to(device))\n",
    "        if type(criterion) == torch.nn.modules.loss.MSELoss:\n",
    "            loss = torch.sqrt(loss)\n",
    "        loss.backward()\n",
    "        optimizer.step()\n",
    "        #scheduler.step()\n",
    "        train_loss += loss.item()\n",
    "    train_loss /= len(train_loader)\n",
    "    model.eval()\n",
    "    val_loss = 0\n",
    "    with torch.no_grad():\n",
    "        for data, target in val_loader:\n",
    "            data = torch.Tensor(data).to(device)\n",
    "            target = target.reshape(-1,1)\n",
    "            output = model(data.float())\n",
    "            loss = criterion(output, target.float().to(device))\n",
    "            if type(criterion) == torch.nn.modules.loss.MSELoss:\n",
    "                loss = torch.sqrt(loss)\n",
    "            val_loss += loss.item()\n",
    "    val_loss /= len(val_loader)\n",
    "    # early stopping\n",
    "    if val_loss < best_loss:\n",
    "        best_loss = val_loss\n",
    "        #torch.save(model.state_dict(), osp.join(model_dir, '{}.pt'.format(model_name)))\n",
    "        epochs_no_improve = 0\n",
    "    else:\n",
    "        epochs_no_improve += 1\n",
    "    if epochs_no_improve == n_epochs_stop:\n",
    "        #print(\"Early stopping.\")\n",
    "        break\n",
    "    print(f'Epoch {epochs} train loss: {round(train_loss,8)} val loss: {round(val_loss,8)}')\n",
    "print('best loss: {}'.format(best_loss))"
   ]
  },
  {
   "cell_type": "code",
   "execution_count": null,
   "id": "ce5955b4",
   "metadata": {},
   "outputs": [],
   "source": []
  },
  {
   "cell_type": "code",
   "execution_count": null,
   "id": "e177282e",
   "metadata": {},
   "outputs": [],
   "source": []
  }
 ],
 "metadata": {
  "kernelspec": {
   "display_name": "Python 3 (ipykernel)",
   "language": "python",
   "name": "python3"
  },
  "language_info": {
   "codemirror_mode": {
    "name": "ipython",
    "version": 3
   },
   "file_extension": ".py",
   "mimetype": "text/x-python",
   "name": "python",
   "nbconvert_exporter": "python",
   "pygments_lexer": "ipython3",
   "version": "3.10.5"
  }
 },
 "nbformat": 4,
 "nbformat_minor": 5
}
