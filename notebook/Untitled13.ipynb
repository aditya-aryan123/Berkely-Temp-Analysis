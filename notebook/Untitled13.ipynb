{
 "cells": [
  {
   "cell_type": "code",
   "execution_count": 78,
   "id": "594273b3",
   "metadata": {},
   "outputs": [],
   "source": [
    "import pandas as pd\n",
    "import numpy as np\n",
    "import eli5\n",
    "from eli5.sklearn import PermutationImportance\n",
    "from sklearn.model_selection import train_test_split\n",
    "from sklearn.ensemble import RandomForestRegressor\n",
    "from sklearn.linear_model import LinearRegression"
   ]
  },
  {
   "cell_type": "code",
   "execution_count": 79,
   "id": "ea8d0937",
   "metadata": {},
   "outputs": [
    {
     "data": {
      "text/html": [
       "<div>\n",
       "<style scoped>\n",
       "    .dataframe tbody tr th:only-of-type {\n",
       "        vertical-align: middle;\n",
       "    }\n",
       "\n",
       "    .dataframe tbody tr th {\n",
       "        vertical-align: top;\n",
       "    }\n",
       "\n",
       "    .dataframe thead th {\n",
       "        text-align: right;\n",
       "    }\n",
       "</style>\n",
       "<table border=\"1\" class=\"dataframe\">\n",
       "  <thead>\n",
       "    <tr style=\"text-align: right;\">\n",
       "      <th></th>\n",
       "      <th>time</th>\n",
       "      <th>latitude</th>\n",
       "      <th>longitude</th>\n",
       "      <th>temperature</th>\n",
       "    </tr>\n",
       "  </thead>\n",
       "  <tbody>\n",
       "    <tr>\n",
       "      <th>0</th>\n",
       "      <td>1750-01-01</td>\n",
       "      <td>26.5</td>\n",
       "      <td>-122.5</td>\n",
       "      <td>NaN</td>\n",
       "    </tr>\n",
       "    <tr>\n",
       "      <th>1</th>\n",
       "      <td>1750-01-01</td>\n",
       "      <td>26.5</td>\n",
       "      <td>-121.5</td>\n",
       "      <td>NaN</td>\n",
       "    </tr>\n",
       "    <tr>\n",
       "      <th>2</th>\n",
       "      <td>1750-01-01</td>\n",
       "      <td>26.5</td>\n",
       "      <td>-120.5</td>\n",
       "      <td>NaN</td>\n",
       "    </tr>\n",
       "    <tr>\n",
       "      <th>3</th>\n",
       "      <td>1750-01-01</td>\n",
       "      <td>26.5</td>\n",
       "      <td>-119.5</td>\n",
       "      <td>NaN</td>\n",
       "    </tr>\n",
       "    <tr>\n",
       "      <th>4</th>\n",
       "      <td>1750-01-01</td>\n",
       "      <td>26.5</td>\n",
       "      <td>-118.5</td>\n",
       "      <td>NaN</td>\n",
       "    </tr>\n",
       "  </tbody>\n",
       "</table>\n",
       "</div>"
      ],
      "text/plain": [
       "         time  latitude  longitude  temperature\n",
       "0  1750-01-01      26.5     -122.5          NaN\n",
       "1  1750-01-01      26.5     -121.5          NaN\n",
       "2  1750-01-01      26.5     -120.5          NaN\n",
       "3  1750-01-01      26.5     -119.5          NaN\n",
       "4  1750-01-01      26.5     -118.5          NaN"
      ]
     },
     "execution_count": 79,
     "metadata": {},
     "output_type": "execute_result"
    }
   ],
   "source": [
    "df = pd.read_csv('Avg.csv')\n",
    "df.head()"
   ]
  },
  {
   "cell_type": "code",
   "execution_count": 80,
   "id": "35eba077",
   "metadata": {},
   "outputs": [
    {
     "data": {
      "text/plain": [
       "(3743168, 4)"
      ]
     },
     "execution_count": 80,
     "metadata": {},
     "output_type": "execute_result"
    }
   ],
   "source": [
    "df.shape"
   ]
  },
  {
   "cell_type": "code",
   "execution_count": 81,
   "id": "4fd80fdc",
   "metadata": {},
   "outputs": [],
   "source": [
    "df['time'] = pd.to_datetime(df['time'])"
   ]
  },
  {
   "cell_type": "code",
   "execution_count": 82,
   "id": "75aed5a7",
   "metadata": {},
   "outputs": [
    {
     "data": {
      "text/plain": [
       "(Timestamp('1750-01-01 00:00:00'), Timestamp('2022-08-01 00:00:00'))"
      ]
     },
     "execution_count": 82,
     "metadata": {},
     "output_type": "execute_result"
    }
   ],
   "source": [
    "df['time'].min(), df['time'].max()"
   ]
  },
  {
   "cell_type": "code",
   "execution_count": 83,
   "id": "5d807865",
   "metadata": {},
   "outputs": [
    {
     "data": {
      "text/plain": [
       "count                          3743168\n",
       "mean     1886-04-16 10:37:15.696819712\n",
       "min                1750-01-01 00:00:00\n",
       "25%                1818-02-22 00:00:00\n",
       "50%                1886-04-16 00:00:00\n",
       "75%                1954-06-08 12:00:00\n",
       "max                2022-08-01 00:00:00\n",
       "Name: time, dtype: object"
      ]
     },
     "execution_count": 83,
     "metadata": {},
     "output_type": "execute_result"
    }
   ],
   "source": [
    "df['time'].describe(datetime_is_numeric=True)"
   ]
  },
  {
   "cell_type": "code",
   "execution_count": 84,
   "id": "21f0fc8d",
   "metadata": {
    "scrolled": false
   },
   "outputs": [
    {
     "data": {
      "text/html": [
       "<div>\n",
       "<style scoped>\n",
       "    .dataframe tbody tr th:only-of-type {\n",
       "        vertical-align: middle;\n",
       "    }\n",
       "\n",
       "    .dataframe tbody tr th {\n",
       "        vertical-align: top;\n",
       "    }\n",
       "\n",
       "    .dataframe thead th {\n",
       "        text-align: right;\n",
       "    }\n",
       "</style>\n",
       "<table border=\"1\" class=\"dataframe\">\n",
       "  <thead>\n",
       "    <tr style=\"text-align: right;\">\n",
       "      <th></th>\n",
       "      <th>time</th>\n",
       "      <th>latitude</th>\n",
       "      <th>longitude</th>\n",
       "      <th>temperature</th>\n",
       "    </tr>\n",
       "  </thead>\n",
       "  <tbody>\n",
       "    <tr>\n",
       "      <th>2745600</th>\n",
       "      <td>1950-01-01</td>\n",
       "      <td>26.5</td>\n",
       "      <td>-122.5</td>\n",
       "      <td>NaN</td>\n",
       "    </tr>\n",
       "    <tr>\n",
       "      <th>2745601</th>\n",
       "      <td>1950-01-01</td>\n",
       "      <td>26.5</td>\n",
       "      <td>-121.5</td>\n",
       "      <td>NaN</td>\n",
       "    </tr>\n",
       "    <tr>\n",
       "      <th>2745602</th>\n",
       "      <td>1950-01-01</td>\n",
       "      <td>26.5</td>\n",
       "      <td>-120.5</td>\n",
       "      <td>NaN</td>\n",
       "    </tr>\n",
       "    <tr>\n",
       "      <th>2745603</th>\n",
       "      <td>1950-01-01</td>\n",
       "      <td>26.5</td>\n",
       "      <td>-119.5</td>\n",
       "      <td>NaN</td>\n",
       "    </tr>\n",
       "    <tr>\n",
       "      <th>2745604</th>\n",
       "      <td>1950-01-01</td>\n",
       "      <td>26.5</td>\n",
       "      <td>-118.5</td>\n",
       "      <td>NaN</td>\n",
       "    </tr>\n",
       "    <tr>\n",
       "      <th>...</th>\n",
       "      <td>...</td>\n",
       "      <td>...</td>\n",
       "      <td>...</td>\n",
       "      <td>...</td>\n",
       "    </tr>\n",
       "    <tr>\n",
       "      <th>2746739</th>\n",
       "      <td>1950-01-01</td>\n",
       "      <td>47.5</td>\n",
       "      <td>-75.5</td>\n",
       "      <td>2.540221</td>\n",
       "    </tr>\n",
       "    <tr>\n",
       "      <th>2746740</th>\n",
       "      <td>1950-01-01</td>\n",
       "      <td>47.5</td>\n",
       "      <td>-74.5</td>\n",
       "      <td>2.636371</td>\n",
       "    </tr>\n",
       "    <tr>\n",
       "      <th>2746741</th>\n",
       "      <td>1950-01-01</td>\n",
       "      <td>47.5</td>\n",
       "      <td>-73.5</td>\n",
       "      <td>2.642625</td>\n",
       "    </tr>\n",
       "    <tr>\n",
       "      <th>2746742</th>\n",
       "      <td>1950-01-01</td>\n",
       "      <td>47.5</td>\n",
       "      <td>-72.5</td>\n",
       "      <td>2.652048</td>\n",
       "    </tr>\n",
       "    <tr>\n",
       "      <th>2746743</th>\n",
       "      <td>1950-01-01</td>\n",
       "      <td>47.5</td>\n",
       "      <td>-71.5</td>\n",
       "      <td>2.449350</td>\n",
       "    </tr>\n",
       "  </tbody>\n",
       "</table>\n",
       "<p>1144 rows × 4 columns</p>\n",
       "</div>"
      ],
      "text/plain": [
       "              time  latitude  longitude  temperature\n",
       "2745600 1950-01-01      26.5     -122.5          NaN\n",
       "2745601 1950-01-01      26.5     -121.5          NaN\n",
       "2745602 1950-01-01      26.5     -120.5          NaN\n",
       "2745603 1950-01-01      26.5     -119.5          NaN\n",
       "2745604 1950-01-01      26.5     -118.5          NaN\n",
       "...            ...       ...        ...          ...\n",
       "2746739 1950-01-01      47.5      -75.5     2.540221\n",
       "2746740 1950-01-01      47.5      -74.5     2.636371\n",
       "2746741 1950-01-01      47.5      -73.5     2.642625\n",
       "2746742 1950-01-01      47.5      -72.5     2.652048\n",
       "2746743 1950-01-01      47.5      -71.5     2.449350\n",
       "\n",
       "[1144 rows x 4 columns]"
      ]
     },
     "execution_count": 84,
     "metadata": {},
     "output_type": "execute_result"
    }
   ],
   "source": [
    "df.loc[df['time'] == '1950-01-01']"
   ]
  },
  {
   "cell_type": "code",
   "execution_count": 85,
   "id": "0b44c255",
   "metadata": {},
   "outputs": [
    {
     "data": {
      "text/plain": [
       "time                 0\n",
       "latitude             0\n",
       "longitude            0\n",
       "temperature    1148731\n",
       "dtype: int64"
      ]
     },
     "execution_count": 85,
     "metadata": {},
     "output_type": "execute_result"
    }
   ],
   "source": [
    "df.isnull().sum()"
   ]
  },
  {
   "cell_type": "code",
   "execution_count": 86,
   "id": "bb14da4d",
   "metadata": {},
   "outputs": [
    {
     "data": {
      "text/plain": [
       "2594437"
      ]
     },
     "execution_count": 86,
     "metadata": {},
     "output_type": "execute_result"
    }
   ],
   "source": [
    "3743168 - 1148731"
   ]
  },
  {
   "cell_type": "code",
   "execution_count": 87,
   "id": "9d541276",
   "metadata": {},
   "outputs": [],
   "source": [
    "df_copy = df.copy()"
   ]
  },
  {
   "cell_type": "code",
   "execution_count": 60,
   "id": "7bcb6fbe",
   "metadata": {},
   "outputs": [],
   "source": [
    "def split_time_series(start_year, end_year, data=df_copy, col='temperature'):\n",
    "    data = data.loc[(data['time'] >= start_year) & ((data['time'] < end_year)), :]\n",
    "    \n",
    "    frame_to_use = data.loc[data[col].notna(), :]\n",
    "    frame_to_pred = data.loc[data[col].isna(), :]\n",
    "    \n",
    "    X = frame_to_use.drop(['temperature', 'time'], axis=1)\n",
    "    y = frame_to_use['temperature']\n",
    "\n",
    "    X_train, X_test, y_train, y_test = train_test_split(X, y, test_size=0.2, random_state=1)\n",
    "    X_train, X_val, y_train, y_val = train_test_split(X_train, y_train, test_size=0.25, random_state=1)\n",
    "\n",
    "    model = RandomForestRegressor(n_estimators=100, random_state=0)\n",
    "    model.fit(X_train, y_train)\n",
    "    prediction_val = model.predict(X_val)\n",
    "    prediction_test = model.predict(X_test)\n",
    "    \n",
    "    frame_to_pred.drop(['temperature', 'time'], axis=1, inplace=True)\n",
    "    frame_to_pred.loc[:, 'temperature'] = model.predict(frame_to_pred)\n",
    "    \n",
    "    return frame_to_pred"
   ]
  },
  {
   "cell_type": "code",
   "execution_count": 61,
   "id": "e750751c",
   "metadata": {},
   "outputs": [
    {
     "name": "stderr",
     "output_type": "stream",
     "text": [
      "C:\\Users\\lenovo\\AppData\\Local\\Temp\\ipykernel_15036\\231636882.py:18: SettingWithCopyWarning: \n",
      "A value is trying to be set on a copy of a slice from a DataFrame\n",
      "\n",
      "See the caveats in the documentation: https://pandas.pydata.org/pandas-docs/stable/user_guide/indexing.html#returning-a-view-versus-a-copy\n",
      "  frame_to_pred.drop(['temperature', 'time'], axis=1, inplace=True)\n",
      "C:\\Users\\lenovo\\AppData\\Local\\Temp\\ipykernel_15036\\231636882.py:19: SettingWithCopyWarning: \n",
      "A value is trying to be set on a copy of a slice from a DataFrame.\n",
      "Try using .loc[row_indexer,col_indexer] = value instead\n",
      "\n",
      "See the caveats in the documentation: https://pandas.pydata.org/pandas-docs/stable/user_guide/indexing.html#returning-a-view-versus-a-copy\n",
      "  frame_to_pred.loc[:, 'temperature'] = model.predict(frame_to_pred)\n"
     ]
    }
   ],
   "source": [
    "preds = split_time_series('1901-01-01', '1950-01-01')"
   ]
  },
  {
   "cell_type": "code",
   "execution_count": 62,
   "id": "5cd52cc9",
   "metadata": {},
   "outputs": [],
   "source": [
    "df_copy.loc[(df_copy['time'] >= '1901-01-01') & \n",
    "            (df_copy['time'] < '1950-01-01'), :] = df_copy.loc[(df_copy['time'] >= '1901-01-01') & \n",
    "            (df_copy['time'] < '1950-01-01'), :].fillna(preds, axis=0)"
   ]
  },
  {
   "cell_type": "code",
   "execution_count": 63,
   "id": "f157ad05",
   "metadata": {},
   "outputs": [
    {
     "name": "stderr",
     "output_type": "stream",
     "text": [
      "C:\\Users\\lenovo\\AppData\\Local\\Temp\\ipykernel_15036\\231636882.py:18: SettingWithCopyWarning: \n",
      "A value is trying to be set on a copy of a slice from a DataFrame\n",
      "\n",
      "See the caveats in the documentation: https://pandas.pydata.org/pandas-docs/stable/user_guide/indexing.html#returning-a-view-versus-a-copy\n",
      "  frame_to_pred.drop(['temperature', 'time'], axis=1, inplace=True)\n",
      "C:\\Users\\lenovo\\AppData\\Local\\Temp\\ipykernel_15036\\231636882.py:19: SettingWithCopyWarning: \n",
      "A value is trying to be set on a copy of a slice from a DataFrame.\n",
      "Try using .loc[row_indexer,col_indexer] = value instead\n",
      "\n",
      "See the caveats in the documentation: https://pandas.pydata.org/pandas-docs/stable/user_guide/indexing.html#returning-a-view-versus-a-copy\n",
      "  frame_to_pred.loc[:, 'temperature'] = model.predict(frame_to_pred)\n"
     ]
    }
   ],
   "source": [
    "preds_1 = split_time_series('1950-01-01', '2001-01-01')"
   ]
  },
  {
   "cell_type": "code",
   "execution_count": 64,
   "id": "dde4b319",
   "metadata": {},
   "outputs": [],
   "source": [
    "df_copy.loc[(df_copy['time'] >= '1950-01-01') & \n",
    "            (df_copy['time'] < '2001-01-01'), :] = df_copy.loc[(df_copy['time'] >= '1950-01-01') & \n",
    "            (df_copy['time'] < '2001-01-01'), :].fillna(preds, axis=0)"
   ]
  },
  {
   "cell_type": "code",
   "execution_count": 65,
   "id": "13ba7014",
   "metadata": {},
   "outputs": [
    {
     "name": "stderr",
     "output_type": "stream",
     "text": [
      "C:\\Users\\lenovo\\AppData\\Local\\Temp\\ipykernel_15036\\231636882.py:18: SettingWithCopyWarning: \n",
      "A value is trying to be set on a copy of a slice from a DataFrame\n",
      "\n",
      "See the caveats in the documentation: https://pandas.pydata.org/pandas-docs/stable/user_guide/indexing.html#returning-a-view-versus-a-copy\n",
      "  frame_to_pred.drop(['temperature', 'time'], axis=1, inplace=True)\n",
      "C:\\Users\\lenovo\\AppData\\Local\\Temp\\ipykernel_15036\\231636882.py:19: SettingWithCopyWarning: \n",
      "A value is trying to be set on a copy of a slice from a DataFrame.\n",
      "Try using .loc[row_indexer,col_indexer] = value instead\n",
      "\n",
      "See the caveats in the documentation: https://pandas.pydata.org/pandas-docs/stable/user_guide/indexing.html#returning-a-view-versus-a-copy\n",
      "  frame_to_pred.loc[:, 'temperature'] = model.predict(frame_to_pred)\n"
     ]
    }
   ],
   "source": [
    "preds_2 = split_time_series('2001-01-01', '2021-01-01')"
   ]
  },
  {
   "cell_type": "code",
   "execution_count": 66,
   "id": "e87993cf",
   "metadata": {},
   "outputs": [],
   "source": [
    "df_copy.loc[(df_copy['time'] >= '2001-01-01') & \n",
    "            (df_copy['time'] < '2021-01-01'), :] = df_copy.loc[(df_copy['time'] >= '2001-01-01') & \n",
    "            (df_copy['time'] < '2021-01-01'), :].fillna(preds, axis=0)"
   ]
  },
  {
   "cell_type": "code",
   "execution_count": 67,
   "id": "05df345f",
   "metadata": {},
   "outputs": [
    {
     "name": "stderr",
     "output_type": "stream",
     "text": [
      "C:\\Users\\lenovo\\AppData\\Local\\Temp\\ipykernel_15036\\231636882.py:18: SettingWithCopyWarning: \n",
      "A value is trying to be set on a copy of a slice from a DataFrame\n",
      "\n",
      "See the caveats in the documentation: https://pandas.pydata.org/pandas-docs/stable/user_guide/indexing.html#returning-a-view-versus-a-copy\n",
      "  frame_to_pred.drop(['temperature', 'time'], axis=1, inplace=True)\n",
      "C:\\Users\\lenovo\\AppData\\Local\\Temp\\ipykernel_15036\\231636882.py:19: SettingWithCopyWarning: \n",
      "A value is trying to be set on a copy of a slice from a DataFrame.\n",
      "Try using .loc[row_indexer,col_indexer] = value instead\n",
      "\n",
      "See the caveats in the documentation: https://pandas.pydata.org/pandas-docs/stable/user_guide/indexing.html#returning-a-view-versus-a-copy\n",
      "  frame_to_pred.loc[:, 'temperature'] = model.predict(frame_to_pred)\n"
     ]
    }
   ],
   "source": [
    "preds_3 = split_time_series('2021-01-01', '2022-08-01')"
   ]
  },
  {
   "cell_type": "code",
   "execution_count": 68,
   "id": "be15d0ba",
   "metadata": {},
   "outputs": [],
   "source": [
    "df_copy.loc[(df_copy['time'] >= '2021-01-01') & \n",
    "            (df_copy['time'] < '2022-08-01'), :] = df_copy.loc[(df_copy['time'] >= '2021-01-01') & \n",
    "            (df_copy['time'] < '2022-08-01'), :].fillna(preds, axis=0)"
   ]
  },
  {
   "cell_type": "code",
   "execution_count": 69,
   "id": "e1f8b5ab",
   "metadata": {},
   "outputs": [
    {
     "data": {
      "text/html": [
       "<div>\n",
       "<style scoped>\n",
       "    .dataframe tbody tr th:only-of-type {\n",
       "        vertical-align: middle;\n",
       "    }\n",
       "\n",
       "    .dataframe tbody tr th {\n",
       "        vertical-align: top;\n",
       "    }\n",
       "\n",
       "    .dataframe thead th {\n",
       "        text-align: right;\n",
       "    }\n",
       "</style>\n",
       "<table border=\"1\" class=\"dataframe\">\n",
       "  <thead>\n",
       "    <tr style=\"text-align: right;\">\n",
       "      <th></th>\n",
       "      <th>time</th>\n",
       "      <th>latitude</th>\n",
       "      <th>longitude</th>\n",
       "      <th>temperature</th>\n",
       "    </tr>\n",
       "  </thead>\n",
       "  <tbody>\n",
       "    <tr>\n",
       "      <th>0</th>\n",
       "      <td>1750-01-01</td>\n",
       "      <td>26.5</td>\n",
       "      <td>-122.5</td>\n",
       "      <td>NaN</td>\n",
       "    </tr>\n",
       "    <tr>\n",
       "      <th>1</th>\n",
       "      <td>1750-01-01</td>\n",
       "      <td>26.5</td>\n",
       "      <td>-121.5</td>\n",
       "      <td>NaN</td>\n",
       "    </tr>\n",
       "    <tr>\n",
       "      <th>2</th>\n",
       "      <td>1750-01-01</td>\n",
       "      <td>26.5</td>\n",
       "      <td>-120.5</td>\n",
       "      <td>NaN</td>\n",
       "    </tr>\n",
       "    <tr>\n",
       "      <th>3</th>\n",
       "      <td>1750-01-01</td>\n",
       "      <td>26.5</td>\n",
       "      <td>-119.5</td>\n",
       "      <td>NaN</td>\n",
       "    </tr>\n",
       "    <tr>\n",
       "      <th>4</th>\n",
       "      <td>1750-01-01</td>\n",
       "      <td>26.5</td>\n",
       "      <td>-118.5</td>\n",
       "      <td>NaN</td>\n",
       "    </tr>\n",
       "    <tr>\n",
       "      <th>...</th>\n",
       "      <td>...</td>\n",
       "      <td>...</td>\n",
       "      <td>...</td>\n",
       "      <td>...</td>\n",
       "    </tr>\n",
       "    <tr>\n",
       "      <th>3743163</th>\n",
       "      <td>2022-08-01</td>\n",
       "      <td>47.5</td>\n",
       "      <td>-75.5</td>\n",
       "      <td>1.652320</td>\n",
       "    </tr>\n",
       "    <tr>\n",
       "      <th>3743164</th>\n",
       "      <td>2022-08-01</td>\n",
       "      <td>47.5</td>\n",
       "      <td>-74.5</td>\n",
       "      <td>1.732874</td>\n",
       "    </tr>\n",
       "    <tr>\n",
       "      <th>3743165</th>\n",
       "      <td>2022-08-01</td>\n",
       "      <td>47.5</td>\n",
       "      <td>-73.5</td>\n",
       "      <td>1.779766</td>\n",
       "    </tr>\n",
       "    <tr>\n",
       "      <th>3743166</th>\n",
       "      <td>2022-08-01</td>\n",
       "      <td>47.5</td>\n",
       "      <td>-72.5</td>\n",
       "      <td>1.833344</td>\n",
       "    </tr>\n",
       "    <tr>\n",
       "      <th>3743167</th>\n",
       "      <td>2022-08-01</td>\n",
       "      <td>47.5</td>\n",
       "      <td>-71.5</td>\n",
       "      <td>1.892899</td>\n",
       "    </tr>\n",
       "  </tbody>\n",
       "</table>\n",
       "<p>3743168 rows × 4 columns</p>\n",
       "</div>"
      ],
      "text/plain": [
       "              time  latitude  longitude  temperature\n",
       "0       1750-01-01      26.5     -122.5          NaN\n",
       "1       1750-01-01      26.5     -121.5          NaN\n",
       "2       1750-01-01      26.5     -120.5          NaN\n",
       "3       1750-01-01      26.5     -119.5          NaN\n",
       "4       1750-01-01      26.5     -118.5          NaN\n",
       "...            ...       ...        ...          ...\n",
       "3743163 2022-08-01      47.5      -75.5     1.652320\n",
       "3743164 2022-08-01      47.5      -74.5     1.732874\n",
       "3743165 2022-08-01      47.5      -73.5     1.779766\n",
       "3743166 2022-08-01      47.5      -72.5     1.833344\n",
       "3743167 2022-08-01      47.5      -71.5     1.892899\n",
       "\n",
       "[3743168 rows x 4 columns]"
      ]
     },
     "execution_count": 69,
     "metadata": {},
     "output_type": "execute_result"
    }
   ],
   "source": [
    "df_copy"
   ]
  },
  {
   "cell_type": "code",
   "execution_count": 70,
   "id": "ee068295",
   "metadata": {},
   "outputs": [],
   "source": [
    "df_copy = df_copy.loc[df_copy['time'] >= '1901-01-01', :]"
   ]
  },
  {
   "cell_type": "code",
   "execution_count": 71,
   "id": "9c6fc8ef",
   "metadata": {},
   "outputs": [
    {
     "data": {
      "text/plain": [
       "time                0\n",
       "latitude            0\n",
       "longitude           0\n",
       "temperature    177016\n",
       "dtype: int64"
      ]
     },
     "execution_count": 71,
     "metadata": {},
     "output_type": "execute_result"
    }
   ],
   "source": [
    "df_copy.isnull().sum()"
   ]
  },
  {
   "cell_type": "code",
   "execution_count": 72,
   "id": "dd87b8c8",
   "metadata": {},
   "outputs": [
    {
     "data": {
      "text/html": [
       "<div>\n",
       "<style scoped>\n",
       "    .dataframe tbody tr th:only-of-type {\n",
       "        vertical-align: middle;\n",
       "    }\n",
       "\n",
       "    .dataframe tbody tr th {\n",
       "        vertical-align: top;\n",
       "    }\n",
       "\n",
       "    .dataframe thead th {\n",
       "        text-align: right;\n",
       "    }\n",
       "</style>\n",
       "<table border=\"1\" class=\"dataframe\">\n",
       "  <thead>\n",
       "    <tr style=\"text-align: right;\">\n",
       "      <th></th>\n",
       "      <th>time</th>\n",
       "      <th>latitude</th>\n",
       "      <th>longitude</th>\n",
       "      <th>temperature</th>\n",
       "    </tr>\n",
       "  </thead>\n",
       "  <tbody>\n",
       "    <tr>\n",
       "      <th>2745600</th>\n",
       "      <td>1950-01-01</td>\n",
       "      <td>26.5</td>\n",
       "      <td>-122.5</td>\n",
       "      <td>NaN</td>\n",
       "    </tr>\n",
       "    <tr>\n",
       "      <th>2745601</th>\n",
       "      <td>1950-01-01</td>\n",
       "      <td>26.5</td>\n",
       "      <td>-121.5</td>\n",
       "      <td>NaN</td>\n",
       "    </tr>\n",
       "    <tr>\n",
       "      <th>2745602</th>\n",
       "      <td>1950-01-01</td>\n",
       "      <td>26.5</td>\n",
       "      <td>-120.5</td>\n",
       "      <td>NaN</td>\n",
       "    </tr>\n",
       "    <tr>\n",
       "      <th>2745603</th>\n",
       "      <td>1950-01-01</td>\n",
       "      <td>26.5</td>\n",
       "      <td>-119.5</td>\n",
       "      <td>NaN</td>\n",
       "    </tr>\n",
       "    <tr>\n",
       "      <th>2745604</th>\n",
       "      <td>1950-01-01</td>\n",
       "      <td>26.5</td>\n",
       "      <td>-118.5</td>\n",
       "      <td>NaN</td>\n",
       "    </tr>\n",
       "    <tr>\n",
       "      <th>...</th>\n",
       "      <td>...</td>\n",
       "      <td>...</td>\n",
       "      <td>...</td>\n",
       "      <td>...</td>\n",
       "    </tr>\n",
       "    <tr>\n",
       "      <th>3743000</th>\n",
       "      <td>2022-08-01</td>\n",
       "      <td>44.5</td>\n",
       "      <td>-82.5</td>\n",
       "      <td>NaN</td>\n",
       "    </tr>\n",
       "    <tr>\n",
       "      <th>3743052</th>\n",
       "      <td>2022-08-01</td>\n",
       "      <td>45.5</td>\n",
       "      <td>-82.5</td>\n",
       "      <td>NaN</td>\n",
       "    </tr>\n",
       "    <tr>\n",
       "      <th>3743149</th>\n",
       "      <td>2022-08-01</td>\n",
       "      <td>47.5</td>\n",
       "      <td>-89.5</td>\n",
       "      <td>NaN</td>\n",
       "    </tr>\n",
       "    <tr>\n",
       "      <th>3743151</th>\n",
       "      <td>2022-08-01</td>\n",
       "      <td>47.5</td>\n",
       "      <td>-87.5</td>\n",
       "      <td>NaN</td>\n",
       "    </tr>\n",
       "    <tr>\n",
       "      <th>3743152</th>\n",
       "      <td>2022-08-01</td>\n",
       "      <td>47.5</td>\n",
       "      <td>-86.5</td>\n",
       "      <td>NaN</td>\n",
       "    </tr>\n",
       "  </tbody>\n",
       "</table>\n",
       "<p>177016 rows × 4 columns</p>\n",
       "</div>"
      ],
      "text/plain": [
       "              time  latitude  longitude  temperature\n",
       "2745600 1950-01-01      26.5     -122.5          NaN\n",
       "2745601 1950-01-01      26.5     -121.5          NaN\n",
       "2745602 1950-01-01      26.5     -120.5          NaN\n",
       "2745603 1950-01-01      26.5     -119.5          NaN\n",
       "2745604 1950-01-01      26.5     -118.5          NaN\n",
       "...            ...       ...        ...          ...\n",
       "3743000 2022-08-01      44.5      -82.5          NaN\n",
       "3743052 2022-08-01      45.5      -82.5          NaN\n",
       "3743149 2022-08-01      47.5      -89.5          NaN\n",
       "3743151 2022-08-01      47.5      -87.5          NaN\n",
       "3743152 2022-08-01      47.5      -86.5          NaN\n",
       "\n",
       "[177016 rows x 4 columns]"
      ]
     },
     "execution_count": 72,
     "metadata": {},
     "output_type": "execute_result"
    }
   ],
   "source": [
    "df_copy.loc[df_copy['temperature'].isnull(), :]"
   ]
  },
  {
   "cell_type": "code",
   "execution_count": 73,
   "id": "7bd2351f",
   "metadata": {},
   "outputs": [
    {
     "data": {
      "text/html": [
       "<div>\n",
       "<style scoped>\n",
       "    .dataframe tbody tr th:only-of-type {\n",
       "        vertical-align: middle;\n",
       "    }\n",
       "\n",
       "    .dataframe tbody tr th {\n",
       "        vertical-align: top;\n",
       "    }\n",
       "\n",
       "    .dataframe thead th {\n",
       "        text-align: right;\n",
       "    }\n",
       "</style>\n",
       "<table border=\"1\" class=\"dataframe\">\n",
       "  <thead>\n",
       "    <tr style=\"text-align: right;\">\n",
       "      <th></th>\n",
       "      <th>time</th>\n",
       "      <th>latitude</th>\n",
       "      <th>longitude</th>\n",
       "      <th>temperature</th>\n",
       "    </tr>\n",
       "  </thead>\n",
       "  <tbody>\n",
       "    <tr>\n",
       "      <th>2745600</th>\n",
       "      <td>1950-01-01</td>\n",
       "      <td>26.5</td>\n",
       "      <td>-122.5</td>\n",
       "      <td>NaN</td>\n",
       "    </tr>\n",
       "    <tr>\n",
       "      <th>2745601</th>\n",
       "      <td>1950-01-01</td>\n",
       "      <td>26.5</td>\n",
       "      <td>-121.5</td>\n",
       "      <td>NaN</td>\n",
       "    </tr>\n",
       "    <tr>\n",
       "      <th>2745602</th>\n",
       "      <td>1950-01-01</td>\n",
       "      <td>26.5</td>\n",
       "      <td>-120.5</td>\n",
       "      <td>NaN</td>\n",
       "    </tr>\n",
       "    <tr>\n",
       "      <th>2745603</th>\n",
       "      <td>1950-01-01</td>\n",
       "      <td>26.5</td>\n",
       "      <td>-119.5</td>\n",
       "      <td>NaN</td>\n",
       "    </tr>\n",
       "    <tr>\n",
       "      <th>2745604</th>\n",
       "      <td>1950-01-01</td>\n",
       "      <td>26.5</td>\n",
       "      <td>-118.5</td>\n",
       "      <td>NaN</td>\n",
       "    </tr>\n",
       "    <tr>\n",
       "      <th>...</th>\n",
       "      <td>...</td>\n",
       "      <td>...</td>\n",
       "      <td>...</td>\n",
       "      <td>...</td>\n",
       "    </tr>\n",
       "    <tr>\n",
       "      <th>2746739</th>\n",
       "      <td>1950-01-01</td>\n",
       "      <td>47.5</td>\n",
       "      <td>-75.5</td>\n",
       "      <td>2.540221</td>\n",
       "    </tr>\n",
       "    <tr>\n",
       "      <th>2746740</th>\n",
       "      <td>1950-01-01</td>\n",
       "      <td>47.5</td>\n",
       "      <td>-74.5</td>\n",
       "      <td>2.636371</td>\n",
       "    </tr>\n",
       "    <tr>\n",
       "      <th>2746741</th>\n",
       "      <td>1950-01-01</td>\n",
       "      <td>47.5</td>\n",
       "      <td>-73.5</td>\n",
       "      <td>2.642625</td>\n",
       "    </tr>\n",
       "    <tr>\n",
       "      <th>2746742</th>\n",
       "      <td>1950-01-01</td>\n",
       "      <td>47.5</td>\n",
       "      <td>-72.5</td>\n",
       "      <td>2.652048</td>\n",
       "    </tr>\n",
       "    <tr>\n",
       "      <th>2746743</th>\n",
       "      <td>1950-01-01</td>\n",
       "      <td>47.5</td>\n",
       "      <td>-71.5</td>\n",
       "      <td>2.449350</td>\n",
       "    </tr>\n",
       "  </tbody>\n",
       "</table>\n",
       "<p>1144 rows × 4 columns</p>\n",
       "</div>"
      ],
      "text/plain": [
       "              time  latitude  longitude  temperature\n",
       "2745600 1950-01-01      26.5     -122.5          NaN\n",
       "2745601 1950-01-01      26.5     -121.5          NaN\n",
       "2745602 1950-01-01      26.5     -120.5          NaN\n",
       "2745603 1950-01-01      26.5     -119.5          NaN\n",
       "2745604 1950-01-01      26.5     -118.5          NaN\n",
       "...            ...       ...        ...          ...\n",
       "2746739 1950-01-01      47.5      -75.5     2.540221\n",
       "2746740 1950-01-01      47.5      -74.5     2.636371\n",
       "2746741 1950-01-01      47.5      -73.5     2.642625\n",
       "2746742 1950-01-01      47.5      -72.5     2.652048\n",
       "2746743 1950-01-01      47.5      -71.5     2.449350\n",
       "\n",
       "[1144 rows x 4 columns]"
      ]
     },
     "execution_count": 73,
     "metadata": {},
     "output_type": "execute_result"
    }
   ],
   "source": [
    "df_copy.loc[df_copy['time'] == '1950-01-01']"
   ]
  },
  {
   "cell_type": "code",
   "execution_count": 74,
   "id": "23fe8acf",
   "metadata": {},
   "outputs": [
    {
     "data": {
      "text/plain": [
       "3566152"
      ]
     },
     "execution_count": 74,
     "metadata": {},
     "output_type": "execute_result"
    }
   ],
   "source": [
    "3743168 - 177016 "
   ]
  },
  {
   "cell_type": "code",
   "execution_count": 88,
   "id": "82b3bc51",
   "metadata": {},
   "outputs": [],
   "source": [
    "def split_time_series(start_year, end_year, data, col='temperature', chunk_size=10000):\n",
    "    data = data.loc[(data['time'] >= start_year) & (data['time'] < end_year), :]\n",
    "\n",
    "    frame_to_use = data.loc[data[col].notna(), :]\n",
    "    frame_to_pred = data.loc[data[col].isna(), :]\n",
    "\n",
    "    def batch_generator(df):\n",
    "        start_idx = 0\n",
    "        end_idx = chunk_size\n",
    "        while start_idx < len(df):\n",
    "            yield df.iloc[start_idx:end_idx, :]\n",
    "            start_idx = end_idx\n",
    "            end_idx += chunk_size\n",
    "            end_idx = min(end_idx, len(df))\n",
    "\n",
    "    X = frame_to_use.drop(['temperature', 'time'], axis=1)\n",
    "    y = frame_to_use['temperature']\n",
    "\n",
    "    train_val_split = int(len(X) * 0.8)\n",
    "    train_split = int(train_val_split * 0.75)\n",
    "\n",
    "    X_train = batch_generator(X.iloc[:train_split, :])\n",
    "    y_train = batch_generator(y.iloc[:train_split])\n",
    "    X_val = batch_generator(X.iloc[train_split:train_val_split, :])\n",
    "    y_val = batch_generator(y.iloc[train_split:train_val_split])\n",
    "    X_test = X.iloc[train_val_split:, :]\n",
    "    y_test = y.iloc[train_val_split:]\n",
    "\n",
    "    model = RandomForestRegressor(n_estimators=100, random_state=0)\n",
    "\n",
    "    for X_batch, y_batch in zip(X_train, y_train):\n",
    "        model.fit(X_batch, y_batch)\n",
    "\n",
    "    prediction_val = []\n",
    "    for X_batch in X_val:\n",
    "        prediction_val.extend(model.predict(X_batch))\n",
    "\n",
    "    prediction_test = model.predict(X_test)\n",
    "\n",
    "    frame_to_pred.drop(['temperature', 'time'], axis=1, inplace=True)\n",
    "    frame_to_pred.loc[:, 'temperature'] = model.predict(frame_to_pred)\n",
    "\n",
    "    return frame_to_pred"
   ]
  },
  {
   "cell_type": "code",
   "execution_count": 89,
   "id": "73110927",
   "metadata": {},
   "outputs": [
    {
     "ename": "IndexingError",
     "evalue": "Too many indexers",
     "output_type": "error",
     "traceback": [
      "\u001b[1;31m---------------------------------------------------------------------------\u001b[0m",
      "\u001b[1;31mIndexingError\u001b[0m                             Traceback (most recent call last)",
      "Input \u001b[1;32mIn [89]\u001b[0m, in \u001b[0;36m<cell line: 1>\u001b[1;34m()\u001b[0m\n\u001b[1;32m----> 1\u001b[0m preds \u001b[38;5;241m=\u001b[39m \u001b[43msplit_time_series\u001b[49m\u001b[43m(\u001b[49m\u001b[38;5;124;43m'\u001b[39;49m\u001b[38;5;124;43m1901-01-01\u001b[39;49m\u001b[38;5;124;43m'\u001b[39;49m\u001b[43m,\u001b[49m\u001b[43m \u001b[49m\u001b[38;5;124;43m'\u001b[39;49m\u001b[38;5;124;43m1950-01-01\u001b[39;49m\u001b[38;5;124;43m'\u001b[39;49m\u001b[43m,\u001b[49m\u001b[43m \u001b[49m\u001b[43mdf_copy\u001b[49m\u001b[43m)\u001b[49m\n\u001b[0;32m      2\u001b[0m df_copy\u001b[38;5;241m.\u001b[39mloc[(df_copy[\u001b[38;5;124m'\u001b[39m\u001b[38;5;124mtime\u001b[39m\u001b[38;5;124m'\u001b[39m] \u001b[38;5;241m>\u001b[39m\u001b[38;5;241m=\u001b[39m \u001b[38;5;124m'\u001b[39m\u001b[38;5;124m1901-01-16\u001b[39m\u001b[38;5;124m'\u001b[39m) \u001b[38;5;241m&\u001b[39m (df_copy[\u001b[38;5;124m'\u001b[39m\u001b[38;5;124mtime\u001b[39m\u001b[38;5;124m'\u001b[39m] \u001b[38;5;241m<\u001b[39m \u001b[38;5;124m'\u001b[39m\u001b[38;5;124m1950-01-16\u001b[39m\u001b[38;5;124m'\u001b[39m), :] \u001b[38;5;241m=\u001b[39m df_copy\u001b[38;5;241m.\u001b[39mloc[(df_copy[\u001b[38;5;124m'\u001b[39m\u001b[38;5;124mtime\u001b[39m\u001b[38;5;124m'\u001b[39m] \u001b[38;5;241m>\u001b[39m\u001b[38;5;241m=\u001b[39m \u001b[38;5;124m'\u001b[39m\u001b[38;5;124m1901-01-16\u001b[39m\u001b[38;5;124m'\u001b[39m) \u001b[38;5;241m&\u001b[39m (df_copy[\u001b[38;5;124m'\u001b[39m\u001b[38;5;124mtime\u001b[39m\u001b[38;5;124m'\u001b[39m] \u001b[38;5;241m<\u001b[39m \u001b[38;5;124m'\u001b[39m\u001b[38;5;124m1950-01-16\u001b[39m\u001b[38;5;124m'\u001b[39m), :]\u001b[38;5;241m.\u001b[39mfillna(preds, axis\u001b[38;5;241m=\u001b[39m\u001b[38;5;241m0\u001b[39m)\n",
      "Input \u001b[1;32mIn [88]\u001b[0m, in \u001b[0;36msplit_time_series\u001b[1;34m(start_year, end_year, data, col, chunk_size)\u001b[0m\n\u001b[0;32m     27\u001b[0m y_test \u001b[38;5;241m=\u001b[39m y\u001b[38;5;241m.\u001b[39miloc[train_val_split:]\n\u001b[0;32m     29\u001b[0m model \u001b[38;5;241m=\u001b[39m RandomForestRegressor(n_estimators\u001b[38;5;241m=\u001b[39m\u001b[38;5;241m100\u001b[39m, random_state\u001b[38;5;241m=\u001b[39m\u001b[38;5;241m0\u001b[39m)\n\u001b[1;32m---> 31\u001b[0m \u001b[38;5;28;01mfor\u001b[39;00m X_batch, y_batch \u001b[38;5;129;01min\u001b[39;00m \u001b[38;5;28mzip\u001b[39m(X_train, y_train):\n\u001b[0;32m     32\u001b[0m     model\u001b[38;5;241m.\u001b[39mfit(X_batch, y_batch)\n\u001b[0;32m     34\u001b[0m prediction_val \u001b[38;5;241m=\u001b[39m []\n",
      "Input \u001b[1;32mIn [88]\u001b[0m, in \u001b[0;36msplit_time_series.<locals>.batch_generator\u001b[1;34m(df)\u001b[0m\n\u001b[0;32m      9\u001b[0m end_idx \u001b[38;5;241m=\u001b[39m chunk_size\n\u001b[0;32m     10\u001b[0m \u001b[38;5;28;01mwhile\u001b[39;00m start_idx \u001b[38;5;241m<\u001b[39m \u001b[38;5;28mlen\u001b[39m(df):\n\u001b[1;32m---> 11\u001b[0m     \u001b[38;5;28;01myield\u001b[39;00m \u001b[43mdf\u001b[49m\u001b[38;5;241;43m.\u001b[39;49m\u001b[43miloc\u001b[49m\u001b[43m[\u001b[49m\u001b[43mstart_idx\u001b[49m\u001b[43m:\u001b[49m\u001b[43mend_idx\u001b[49m\u001b[43m,\u001b[49m\u001b[43m \u001b[49m\u001b[43m:\u001b[49m\u001b[43m]\u001b[49m\n\u001b[0;32m     12\u001b[0m     start_idx \u001b[38;5;241m=\u001b[39m end_idx\n\u001b[0;32m     13\u001b[0m     end_idx \u001b[38;5;241m+\u001b[39m\u001b[38;5;241m=\u001b[39m chunk_size\n",
      "File \u001b[1;32m~\\AppData\\Local\\Programs\\Python\\Python310\\lib\\site-packages\\pandas\\core\\indexing.py:961\u001b[0m, in \u001b[0;36m_LocationIndexer.__getitem__\u001b[1;34m(self, key)\u001b[0m\n\u001b[0;32m    959\u001b[0m     \u001b[38;5;28;01mif\u001b[39;00m \u001b[38;5;28mself\u001b[39m\u001b[38;5;241m.\u001b[39m_is_scalar_access(key):\n\u001b[0;32m    960\u001b[0m         \u001b[38;5;28;01mreturn\u001b[39;00m \u001b[38;5;28mself\u001b[39m\u001b[38;5;241m.\u001b[39mobj\u001b[38;5;241m.\u001b[39m_get_value(\u001b[38;5;241m*\u001b[39mkey, takeable\u001b[38;5;241m=\u001b[39m\u001b[38;5;28mself\u001b[39m\u001b[38;5;241m.\u001b[39m_takeable)\n\u001b[1;32m--> 961\u001b[0m     \u001b[38;5;28;01mreturn\u001b[39;00m \u001b[38;5;28;43mself\u001b[39;49m\u001b[38;5;241;43m.\u001b[39;49m\u001b[43m_getitem_tuple\u001b[49m\u001b[43m(\u001b[49m\u001b[43mkey\u001b[49m\u001b[43m)\u001b[49m\n\u001b[0;32m    962\u001b[0m \u001b[38;5;28;01melse\u001b[39;00m:\n\u001b[0;32m    963\u001b[0m     \u001b[38;5;66;03m# we by definition only have the 0th axis\u001b[39;00m\n\u001b[0;32m    964\u001b[0m     axis \u001b[38;5;241m=\u001b[39m \u001b[38;5;28mself\u001b[39m\u001b[38;5;241m.\u001b[39maxis \u001b[38;5;129;01mor\u001b[39;00m \u001b[38;5;241m0\u001b[39m\n",
      "File \u001b[1;32m~\\AppData\\Local\\Programs\\Python\\Python310\\lib\\site-packages\\pandas\\core\\indexing.py:1458\u001b[0m, in \u001b[0;36m_iLocIndexer._getitem_tuple\u001b[1;34m(self, tup)\u001b[0m\n\u001b[0;32m   1456\u001b[0m \u001b[38;5;28;01mdef\u001b[39;00m \u001b[38;5;21m_getitem_tuple\u001b[39m(\u001b[38;5;28mself\u001b[39m, tup: \u001b[38;5;28mtuple\u001b[39m):\n\u001b[1;32m-> 1458\u001b[0m     tup \u001b[38;5;241m=\u001b[39m \u001b[38;5;28;43mself\u001b[39;49m\u001b[38;5;241;43m.\u001b[39;49m\u001b[43m_validate_tuple_indexer\u001b[49m\u001b[43m(\u001b[49m\u001b[43mtup\u001b[49m\u001b[43m)\u001b[49m\n\u001b[0;32m   1459\u001b[0m     \u001b[38;5;28;01mwith\u001b[39;00m suppress(IndexingError):\n\u001b[0;32m   1460\u001b[0m         \u001b[38;5;28;01mreturn\u001b[39;00m \u001b[38;5;28mself\u001b[39m\u001b[38;5;241m.\u001b[39m_getitem_lowerdim(tup)\n",
      "File \u001b[1;32m~\\AppData\\Local\\Programs\\Python\\Python310\\lib\\site-packages\\pandas\\core\\indexing.py:765\u001b[0m, in \u001b[0;36m_LocationIndexer._validate_tuple_indexer\u001b[1;34m(self, key)\u001b[0m\n\u001b[0;32m    761\u001b[0m \u001b[38;5;28;01mdef\u001b[39;00m \u001b[38;5;21m_validate_tuple_indexer\u001b[39m(\u001b[38;5;28mself\u001b[39m, key: \u001b[38;5;28mtuple\u001b[39m) \u001b[38;5;241m-\u001b[39m\u001b[38;5;241m>\u001b[39m \u001b[38;5;28mtuple\u001b[39m:\n\u001b[0;32m    762\u001b[0m     \u001b[38;5;124;03m\"\"\"\u001b[39;00m\n\u001b[0;32m    763\u001b[0m \u001b[38;5;124;03m    Check the key for valid keys across my indexer.\u001b[39;00m\n\u001b[0;32m    764\u001b[0m \u001b[38;5;124;03m    \"\"\"\u001b[39;00m\n\u001b[1;32m--> 765\u001b[0m     key \u001b[38;5;241m=\u001b[39m \u001b[38;5;28;43mself\u001b[39;49m\u001b[38;5;241;43m.\u001b[39;49m\u001b[43m_validate_key_length\u001b[49m\u001b[43m(\u001b[49m\u001b[43mkey\u001b[49m\u001b[43m)\u001b[49m\n\u001b[0;32m    766\u001b[0m     key \u001b[38;5;241m=\u001b[39m \u001b[38;5;28mself\u001b[39m\u001b[38;5;241m.\u001b[39m_expand_ellipsis(key)\n\u001b[0;32m    767\u001b[0m     \u001b[38;5;28;01mfor\u001b[39;00m i, k \u001b[38;5;129;01min\u001b[39;00m \u001b[38;5;28menumerate\u001b[39m(key):\n",
      "File \u001b[1;32m~\\AppData\\Local\\Programs\\Python\\Python310\\lib\\site-packages\\pandas\\core\\indexing.py:812\u001b[0m, in \u001b[0;36m_LocationIndexer._validate_key_length\u001b[1;34m(self, key)\u001b[0m\n\u001b[0;32m    810\u001b[0m             \u001b[38;5;28;01mraise\u001b[39;00m IndexingError(_one_ellipsis_message)\n\u001b[0;32m    811\u001b[0m         \u001b[38;5;28;01mreturn\u001b[39;00m \u001b[38;5;28mself\u001b[39m\u001b[38;5;241m.\u001b[39m_validate_key_length(key)\n\u001b[1;32m--> 812\u001b[0m     \u001b[38;5;28;01mraise\u001b[39;00m IndexingError(\u001b[38;5;124m\"\u001b[39m\u001b[38;5;124mToo many indexers\u001b[39m\u001b[38;5;124m\"\u001b[39m)\n\u001b[0;32m    813\u001b[0m \u001b[38;5;28;01mreturn\u001b[39;00m key\n",
      "\u001b[1;31mIndexingError\u001b[0m: Too many indexers"
     ]
    }
   ],
   "source": [
    "preds = split_time_series('1901-01-01', '1950-01-01', df_copy)\n",
    "df_copy.loc[(df_copy['time'] >= '1901-01-16') & (df_copy['time'] < '1950-01-16'), :] = df_copy.loc[(df_copy['time'] >= '1901-01-16') & (df_copy['time'] < '1950-01-16'), :].fillna(preds, axis=0)"
   ]
  },
  {
   "cell_type": "code",
   "execution_count": null,
   "id": "ff8c89be",
   "metadata": {},
   "outputs": [],
   "source": []
  },
  {
   "cell_type": "code",
   "execution_count": null,
   "id": "7ddbc85c",
   "metadata": {},
   "outputs": [],
   "source": []
  },
  {
   "cell_type": "code",
   "execution_count": null,
   "id": "e6243120",
   "metadata": {},
   "outputs": [],
   "source": []
  }
 ],
 "metadata": {
  "kernelspec": {
   "display_name": "Python 3 (ipykernel)",
   "language": "python",
   "name": "python3"
  },
  "language_info": {
   "codemirror_mode": {
    "name": "ipython",
    "version": 3
   },
   "file_extension": ".py",
   "mimetype": "text/x-python",
   "name": "python",
   "nbconvert_exporter": "python",
   "pygments_lexer": "ipython3",
   "version": "3.10.5"
  }
 },
 "nbformat": 4,
 "nbformat_minor": 5
}
