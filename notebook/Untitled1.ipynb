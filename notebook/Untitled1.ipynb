{
 "cells": [
  {
   "cell_type": "code",
   "execution_count": 1,
   "id": "21d2d92e",
   "metadata": {},
   "outputs": [],
   "source": [
    "import pandas as pd\n",
    "import numpy as np\n",
    "from keras.models import Sequential\n",
    "from keras.layers import InputLayer\n",
    "from keras.layers import Dense\n",
    "from keras.layers import LSTM\n",
    "from sklearn.preprocessing import MinMaxScaler\n",
    "from sklearn.model_selection import train_test_split\n",
    "from sklearn.metrics import mean_squared_error"
   ]
  },
  {
   "cell_type": "code",
   "execution_count": 2,
   "id": "7dce873e",
   "metadata": {},
   "outputs": [
    {
     "data": {
      "text/html": [
       "<div>\n",
       "<style scoped>\n",
       "    .dataframe tbody tr th:only-of-type {\n",
       "        vertical-align: middle;\n",
       "    }\n",
       "\n",
       "    .dataframe tbody tr th {\n",
       "        vertical-align: top;\n",
       "    }\n",
       "\n",
       "    .dataframe thead th {\n",
       "        text-align: right;\n",
       "    }\n",
       "</style>\n",
       "<table border=\"1\" class=\"dataframe\">\n",
       "  <thead>\n",
       "    <tr style=\"text-align: right;\">\n",
       "      <th></th>\n",
       "      <th>time</th>\n",
       "      <th>latitude</th>\n",
       "      <th>longitude</th>\n",
       "      <th>temperature</th>\n",
       "    </tr>\n",
       "  </thead>\n",
       "  <tbody>\n",
       "    <tr>\n",
       "      <th>0</th>\n",
       "      <td>1750-01-01</td>\n",
       "      <td>26.5</td>\n",
       "      <td>-122.5</td>\n",
       "      <td>NaN</td>\n",
       "    </tr>\n",
       "    <tr>\n",
       "      <th>1</th>\n",
       "      <td>1750-01-01</td>\n",
       "      <td>26.5</td>\n",
       "      <td>-121.5</td>\n",
       "      <td>NaN</td>\n",
       "    </tr>\n",
       "    <tr>\n",
       "      <th>2</th>\n",
       "      <td>1750-01-01</td>\n",
       "      <td>26.5</td>\n",
       "      <td>-120.5</td>\n",
       "      <td>NaN</td>\n",
       "    </tr>\n",
       "    <tr>\n",
       "      <th>3</th>\n",
       "      <td>1750-01-01</td>\n",
       "      <td>26.5</td>\n",
       "      <td>-119.5</td>\n",
       "      <td>NaN</td>\n",
       "    </tr>\n",
       "    <tr>\n",
       "      <th>4</th>\n",
       "      <td>1750-01-01</td>\n",
       "      <td>26.5</td>\n",
       "      <td>-118.5</td>\n",
       "      <td>NaN</td>\n",
       "    </tr>\n",
       "  </tbody>\n",
       "</table>\n",
       "</div>"
      ],
      "text/plain": [
       "         time  latitude  longitude  temperature\n",
       "0  1750-01-01      26.5     -122.5          NaN\n",
       "1  1750-01-01      26.5     -121.5          NaN\n",
       "2  1750-01-01      26.5     -120.5          NaN\n",
       "3  1750-01-01      26.5     -119.5          NaN\n",
       "4  1750-01-01      26.5     -118.5          NaN"
      ]
     },
     "execution_count": 2,
     "metadata": {},
     "output_type": "execute_result"
    }
   ],
   "source": [
    "df_Berk = pd.read_csv('Avg.csv')\n",
    "df_Berk.head()"
   ]
  },
  {
   "cell_type": "code",
   "execution_count": 3,
   "id": "6046f9fc",
   "metadata": {},
   "outputs": [],
   "source": [
    "df_Berk['time'] = pd.to_datetime(df_Berk['time'])"
   ]
  },
  {
   "cell_type": "code",
   "execution_count": 4,
   "id": "2892edb7",
   "metadata": {},
   "outputs": [],
   "source": [
    "df_copy = df_Berk[['time', 'temperature']]\n",
    "df_copy = df_copy.set_index('time')"
   ]
  },
  {
   "cell_type": "code",
   "execution_count": 5,
   "id": "b830eab0",
   "metadata": {},
   "outputs": [],
   "source": [
    "df_copy = df_copy.loc[df_copy.index > '1900-01-01', :]"
   ]
  },
  {
   "cell_type": "code",
   "execution_count": 6,
   "id": "bc2171e6",
   "metadata": {},
   "outputs": [],
   "source": [
    "df_copy = df_copy.resample('M').mean()"
   ]
  },
  {
   "cell_type": "code",
   "execution_count": 7,
   "id": "f919f964",
   "metadata": {
    "scrolled": true
   },
   "outputs": [
    {
     "data": {
      "text/html": [
       "<div>\n",
       "<style scoped>\n",
       "    .dataframe tbody tr th:only-of-type {\n",
       "        vertical-align: middle;\n",
       "    }\n",
       "\n",
       "    .dataframe tbody tr th {\n",
       "        vertical-align: top;\n",
       "    }\n",
       "\n",
       "    .dataframe thead th {\n",
       "        text-align: right;\n",
       "    }\n",
       "</style>\n",
       "<table border=\"1\" class=\"dataframe\">\n",
       "  <thead>\n",
       "    <tr style=\"text-align: right;\">\n",
       "      <th></th>\n",
       "      <th>temperature</th>\n",
       "    </tr>\n",
       "  </thead>\n",
       "  <tbody>\n",
       "    <tr>\n",
       "      <th>count</th>\n",
       "      <td>1471.000000</td>\n",
       "    </tr>\n",
       "    <tr>\n",
       "      <th>mean</th>\n",
       "      <td>0.143264</td>\n",
       "    </tr>\n",
       "    <tr>\n",
       "      <th>std</th>\n",
       "      <td>1.148851</td>\n",
       "    </tr>\n",
       "    <tr>\n",
       "      <th>min</th>\n",
       "      <td>-4.264061</td>\n",
       "    </tr>\n",
       "    <tr>\n",
       "      <th>25%</th>\n",
       "      <td>-0.564256</td>\n",
       "    </tr>\n",
       "    <tr>\n",
       "      <th>50%</th>\n",
       "      <td>0.101511</td>\n",
       "    </tr>\n",
       "    <tr>\n",
       "      <th>75%</th>\n",
       "      <td>0.851870</td>\n",
       "    </tr>\n",
       "    <tr>\n",
       "      <th>max</th>\n",
       "      <td>5.005915</td>\n",
       "    </tr>\n",
       "  </tbody>\n",
       "</table>\n",
       "</div>"
      ],
      "text/plain": [
       "       temperature\n",
       "count  1471.000000\n",
       "mean      0.143264\n",
       "std       1.148851\n",
       "min      -4.264061\n",
       "25%      -0.564256\n",
       "50%       0.101511\n",
       "75%       0.851870\n",
       "max       5.005915"
      ]
     },
     "execution_count": 7,
     "metadata": {},
     "output_type": "execute_result"
    }
   ],
   "source": [
    "df_copy.describe()"
   ]
  },
  {
   "cell_type": "code",
   "execution_count": 8,
   "id": "11a3a1b9",
   "metadata": {},
   "outputs": [
    {
     "data": {
      "text/plain": [
       "(1471, 1)"
      ]
     },
     "execution_count": 8,
     "metadata": {},
     "output_type": "execute_result"
    }
   ],
   "source": [
    "df_copy.shape"
   ]
  },
  {
   "cell_type": "code",
   "execution_count": 9,
   "id": "5393e381",
   "metadata": {
    "scrolled": true
   },
   "outputs": [
    {
     "data": {
      "text/html": [
       "<div>\n",
       "<style scoped>\n",
       "    .dataframe tbody tr th:only-of-type {\n",
       "        vertical-align: middle;\n",
       "    }\n",
       "\n",
       "    .dataframe tbody tr th {\n",
       "        vertical-align: top;\n",
       "    }\n",
       "\n",
       "    .dataframe thead th {\n",
       "        text-align: right;\n",
       "    }\n",
       "</style>\n",
       "<table border=\"1\" class=\"dataframe\">\n",
       "  <thead>\n",
       "    <tr style=\"text-align: right;\">\n",
       "      <th></th>\n",
       "      <th>temperature</th>\n",
       "    </tr>\n",
       "    <tr>\n",
       "      <th>time</th>\n",
       "      <th></th>\n",
       "    </tr>\n",
       "  </thead>\n",
       "  <tbody>\n",
       "    <tr>\n",
       "      <th>1900-02-28</th>\n",
       "      <td>-1.760479</td>\n",
       "    </tr>\n",
       "    <tr>\n",
       "      <th>1900-03-31</th>\n",
       "      <td>-0.235467</td>\n",
       "    </tr>\n",
       "    <tr>\n",
       "      <th>1900-04-30</th>\n",
       "      <td>-0.076263</td>\n",
       "    </tr>\n",
       "    <tr>\n",
       "      <th>1900-05-31</th>\n",
       "      <td>0.488469</td>\n",
       "    </tr>\n",
       "    <tr>\n",
       "      <th>1900-06-30</th>\n",
       "      <td>0.592415</td>\n",
       "    </tr>\n",
       "  </tbody>\n",
       "</table>\n",
       "</div>"
      ],
      "text/plain": [
       "            temperature\n",
       "time                   \n",
       "1900-02-28    -1.760479\n",
       "1900-03-31    -0.235467\n",
       "1900-04-30    -0.076263\n",
       "1900-05-31     0.488469\n",
       "1900-06-30     0.592415"
      ]
     },
     "execution_count": 9,
     "metadata": {},
     "output_type": "execute_result"
    }
   ],
   "source": [
    "df_copy.head()"
   ]
  },
  {
   "cell_type": "code",
   "execution_count": 10,
   "id": "1f35243f",
   "metadata": {},
   "outputs": [
    {
     "ename": "KeyError",
     "evalue": "\"None of ['time'] are in the columns\"",
     "output_type": "error",
     "traceback": [
      "\u001b[1;31m---------------------------------------------------------------------------\u001b[0m",
      "\u001b[1;31mKeyError\u001b[0m                                  Traceback (most recent call last)",
      "Input \u001b[1;32mIn [10]\u001b[0m, in \u001b[0;36m<cell line: 1>\u001b[1;34m()\u001b[0m\n\u001b[1;32m----> 1\u001b[0m \u001b[43mdf_copy\u001b[49m\u001b[38;5;241;43m.\u001b[39;49m\u001b[43mset_index\u001b[49m\u001b[43m(\u001b[49m\u001b[38;5;124;43m'\u001b[39;49m\u001b[38;5;124;43mtime\u001b[39;49m\u001b[38;5;124;43m'\u001b[39;49m\u001b[43m)\u001b[49m\u001b[38;5;241m.\u001b[39mto_numpy()\n",
      "File \u001b[1;32m~\\AppData\\Local\\Programs\\Python\\Python310\\lib\\site-packages\\pandas\\util\\_decorators.py:311\u001b[0m, in \u001b[0;36mdeprecate_nonkeyword_arguments.<locals>.decorate.<locals>.wrapper\u001b[1;34m(*args, **kwargs)\u001b[0m\n\u001b[0;32m    305\u001b[0m \u001b[38;5;28;01mif\u001b[39;00m \u001b[38;5;28mlen\u001b[39m(args) \u001b[38;5;241m>\u001b[39m num_allow_args:\n\u001b[0;32m    306\u001b[0m     warnings\u001b[38;5;241m.\u001b[39mwarn(\n\u001b[0;32m    307\u001b[0m         msg\u001b[38;5;241m.\u001b[39mformat(arguments\u001b[38;5;241m=\u001b[39marguments),\n\u001b[0;32m    308\u001b[0m         \u001b[38;5;167;01mFutureWarning\u001b[39;00m,\n\u001b[0;32m    309\u001b[0m         stacklevel\u001b[38;5;241m=\u001b[39mstacklevel,\n\u001b[0;32m    310\u001b[0m     )\n\u001b[1;32m--> 311\u001b[0m \u001b[38;5;28;01mreturn\u001b[39;00m func(\u001b[38;5;241m*\u001b[39margs, \u001b[38;5;241m*\u001b[39m\u001b[38;5;241m*\u001b[39mkwargs)\n",
      "File \u001b[1;32m~\\AppData\\Local\\Programs\\Python\\Python310\\lib\\site-packages\\pandas\\core\\frame.py:5494\u001b[0m, in \u001b[0;36mDataFrame.set_index\u001b[1;34m(self, keys, drop, append, inplace, verify_integrity)\u001b[0m\n\u001b[0;32m   5491\u001b[0m                 missing\u001b[38;5;241m.\u001b[39mappend(col)\n\u001b[0;32m   5493\u001b[0m \u001b[38;5;28;01mif\u001b[39;00m missing:\n\u001b[1;32m-> 5494\u001b[0m     \u001b[38;5;28;01mraise\u001b[39;00m \u001b[38;5;167;01mKeyError\u001b[39;00m(\u001b[38;5;124mf\u001b[39m\u001b[38;5;124m\"\u001b[39m\u001b[38;5;124mNone of \u001b[39m\u001b[38;5;132;01m{\u001b[39;00mmissing\u001b[38;5;132;01m}\u001b[39;00m\u001b[38;5;124m are in the columns\u001b[39m\u001b[38;5;124m\"\u001b[39m)\n\u001b[0;32m   5496\u001b[0m \u001b[38;5;28;01mif\u001b[39;00m inplace:\n\u001b[0;32m   5497\u001b[0m     frame \u001b[38;5;241m=\u001b[39m \u001b[38;5;28mself\u001b[39m\n",
      "\u001b[1;31mKeyError\u001b[0m: \"None of ['time'] are in the columns\""
     ]
    }
   ],
   "source": [
    "df_copy.set_index('time').to_numpy()"
   ]
  },
  {
   "cell_type": "code",
   "execution_count": null,
   "id": "9922912c",
   "metadata": {},
   "outputs": [],
   "source": [
    "df_copy.to_numpy()"
   ]
  },
  {
   "cell_type": "code",
   "execution_count": 11,
   "id": "23fd11f5",
   "metadata": {},
   "outputs": [],
   "source": [
    "df_copy = df_copy.reset_index()"
   ]
  },
  {
   "cell_type": "code",
   "execution_count": 12,
   "id": "02488b46",
   "metadata": {},
   "outputs": [],
   "source": [
    "def create_dataset(dataset, n_features):\n",
    "    dataset = dataset.set_index('time')\n",
    "    dataset = dataset.to_numpy()\n",
    "    X, y = [], []\n",
    "    for i in range(len(dataset)):\n",
    "        end_ix = i + n_features\n",
    "        if end_ix > len(dataset)-1:\n",
    "            break\n",
    "        seq_x, seq_y = dataset[i:end_ix], dataset[end_ix]\n",
    "        X.append(seq_x)\n",
    "        y.append(seq_y)\n",
    "    return np.array(X), np.array(y)"
   ]
  },
  {
   "cell_type": "code",
   "execution_count": 13,
   "id": "55252267",
   "metadata": {},
   "outputs": [],
   "source": [
    "X, y = create_dataset(df_copy, 1)"
   ]
  },
  {
   "cell_type": "code",
   "execution_count": 14,
   "id": "bdc7e09c",
   "metadata": {},
   "outputs": [
    {
     "data": {
      "text/plain": [
       "(1470, 1, 1)"
      ]
     },
     "execution_count": 14,
     "metadata": {},
     "output_type": "execute_result"
    }
   ],
   "source": [
    "X.shape"
   ]
  },
  {
   "cell_type": "code",
   "execution_count": 15,
   "id": "9d5fc8f7",
   "metadata": {
    "scrolled": false
   },
   "outputs": [
    {
     "data": {
      "text/plain": [
       "array([[[-1.76047867]],\n",
       "\n",
       "       [[-0.23546683]],\n",
       "\n",
       "       [[-0.07626311]],\n",
       "\n",
       "       ...,\n",
       "\n",
       "       [[ 1.19876959]],\n",
       "\n",
       "       [[ 1.33462722]],\n",
       "\n",
       "       [[ 1.51820082]]])"
      ]
     },
     "execution_count": 15,
     "metadata": {},
     "output_type": "execute_result"
    }
   ],
   "source": [
    "X"
   ]
  },
  {
   "cell_type": "code",
   "execution_count": 16,
   "id": "43158f80",
   "metadata": {
    "scrolled": true
   },
   "outputs": [
    {
     "data": {
      "text/plain": [
       "(1470, 1)"
      ]
     },
     "execution_count": 16,
     "metadata": {},
     "output_type": "execute_result"
    }
   ],
   "source": [
    "y.shape"
   ]
  },
  {
   "cell_type": "code",
   "execution_count": 17,
   "id": "5bd928a6",
   "metadata": {
    "scrolled": true
   },
   "outputs": [
    {
     "data": {
      "text/plain": [
       "array([[-0.23546683],\n",
       "       [-0.07626311],\n",
       "       [ 0.4884685 ],\n",
       "       ...,\n",
       "       [ 1.33462722],\n",
       "       [ 1.51820082],\n",
       "       [ 1.34283786]])"
      ]
     },
     "execution_count": 17,
     "metadata": {},
     "output_type": "execute_result"
    }
   ],
   "source": [
    "y"
   ]
  },
  {
   "cell_type": "code",
   "execution_count": 18,
   "id": "2a3c17b0",
   "metadata": {},
   "outputs": [],
   "source": [
    "X = X.reshape((X.shape[0], X.shape[1], 1))"
   ]
  },
  {
   "cell_type": "code",
   "execution_count": 19,
   "id": "221f913f",
   "metadata": {},
   "outputs": [
    {
     "data": {
      "text/plain": [
       "(1470, 1)"
      ]
     },
     "execution_count": 19,
     "metadata": {},
     "output_type": "execute_result"
    }
   ],
   "source": [
    "(X.shape[0], X.shape[1])"
   ]
  },
  {
   "cell_type": "code",
   "execution_count": 20,
   "id": "6d483919",
   "metadata": {
    "scrolled": true
   },
   "outputs": [
    {
     "name": "stdout",
     "output_type": "stream",
     "text": [
      "Epoch 1/300\n",
      "46/46 [==============================] - 2s 2ms/step - loss: 1.3280\n",
      "Epoch 2/300\n",
      "46/46 [==============================] - 0s 2ms/step - loss: 1.3010\n",
      "Epoch 3/300\n",
      "46/46 [==============================] - 0s 2ms/step - loss: 1.2690\n",
      "Epoch 4/300\n",
      "46/46 [==============================] - 0s 2ms/step - loss: 1.2580\n",
      "Epoch 5/300\n",
      "46/46 [==============================] - 0s 2ms/step - loss: 1.2565\n",
      "Epoch 6/300\n",
      "46/46 [==============================] - 0s 2ms/step - loss: 1.2555\n",
      "Epoch 7/300\n",
      "46/46 [==============================] - 0s 2ms/step - loss: 1.2548\n",
      "Epoch 8/300\n",
      "46/46 [==============================] - 0s 2ms/step - loss: 1.2542\n",
      "Epoch 9/300\n",
      "46/46 [==============================] - 0s 2ms/step - loss: 1.2551\n",
      "Epoch 10/300\n",
      "46/46 [==============================] - 0s 2ms/step - loss: 1.2534\n",
      "Epoch 11/300\n",
      "46/46 [==============================] - 0s 2ms/step - loss: 1.2539\n",
      "Epoch 12/300\n",
      "46/46 [==============================] - 0s 2ms/step - loss: 1.2523\n",
      "Epoch 13/300\n",
      "46/46 [==============================] - 0s 2ms/step - loss: 1.2532\n",
      "Epoch 14/300\n",
      "46/46 [==============================] - 0s 2ms/step - loss: 1.2510\n",
      "Epoch 15/300\n",
      "46/46 [==============================] - 0s 2ms/step - loss: 1.2505\n",
      "Epoch 16/300\n",
      "46/46 [==============================] - 0s 2ms/step - loss: 1.2520\n",
      "Epoch 17/300\n",
      "46/46 [==============================] - 0s 2ms/step - loss: 1.2504\n",
      "Epoch 18/300\n",
      "46/46 [==============================] - 0s 2ms/step - loss: 1.2501\n",
      "Epoch 19/300\n",
      "46/46 [==============================] - 0s 2ms/step - loss: 1.2512\n",
      "Epoch 20/300\n",
      "46/46 [==============================] - 0s 2ms/step - loss: 1.2492\n",
      "Epoch 21/300\n",
      "46/46 [==============================] - 0s 2ms/step - loss: 1.2481\n",
      "Epoch 22/300\n",
      "46/46 [==============================] - 0s 2ms/step - loss: 1.2483\n",
      "Epoch 23/300\n",
      "46/46 [==============================] - 0s 2ms/step - loss: 1.2464\n",
      "Epoch 24/300\n",
      "46/46 [==============================] - 0s 2ms/step - loss: 1.2492\n",
      "Epoch 25/300\n",
      "46/46 [==============================] - 0s 2ms/step - loss: 1.2465\n",
      "Epoch 26/300\n",
      "46/46 [==============================] - 0s 2ms/step - loss: 1.2460\n",
      "Epoch 27/300\n",
      "46/46 [==============================] - 0s 2ms/step - loss: 1.2467\n",
      "Epoch 28/300\n",
      "46/46 [==============================] - 0s 2ms/step - loss: 1.2476\n",
      "Epoch 29/300\n",
      "46/46 [==============================] - 0s 2ms/step - loss: 1.2486\n",
      "Epoch 30/300\n",
      "46/46 [==============================] - 0s 2ms/step - loss: 1.2456\n",
      "Epoch 31/300\n",
      "46/46 [==============================] - 0s 2ms/step - loss: 1.2454\n",
      "Epoch 32/300\n",
      "46/46 [==============================] - 0s 2ms/step - loss: 1.2456\n",
      "Epoch 33/300\n",
      "46/46 [==============================] - 0s 2ms/step - loss: 1.2454\n",
      "Epoch 34/300\n",
      "46/46 [==============================] - 0s 2ms/step - loss: 1.2440\n",
      "Epoch 35/300\n",
      "46/46 [==============================] - 0s 2ms/step - loss: 1.2453\n",
      "Epoch 36/300\n",
      "46/46 [==============================] - 0s 2ms/step - loss: 1.2449\n",
      "Epoch 37/300\n",
      "46/46 [==============================] - 0s 2ms/step - loss: 1.2455\n",
      "Epoch 38/300\n",
      "46/46 [==============================] - 0s 2ms/step - loss: 1.2452\n",
      "Epoch 39/300\n",
      "46/46 [==============================] - 0s 2ms/step - loss: 1.2454\n",
      "Epoch 40/300\n",
      "46/46 [==============================] - 0s 2ms/step - loss: 1.2441\n",
      "Epoch 41/300\n",
      "46/46 [==============================] - 0s 2ms/step - loss: 1.2443\n",
      "Epoch 42/300\n",
      "46/46 [==============================] - 0s 2ms/step - loss: 1.2464\n",
      "Epoch 43/300\n",
      "46/46 [==============================] - 0s 2ms/step - loss: 1.2461\n",
      "Epoch 44/300\n",
      "46/46 [==============================] - 0s 2ms/step - loss: 1.2452\n",
      "Epoch 45/300\n",
      "46/46 [==============================] - 0s 3ms/step - loss: 1.2440\n",
      "Epoch 46/300\n",
      "46/46 [==============================] - 0s 2ms/step - loss: 1.2450\n",
      "Epoch 47/300\n",
      "46/46 [==============================] - 0s 2ms/step - loss: 1.2453\n",
      "Epoch 48/300\n",
      "46/46 [==============================] - 0s 2ms/step - loss: 1.2437\n",
      "Epoch 49/300\n",
      "46/46 [==============================] - 0s 2ms/step - loss: 1.2438\n",
      "Epoch 50/300\n",
      "46/46 [==============================] - 0s 2ms/step - loss: 1.2439\n",
      "Epoch 51/300\n",
      "46/46 [==============================] - 0s 2ms/step - loss: 1.2437\n",
      "Epoch 52/300\n",
      "46/46 [==============================] - 0s 2ms/step - loss: 1.2435\n",
      "Epoch 53/300\n",
      "46/46 [==============================] - 0s 2ms/step - loss: 1.2449\n",
      "Epoch 54/300\n",
      "46/46 [==============================] - 0s 2ms/step - loss: 1.2435\n",
      "Epoch 55/300\n",
      "46/46 [==============================] - 0s 2ms/step - loss: 1.2433\n",
      "Epoch 56/300\n",
      "46/46 [==============================] - 0s 2ms/step - loss: 1.2437\n",
      "Epoch 57/300\n",
      "46/46 [==============================] - 0s 2ms/step - loss: 1.2466\n",
      "Epoch 58/300\n",
      "46/46 [==============================] - 0s 2ms/step - loss: 1.2438\n",
      "Epoch 59/300\n",
      "46/46 [==============================] - 0s 2ms/step - loss: 1.2434\n",
      "Epoch 60/300\n",
      "46/46 [==============================] - 0s 2ms/step - loss: 1.2438\n",
      "Epoch 61/300\n",
      "46/46 [==============================] - 0s 2ms/step - loss: 1.2436\n",
      "Epoch 62/300\n",
      "46/46 [==============================] - 0s 2ms/step - loss: 1.2431\n",
      "Epoch 63/300\n",
      "46/46 [==============================] - 0s 2ms/step - loss: 1.2442\n",
      "Epoch 64/300\n",
      "46/46 [==============================] - 0s 2ms/step - loss: 1.2445\n",
      "Epoch 65/300\n",
      "46/46 [==============================] - 0s 2ms/step - loss: 1.2437\n",
      "Epoch 66/300\n",
      "46/46 [==============================] - 0s 2ms/step - loss: 1.2431\n",
      "Epoch 67/300\n",
      "46/46 [==============================] - 0s 2ms/step - loss: 1.2435\n",
      "Epoch 68/300\n",
      "46/46 [==============================] - 0s 2ms/step - loss: 1.2429\n",
      "Epoch 69/300\n",
      "46/46 [==============================] - 0s 2ms/step - loss: 1.2438\n",
      "Epoch 70/300\n",
      "46/46 [==============================] - 0s 2ms/step - loss: 1.2444\n",
      "Epoch 71/300\n",
      "46/46 [==============================] - 0s 2ms/step - loss: 1.2446\n",
      "Epoch 72/300\n",
      "46/46 [==============================] - 0s 2ms/step - loss: 1.2453\n",
      "Epoch 73/300\n",
      "46/46 [==============================] - 0s 2ms/step - loss: 1.2434\n",
      "Epoch 74/300\n",
      "46/46 [==============================] - 0s 2ms/step - loss: 1.2432\n",
      "Epoch 75/300\n",
      "46/46 [==============================] - 0s 2ms/step - loss: 1.2437\n",
      "Epoch 76/300\n",
      "46/46 [==============================] - 0s 2ms/step - loss: 1.2426\n",
      "Epoch 77/300\n",
      "46/46 [==============================] - 0s 2ms/step - loss: 1.2450\n",
      "Epoch 78/300\n",
      "46/46 [==============================] - 0s 2ms/step - loss: 1.2454\n",
      "Epoch 79/300\n",
      "46/46 [==============================] - 0s 2ms/step - loss: 1.2434\n",
      "Epoch 80/300\n",
      "46/46 [==============================] - 0s 2ms/step - loss: 1.2426\n",
      "Epoch 81/300\n",
      "46/46 [==============================] - 0s 2ms/step - loss: 1.2435\n",
      "Epoch 82/300\n",
      "46/46 [==============================] - 0s 2ms/step - loss: 1.2433\n",
      "Epoch 83/300\n",
      "46/46 [==============================] - 0s 2ms/step - loss: 1.2457\n",
      "Epoch 84/300\n",
      "46/46 [==============================] - 0s 2ms/step - loss: 1.2450\n",
      "Epoch 85/300\n",
      "46/46 [==============================] - 0s 2ms/step - loss: 1.2431\n",
      "Epoch 86/300\n",
      "46/46 [==============================] - 0s 2ms/step - loss: 1.2431\n",
      "Epoch 87/300\n",
      "46/46 [==============================] - 0s 2ms/step - loss: 1.2420\n",
      "Epoch 88/300\n",
      "46/46 [==============================] - 0s 2ms/step - loss: 1.2423\n",
      "Epoch 89/300\n",
      "46/46 [==============================] - 0s 2ms/step - loss: 1.2430\n",
      "Epoch 90/300\n",
      "46/46 [==============================] - 0s 2ms/step - loss: 1.2424\n",
      "Epoch 91/300\n",
      "46/46 [==============================] - 0s 2ms/step - loss: 1.2445\n",
      "Epoch 92/300\n",
      "46/46 [==============================] - 0s 2ms/step - loss: 1.2443\n",
      "Epoch 93/300\n",
      "46/46 [==============================] - 0s 2ms/step - loss: 1.2427\n",
      "Epoch 94/300\n",
      "46/46 [==============================] - 0s 2ms/step - loss: 1.2433\n",
      "Epoch 95/300\n",
      "46/46 [==============================] - 0s 2ms/step - loss: 1.2432\n",
      "Epoch 96/300\n",
      "46/46 [==============================] - 0s 2ms/step - loss: 1.2438\n",
      "Epoch 97/300\n",
      "46/46 [==============================] - 0s 2ms/step - loss: 1.2438\n",
      "Epoch 98/300\n",
      "46/46 [==============================] - 0s 2ms/step - loss: 1.2433\n",
      "Epoch 99/300\n",
      "46/46 [==============================] - 0s 2ms/step - loss: 1.2422\n",
      "Epoch 100/300\n",
      "46/46 [==============================] - 0s 2ms/step - loss: 1.2432\n",
      "Epoch 101/300\n",
      "46/46 [==============================] - 0s 2ms/step - loss: 1.2424\n",
      "Epoch 102/300\n",
      "46/46 [==============================] - 0s 2ms/step - loss: 1.2432\n",
      "Epoch 103/300\n",
      "46/46 [==============================] - 0s 2ms/step - loss: 1.2433\n",
      "Epoch 104/300\n",
      "46/46 [==============================] - 0s 2ms/step - loss: 1.2422\n",
      "Epoch 105/300\n",
      "46/46 [==============================] - 0s 2ms/step - loss: 1.2417\n",
      "Epoch 106/300\n",
      "46/46 [==============================] - 0s 2ms/step - loss: 1.2432\n",
      "Epoch 107/300\n",
      "46/46 [==============================] - 0s 2ms/step - loss: 1.2439\n",
      "Epoch 108/300\n",
      "46/46 [==============================] - 0s 2ms/step - loss: 1.2434\n",
      "Epoch 109/300\n",
      "46/46 [==============================] - 0s 2ms/step - loss: 1.2425\n",
      "Epoch 110/300\n",
      "46/46 [==============================] - 0s 2ms/step - loss: 1.2434\n",
      "Epoch 111/300\n",
      "46/46 [==============================] - 0s 2ms/step - loss: 1.2419\n",
      "Epoch 112/300\n",
      "46/46 [==============================] - 0s 2ms/step - loss: 1.2433\n",
      "Epoch 113/300\n",
      "46/46 [==============================] - 0s 2ms/step - loss: 1.2428\n",
      "Epoch 114/300\n",
      "46/46 [==============================] - 0s 2ms/step - loss: 1.2427\n",
      "Epoch 115/300\n",
      "46/46 [==============================] - 0s 2ms/step - loss: 1.2422\n",
      "Epoch 116/300\n",
      "46/46 [==============================] - 0s 2ms/step - loss: 1.2423\n",
      "Epoch 117/300\n",
      "46/46 [==============================] - 0s 2ms/step - loss: 1.2447\n",
      "Epoch 118/300\n",
      "46/46 [==============================] - 0s 2ms/step - loss: 1.2428\n",
      "Epoch 119/300\n",
      "46/46 [==============================] - 0s 2ms/step - loss: 1.2431\n",
      "Epoch 120/300\n",
      "46/46 [==============================] - 0s 2ms/step - loss: 1.2430\n",
      "Epoch 121/300\n",
      "46/46 [==============================] - 0s 2ms/step - loss: 1.2423\n",
      "Epoch 122/300\n",
      "46/46 [==============================] - 0s 2ms/step - loss: 1.2421\n",
      "Epoch 123/300\n",
      "46/46 [==============================] - 0s 2ms/step - loss: 1.2431\n",
      "Epoch 124/300\n",
      "46/46 [==============================] - 0s 2ms/step - loss: 1.2438\n",
      "Epoch 125/300\n",
      "46/46 [==============================] - 0s 2ms/step - loss: 1.2410\n",
      "Epoch 126/300\n",
      "46/46 [==============================] - 0s 2ms/step - loss: 1.2418\n",
      "Epoch 127/300\n",
      "46/46 [==============================] - 0s 2ms/step - loss: 1.2420\n",
      "Epoch 128/300\n",
      "46/46 [==============================] - 0s 2ms/step - loss: 1.2437\n",
      "Epoch 129/300\n",
      "46/46 [==============================] - 0s 2ms/step - loss: 1.2439\n",
      "Epoch 130/300\n",
      "46/46 [==============================] - 0s 2ms/step - loss: 1.2434\n",
      "Epoch 131/300\n",
      "46/46 [==============================] - 0s 2ms/step - loss: 1.2435\n",
      "Epoch 132/300\n",
      "46/46 [==============================] - 0s 2ms/step - loss: 1.2434\n",
      "Epoch 133/300\n",
      "46/46 [==============================] - 0s 2ms/step - loss: 1.2432\n",
      "Epoch 134/300\n",
      "46/46 [==============================] - 0s 2ms/step - loss: 1.2420\n",
      "Epoch 135/300\n",
      "46/46 [==============================] - 0s 2ms/step - loss: 1.2431\n",
      "Epoch 136/300\n",
      "46/46 [==============================] - 0s 2ms/step - loss: 1.2420\n",
      "Epoch 137/300\n",
      "46/46 [==============================] - 0s 2ms/step - loss: 1.2439\n",
      "Epoch 138/300\n",
      "46/46 [==============================] - 0s 2ms/step - loss: 1.2418\n",
      "Epoch 139/300\n",
      "46/46 [==============================] - 0s 2ms/step - loss: 1.2422\n",
      "Epoch 140/300\n",
      "46/46 [==============================] - 0s 2ms/step - loss: 1.2420\n",
      "Epoch 141/300\n",
      "46/46 [==============================] - 0s 2ms/step - loss: 1.2423\n",
      "Epoch 142/300\n",
      "46/46 [==============================] - 0s 2ms/step - loss: 1.2420\n",
      "Epoch 143/300\n",
      "46/46 [==============================] - 0s 2ms/step - loss: 1.2420\n",
      "Epoch 144/300\n",
      "46/46 [==============================] - 0s 2ms/step - loss: 1.2415\n",
      "Epoch 145/300\n",
      "46/46 [==============================] - 0s 2ms/step - loss: 1.2415\n",
      "Epoch 146/300\n",
      "46/46 [==============================] - 0s 2ms/step - loss: 1.2431\n",
      "Epoch 147/300\n",
      "46/46 [==============================] - 0s 2ms/step - loss: 1.2419\n",
      "Epoch 148/300\n",
      "46/46 [==============================] - 0s 2ms/step - loss: 1.2415\n",
      "Epoch 149/300\n",
      "46/46 [==============================] - 0s 2ms/step - loss: 1.2415\n",
      "Epoch 150/300\n",
      "46/46 [==============================] - 0s 2ms/step - loss: 1.2417\n",
      "Epoch 151/300\n",
      "46/46 [==============================] - 0s 2ms/step - loss: 1.2417\n",
      "Epoch 152/300\n",
      "46/46 [==============================] - 0s 2ms/step - loss: 1.2413\n",
      "Epoch 153/300\n",
      "46/46 [==============================] - 0s 2ms/step - loss: 1.2428\n",
      "Epoch 154/300\n",
      "46/46 [==============================] - 0s 2ms/step - loss: 1.2414\n",
      "Epoch 155/300\n",
      "46/46 [==============================] - 0s 2ms/step - loss: 1.2420\n",
      "Epoch 156/300\n",
      "46/46 [==============================] - 0s 2ms/step - loss: 1.2413\n",
      "Epoch 157/300\n",
      "46/46 [==============================] - 0s 2ms/step - loss: 1.2420\n",
      "Epoch 158/300\n",
      "46/46 [==============================] - 0s 2ms/step - loss: 1.2432\n",
      "Epoch 159/300\n",
      "46/46 [==============================] - 0s 2ms/step - loss: 1.2418\n",
      "Epoch 160/300\n",
      "46/46 [==============================] - 0s 2ms/step - loss: 1.2416\n",
      "Epoch 161/300\n",
      "46/46 [==============================] - 0s 2ms/step - loss: 1.2415\n",
      "Epoch 162/300\n",
      "46/46 [==============================] - 0s 2ms/step - loss: 1.2409\n",
      "Epoch 163/300\n",
      "46/46 [==============================] - 0s 2ms/step - loss: 1.2412\n",
      "Epoch 164/300\n",
      "46/46 [==============================] - 0s 2ms/step - loss: 1.2411\n",
      "Epoch 165/300\n",
      "46/46 [==============================] - 0s 2ms/step - loss: 1.2418\n",
      "Epoch 166/300\n",
      "46/46 [==============================] - 0s 2ms/step - loss: 1.2415\n",
      "Epoch 167/300\n",
      "46/46 [==============================] - 0s 2ms/step - loss: 1.2425\n",
      "Epoch 168/300\n",
      "46/46 [==============================] - 0s 2ms/step - loss: 1.2407\n",
      "Epoch 169/300\n",
      "46/46 [==============================] - 0s 2ms/step - loss: 1.2406\n",
      "Epoch 170/300\n",
      "46/46 [==============================] - 0s 2ms/step - loss: 1.2406\n",
      "Epoch 171/300\n",
      "46/46 [==============================] - 0s 2ms/step - loss: 1.2403\n",
      "Epoch 172/300\n",
      "46/46 [==============================] - 0s 2ms/step - loss: 1.2421\n",
      "Epoch 173/300\n",
      "46/46 [==============================] - 0s 2ms/step - loss: 1.2407\n",
      "Epoch 174/300\n",
      "46/46 [==============================] - 0s 2ms/step - loss: 1.2418\n",
      "Epoch 175/300\n",
      "46/46 [==============================] - 0s 2ms/step - loss: 1.2402\n",
      "Epoch 176/300\n",
      "46/46 [==============================] - 0s 2ms/step - loss: 1.2405\n",
      "Epoch 177/300\n",
      "46/46 [==============================] - 0s 2ms/step - loss: 1.2407\n",
      "Epoch 178/300\n",
      "46/46 [==============================] - 0s 2ms/step - loss: 1.2415\n",
      "Epoch 179/300\n",
      "46/46 [==============================] - 0s 2ms/step - loss: 1.2412\n",
      "Epoch 180/300\n",
      "46/46 [==============================] - 0s 2ms/step - loss: 1.2421\n",
      "Epoch 181/300\n",
      "46/46 [==============================] - 0s 2ms/step - loss: 1.2411\n",
      "Epoch 182/300\n",
      "46/46 [==============================] - 0s 2ms/step - loss: 1.2401\n",
      "Epoch 183/300\n",
      "46/46 [==============================] - 0s 2ms/step - loss: 1.2418\n",
      "Epoch 184/300\n",
      "46/46 [==============================] - 0s 2ms/step - loss: 1.2409\n",
      "Epoch 185/300\n",
      "46/46 [==============================] - 0s 2ms/step - loss: 1.2405\n",
      "Epoch 186/300\n",
      "46/46 [==============================] - 0s 2ms/step - loss: 1.2407\n",
      "Epoch 187/300\n",
      "46/46 [==============================] - 0s 2ms/step - loss: 1.2400\n",
      "Epoch 188/300\n",
      "46/46 [==============================] - 0s 2ms/step - loss: 1.2404\n",
      "Epoch 189/300\n",
      "46/46 [==============================] - 0s 2ms/step - loss: 1.2401\n",
      "Epoch 190/300\n",
      "46/46 [==============================] - 0s 2ms/step - loss: 1.2409\n",
      "Epoch 191/300\n",
      "46/46 [==============================] - 0s 2ms/step - loss: 1.2409\n",
      "Epoch 192/300\n",
      "46/46 [==============================] - 0s 2ms/step - loss: 1.2414\n",
      "Epoch 193/300\n",
      "46/46 [==============================] - 0s 2ms/step - loss: 1.2401\n",
      "Epoch 194/300\n",
      "46/46 [==============================] - 0s 2ms/step - loss: 1.2420\n",
      "Epoch 195/300\n",
      "46/46 [==============================] - 0s 2ms/step - loss: 1.2419\n",
      "Epoch 196/300\n",
      "46/46 [==============================] - 0s 2ms/step - loss: 1.2410\n",
      "Epoch 197/300\n",
      "46/46 [==============================] - 0s 2ms/step - loss: 1.2404\n",
      "Epoch 198/300\n",
      "46/46 [==============================] - 0s 2ms/step - loss: 1.2400\n",
      "Epoch 199/300\n",
      "46/46 [==============================] - 0s 2ms/step - loss: 1.2393\n",
      "Epoch 200/300\n",
      "46/46 [==============================] - 0s 2ms/step - loss: 1.2399\n",
      "Epoch 201/300\n",
      "46/46 [==============================] - 0s 2ms/step - loss: 1.2396\n",
      "Epoch 202/300\n"
     ]
    },
    {
     "name": "stdout",
     "output_type": "stream",
     "text": [
      "46/46 [==============================] - 0s 2ms/step - loss: 1.2403\n",
      "Epoch 203/300\n",
      "46/46 [==============================] - 0s 2ms/step - loss: 1.2399\n",
      "Epoch 204/300\n",
      "46/46 [==============================] - 0s 2ms/step - loss: 1.2395\n",
      "Epoch 205/300\n",
      "46/46 [==============================] - 0s 2ms/step - loss: 1.2403\n",
      "Epoch 206/300\n",
      "46/46 [==============================] - 0s 2ms/step - loss: 1.2398\n",
      "Epoch 207/300\n",
      "46/46 [==============================] - 0s 2ms/step - loss: 1.2413\n",
      "Epoch 208/300\n",
      "46/46 [==============================] - 0s 2ms/step - loss: 1.2423\n",
      "Epoch 209/300\n",
      "46/46 [==============================] - 0s 2ms/step - loss: 1.2409\n",
      "Epoch 210/300\n",
      "46/46 [==============================] - 0s 2ms/step - loss: 1.2392\n",
      "Epoch 211/300\n",
      "46/46 [==============================] - 0s 2ms/step - loss: 1.2403\n",
      "Epoch 212/300\n",
      "46/46 [==============================] - 0s 2ms/step - loss: 1.2392\n",
      "Epoch 213/300\n",
      "46/46 [==============================] - 0s 2ms/step - loss: 1.2401\n",
      "Epoch 214/300\n",
      "46/46 [==============================] - 0s 2ms/step - loss: 1.2393\n",
      "Epoch 215/300\n",
      "46/46 [==============================] - 0s 2ms/step - loss: 1.2405\n",
      "Epoch 216/300\n",
      "46/46 [==============================] - 0s 2ms/step - loss: 1.2412\n",
      "Epoch 217/300\n",
      "46/46 [==============================] - 0s 2ms/step - loss: 1.2404\n",
      "Epoch 218/300\n",
      "46/46 [==============================] - 0s 2ms/step - loss: 1.2404\n",
      "Epoch 219/300\n",
      "46/46 [==============================] - 0s 2ms/step - loss: 1.2410\n",
      "Epoch 220/300\n",
      "46/46 [==============================] - 0s 2ms/step - loss: 1.2402\n",
      "Epoch 221/300\n",
      "46/46 [==============================] - 0s 2ms/step - loss: 1.2423\n",
      "Epoch 222/300\n",
      "46/46 [==============================] - 0s 2ms/step - loss: 1.2422\n",
      "Epoch 223/300\n",
      "46/46 [==============================] - 0s 2ms/step - loss: 1.2391\n",
      "Epoch 224/300\n",
      "46/46 [==============================] - 0s 2ms/step - loss: 1.2392\n",
      "Epoch 225/300\n",
      "46/46 [==============================] - 0s 2ms/step - loss: 1.2402\n",
      "Epoch 226/300\n",
      "46/46 [==============================] - 0s 2ms/step - loss: 1.2385\n",
      "Epoch 227/300\n",
      "46/46 [==============================] - 0s 2ms/step - loss: 1.2408\n",
      "Epoch 228/300\n",
      "46/46 [==============================] - 0s 2ms/step - loss: 1.2391\n",
      "Epoch 229/300\n",
      "46/46 [==============================] - 0s 2ms/step - loss: 1.2388\n",
      "Epoch 230/300\n",
      "46/46 [==============================] - 0s 2ms/step - loss: 1.2392\n",
      "Epoch 231/300\n",
      "46/46 [==============================] - 0s 2ms/step - loss: 1.2397\n",
      "Epoch 232/300\n",
      "46/46 [==============================] - 0s 2ms/step - loss: 1.2396\n",
      "Epoch 233/300\n",
      "46/46 [==============================] - 0s 2ms/step - loss: 1.2390\n",
      "Epoch 234/300\n",
      "46/46 [==============================] - 0s 2ms/step - loss: 1.2391\n",
      "Epoch 235/300\n",
      "46/46 [==============================] - 0s 2ms/step - loss: 1.2412\n",
      "Epoch 236/300\n",
      "46/46 [==============================] - 0s 2ms/step - loss: 1.2384\n",
      "Epoch 237/300\n",
      "46/46 [==============================] - 0s 2ms/step - loss: 1.2389\n",
      "Epoch 238/300\n",
      "46/46 [==============================] - 0s 2ms/step - loss: 1.2388\n",
      "Epoch 239/300\n",
      "46/46 [==============================] - 0s 2ms/step - loss: 1.2388\n",
      "Epoch 240/300\n",
      "46/46 [==============================] - 0s 2ms/step - loss: 1.2385\n",
      "Epoch 241/300\n",
      "46/46 [==============================] - 0s 2ms/step - loss: 1.2384\n",
      "Epoch 242/300\n",
      "46/46 [==============================] - 0s 2ms/step - loss: 1.2386\n",
      "Epoch 243/300\n",
      "46/46 [==============================] - 0s 2ms/step - loss: 1.2393\n",
      "Epoch 244/300\n",
      "46/46 [==============================] - 0s 2ms/step - loss: 1.2385\n",
      "Epoch 245/300\n",
      "46/46 [==============================] - 0s 2ms/step - loss: 1.2389\n",
      "Epoch 246/300\n",
      "46/46 [==============================] - 0s 2ms/step - loss: 1.2400\n",
      "Epoch 247/300\n",
      "46/46 [==============================] - 0s 2ms/step - loss: 1.2394\n",
      "Epoch 248/300\n",
      "46/46 [==============================] - 0s 2ms/step - loss: 1.2389\n",
      "Epoch 249/300\n",
      "46/46 [==============================] - 0s 2ms/step - loss: 1.2384\n",
      "Epoch 250/300\n",
      "46/46 [==============================] - 0s 2ms/step - loss: 1.2397\n",
      "Epoch 251/300\n",
      "46/46 [==============================] - 0s 2ms/step - loss: 1.2399\n",
      "Epoch 252/300\n",
      "46/46 [==============================] - 0s 2ms/step - loss: 1.2411\n",
      "Epoch 253/300\n",
      "46/46 [==============================] - 0s 2ms/step - loss: 1.2392\n",
      "Epoch 254/300\n",
      "46/46 [==============================] - 0s 2ms/step - loss: 1.2382\n",
      "Epoch 255/300\n",
      "46/46 [==============================] - 0s 2ms/step - loss: 1.2388\n",
      "Epoch 256/300\n",
      "46/46 [==============================] - 0s 2ms/step - loss: 1.2392\n",
      "Epoch 257/300\n",
      "46/46 [==============================] - 0s 2ms/step - loss: 1.2393\n",
      "Epoch 258/300\n",
      "46/46 [==============================] - 0s 2ms/step - loss: 1.2383\n",
      "Epoch 259/300\n",
      "46/46 [==============================] - 0s 2ms/step - loss: 1.2394\n",
      "Epoch 260/300\n",
      "46/46 [==============================] - 0s 2ms/step - loss: 1.2391\n",
      "Epoch 261/300\n",
      "46/46 [==============================] - 0s 2ms/step - loss: 1.2388\n",
      "Epoch 262/300\n",
      "46/46 [==============================] - 0s 2ms/step - loss: 1.2399\n",
      "Epoch 263/300\n",
      "46/46 [==============================] - 0s 2ms/step - loss: 1.2386\n",
      "Epoch 264/300\n",
      "46/46 [==============================] - 0s 2ms/step - loss: 1.2372\n",
      "Epoch 265/300\n",
      "46/46 [==============================] - 0s 2ms/step - loss: 1.2387\n",
      "Epoch 266/300\n",
      "46/46 [==============================] - 0s 2ms/step - loss: 1.2376\n",
      "Epoch 267/300\n",
      "46/46 [==============================] - 0s 2ms/step - loss: 1.2386\n",
      "Epoch 268/300\n",
      "46/46 [==============================] - 0s 2ms/step - loss: 1.2379\n",
      "Epoch 269/300\n",
      "46/46 [==============================] - 0s 3ms/step - loss: 1.2377\n",
      "Epoch 270/300\n",
      "46/46 [==============================] - 0s 2ms/step - loss: 1.2394\n",
      "Epoch 271/300\n",
      "46/46 [==============================] - 0s 2ms/step - loss: 1.2391\n",
      "Epoch 272/300\n",
      "46/46 [==============================] - 0s 2ms/step - loss: 1.2381\n",
      "Epoch 273/300\n",
      "46/46 [==============================] - 0s 2ms/step - loss: 1.2374\n",
      "Epoch 274/300\n",
      "46/46 [==============================] - 0s 2ms/step - loss: 1.2377\n",
      "Epoch 275/300\n",
      "46/46 [==============================] - 0s 2ms/step - loss: 1.2378\n",
      "Epoch 276/300\n",
      "46/46 [==============================] - 0s 2ms/step - loss: 1.2399\n",
      "Epoch 277/300\n",
      "46/46 [==============================] - 0s 2ms/step - loss: 1.2380\n",
      "Epoch 278/300\n",
      "46/46 [==============================] - 0s 2ms/step - loss: 1.2385\n",
      "Epoch 279/300\n",
      "46/46 [==============================] - 0s 2ms/step - loss: 1.2372\n",
      "Epoch 280/300\n",
      "46/46 [==============================] - 0s 2ms/step - loss: 1.2383\n",
      "Epoch 281/300\n",
      "46/46 [==============================] - 0s 2ms/step - loss: 1.2384\n",
      "Epoch 282/300\n",
      "46/46 [==============================] - 0s 2ms/step - loss: 1.2376\n",
      "Epoch 283/300\n",
      "46/46 [==============================] - 0s 2ms/step - loss: 1.2387\n",
      "Epoch 284/300\n",
      "46/46 [==============================] - 0s 2ms/step - loss: 1.2383\n",
      "Epoch 285/300\n",
      "46/46 [==============================] - 0s 2ms/step - loss: 1.2373\n",
      "Epoch 286/300\n",
      "46/46 [==============================] - 0s 2ms/step - loss: 1.2386\n",
      "Epoch 287/300\n",
      "46/46 [==============================] - 0s 2ms/step - loss: 1.2381\n",
      "Epoch 288/300\n",
      "46/46 [==============================] - 0s 2ms/step - loss: 1.2372\n",
      "Epoch 289/300\n",
      "46/46 [==============================] - 0s 2ms/step - loss: 1.2381\n",
      "Epoch 290/300\n",
      "46/46 [==============================] - 0s 2ms/step - loss: 1.2365\n",
      "Epoch 291/300\n",
      "46/46 [==============================] - 0s 2ms/step - loss: 1.2367\n",
      "Epoch 292/300\n",
      "46/46 [==============================] - 0s 2ms/step - loss: 1.2381\n",
      "Epoch 293/300\n",
      "46/46 [==============================] - 0s 2ms/step - loss: 1.2362\n",
      "Epoch 294/300\n",
      "46/46 [==============================] - 0s 2ms/step - loss: 1.2392\n",
      "Epoch 295/300\n",
      "46/46 [==============================] - 0s 2ms/step - loss: 1.2377\n",
      "Epoch 296/300\n",
      "46/46 [==============================] - 0s 2ms/step - loss: 1.2376\n",
      "Epoch 297/300\n",
      "46/46 [==============================] - 0s 2ms/step - loss: 1.2370\n",
      "Epoch 298/300\n",
      "46/46 [==============================] - 0s 2ms/step - loss: 1.2379\n",
      "Epoch 299/300\n",
      "46/46 [==============================] - 0s 2ms/step - loss: 1.2370\n",
      "Epoch 300/300\n",
      "46/46 [==============================] - 0s 2ms/step - loss: 1.2357\n"
     ]
    },
    {
     "data": {
      "text/plain": [
       "<keras.callbacks.History at 0x22885094e20>"
      ]
     },
     "execution_count": 20,
     "metadata": {},
     "output_type": "execute_result"
    }
   ],
   "source": [
    "model = Sequential()\n",
    "model.add(LSTM(50, activation='relu', return_sequences=True, input_shape=(1, 1)))\n",
    "model.add(LSTM(50, activation='relu'))\n",
    "model.add(Dense(1))\n",
    "model.compile(optimizer='adam', loss='mse')\n",
    "# fit model\n",
    "model.fit(X, y, epochs=300, verbose=1)"
   ]
  },
  {
   "cell_type": "code",
   "execution_count": 218,
   "id": "e49b2a27",
   "metadata": {},
   "outputs": [],
   "source": [
    "train, test = df_copy.iloc[0:train_size,:], df_copy.iloc[train_size:len(df_copy),:]"
   ]
  },
  {
   "cell_type": "code",
   "execution_count": 219,
   "id": "41e04a88",
   "metadata": {},
   "outputs": [
    {
     "data": {
      "text/html": [
       "<div>\n",
       "<style scoped>\n",
       "    .dataframe tbody tr th:only-of-type {\n",
       "        vertical-align: middle;\n",
       "    }\n",
       "\n",
       "    .dataframe tbody tr th {\n",
       "        vertical-align: top;\n",
       "    }\n",
       "\n",
       "    .dataframe thead th {\n",
       "        text-align: right;\n",
       "    }\n",
       "</style>\n",
       "<table border=\"1\" class=\"dataframe\">\n",
       "  <thead>\n",
       "    <tr style=\"text-align: right;\">\n",
       "      <th></th>\n",
       "      <th>temperature</th>\n",
       "    </tr>\n",
       "    <tr>\n",
       "      <th>time</th>\n",
       "      <th></th>\n",
       "    </tr>\n",
       "  </thead>\n",
       "  <tbody>\n",
       "    <tr>\n",
       "      <th>1900-02-28</th>\n",
       "      <td>-1.760479</td>\n",
       "    </tr>\n",
       "    <tr>\n",
       "      <th>1900-03-31</th>\n",
       "      <td>-0.235467</td>\n",
       "    </tr>\n",
       "    <tr>\n",
       "      <th>1900-04-30</th>\n",
       "      <td>-0.076263</td>\n",
       "    </tr>\n",
       "    <tr>\n",
       "      <th>1900-05-31</th>\n",
       "      <td>0.488469</td>\n",
       "    </tr>\n",
       "    <tr>\n",
       "      <th>1900-06-30</th>\n",
       "      <td>0.592415</td>\n",
       "    </tr>\n",
       "  </tbody>\n",
       "</table>\n",
       "</div>"
      ],
      "text/plain": [
       "            temperature\n",
       "time                   \n",
       "1900-02-28    -1.760479\n",
       "1900-03-31    -0.235467\n",
       "1900-04-30    -0.076263\n",
       "1900-05-31     0.488469\n",
       "1900-06-30     0.592415"
      ]
     },
     "execution_count": 219,
     "metadata": {},
     "output_type": "execute_result"
    }
   ],
   "source": [
    "train.head()"
   ]
  },
  {
   "cell_type": "code",
   "execution_count": 21,
   "id": "96ccf117",
   "metadata": {},
   "outputs": [],
   "source": [
    "def split_sequence(sequence, n_steps):\n",
    "    sequence = sequence.set_index('time').to_numpy()\n",
    "    X, y = list(), list()\n",
    "    for i in range(len(sequence)):\n",
    "        # find the end of this pattern\n",
    "        end_ix = i + n_steps\n",
    "        # check if we are beyond the sequence\n",
    "        if end_ix > len(sequence)-1:\n",
    "            break\n",
    "        # gather input and output parts of the pattern\n",
    "        seq_x, seq_y = sequence[i:end_ix], sequence[end_ix]\n",
    "        X.append(seq_x)\n",
    "        y.append(seq_y)\n",
    "    return np.array(X), np.array(y)"
   ]
  },
  {
   "cell_type": "code",
   "execution_count": 22,
   "id": "997647e5",
   "metadata": {},
   "outputs": [],
   "source": [
    "X, y = split_sequence(df_copy, 1)"
   ]
  },
  {
   "cell_type": "code",
   "execution_count": 23,
   "id": "8e57c9d9",
   "metadata": {},
   "outputs": [
    {
     "name": "stdout",
     "output_type": "stream",
     "text": [
      "(1470, 1, 1)\n",
      "(1470, 1)\n"
     ]
    },
    {
     "data": {
      "text/plain": [
       "(None, None)"
      ]
     },
     "execution_count": 23,
     "metadata": {},
     "output_type": "execute_result"
    }
   ],
   "source": [
    "print(X.shape), print(y.shape)"
   ]
  },
  {
   "cell_type": "code",
   "execution_count": 27,
   "id": "dac23d1c",
   "metadata": {},
   "outputs": [],
   "source": [
    "def df_to_X_y(df, window_size=1):\n",
    "    df_as_np = df.to_numpy()\n",
    "    X = []\n",
    "    y = []\n",
    "    for i in range(len(df_as_np) - window_size):\n",
    "        row = [a for a in df_as_np[i:i + window_size]]\n",
    "        X.append(row)\n",
    "        label = df_as_np[i + window_size]\n",
    "        y.append(label)\n",
    "    return np.array(X), np.array(y)"
   ]
  },
  {
   "cell_type": "code",
   "execution_count": 28,
   "id": "fd20edd1",
   "metadata": {
    "scrolled": false
   },
   "outputs": [],
   "source": [
    "X, y = df_to_X_y(df_copy)"
   ]
  },
  {
   "cell_type": "code",
   "execution_count": 29,
   "id": "39c39aa6",
   "metadata": {},
   "outputs": [
    {
     "data": {
      "text/plain": [
       "(1470, 1, 2)"
      ]
     },
     "execution_count": 29,
     "metadata": {},
     "output_type": "execute_result"
    }
   ],
   "source": [
    "X.shape"
   ]
  },
  {
   "cell_type": "code",
   "execution_count": 30,
   "id": "48d591b5",
   "metadata": {
    "scrolled": false
   },
   "outputs": [
    {
     "data": {
      "text/plain": [
       "array([[[Timestamp('1900-02-28 00:00:00'), -1.760478674977152]],\n",
       "\n",
       "       [[Timestamp('1900-03-31 00:00:00'), -0.2354668338743358]],\n",
       "\n",
       "       [[Timestamp('1900-04-30 00:00:00'), -0.0762631149176408]],\n",
       "\n",
       "       ...,\n",
       "\n",
       "       [[Timestamp('2022-05-31 00:00:00'), 1.1987695925245485]],\n",
       "\n",
       "       [[Timestamp('2022-06-30 00:00:00'), 1.3346272189439956]],\n",
       "\n",
       "       [[Timestamp('2022-07-31 00:00:00'), 1.5182008226089265]]],\n",
       "      dtype=object)"
      ]
     },
     "execution_count": 30,
     "metadata": {},
     "output_type": "execute_result"
    }
   ],
   "source": [
    "X"
   ]
  },
  {
   "cell_type": "code",
   "execution_count": 31,
   "id": "dc198a5d",
   "metadata": {},
   "outputs": [
    {
     "data": {
      "text/plain": [
       "(1470, 2)"
      ]
     },
     "execution_count": 31,
     "metadata": {},
     "output_type": "execute_result"
    }
   ],
   "source": [
    "y.shape"
   ]
  },
  {
   "cell_type": "code",
   "execution_count": 32,
   "id": "7284932d",
   "metadata": {
    "scrolled": true
   },
   "outputs": [
    {
     "data": {
      "text/plain": [
       "array([[Timestamp('1900-03-31 00:00:00'), -0.2354668338743358],\n",
       "       [Timestamp('1900-04-30 00:00:00'), -0.0762631149176408],\n",
       "       [Timestamp('1900-05-31 00:00:00'), 0.4884685007674814],\n",
       "       ...,\n",
       "       [Timestamp('2022-06-30 00:00:00'), 1.3346272189439956],\n",
       "       [Timestamp('2022-07-31 00:00:00'), 1.5182008226089265],\n",
       "       [Timestamp('2022-08-31 00:00:00'), 1.342837857654623]],\n",
       "      dtype=object)"
      ]
     },
     "execution_count": 32,
     "metadata": {},
     "output_type": "execute_result"
    }
   ],
   "source": [
    "y"
   ]
  },
  {
   "cell_type": "code",
   "execution_count": 33,
   "id": "548194bf",
   "metadata": {},
   "outputs": [],
   "source": [
    "X_train, X_test, y_train, y_test = train_test_split(X, y, test_size=0.25, random_state=42)"
   ]
  },
  {
   "cell_type": "code",
   "execution_count": 34,
   "id": "cecd65f6",
   "metadata": {},
   "outputs": [
    {
     "name": "stdout",
     "output_type": "stream",
     "text": [
      "(1102, 1, 2)\n",
      "(368, 1, 2)\n",
      "(1102, 2)\n",
      "(368, 2)\n"
     ]
    }
   ],
   "source": [
    "print(X_train.shape)\n",
    "print(X_test.shape)\n",
    "print(y_train.shape)\n",
    "print(y_test.shape)"
   ]
  },
  {
   "cell_type": "code",
   "execution_count": 38,
   "id": "7ecfb02b",
   "metadata": {},
   "outputs": [
    {
     "ename": "ValueError",
     "evalue": "Failed to convert a NumPy array to a Tensor (Unsupported object type Timestamp).",
     "output_type": "error",
     "traceback": [
      "\u001b[1;31m---------------------------------------------------------------------------\u001b[0m",
      "\u001b[1;31mValueError\u001b[0m                                Traceback (most recent call last)",
      "Input \u001b[1;32mIn [38]\u001b[0m, in \u001b[0;36m<cell line: 8>\u001b[1;34m()\u001b[0m\n\u001b[0;32m      6\u001b[0m model\u001b[38;5;241m.\u001b[39madd(Dense(\u001b[38;5;241m1\u001b[39m, \u001b[38;5;124m'\u001b[39m\u001b[38;5;124mlinear\u001b[39m\u001b[38;5;124m'\u001b[39m))\n\u001b[0;32m      7\u001b[0m model\u001b[38;5;241m.\u001b[39mcompile(optimizer\u001b[38;5;241m=\u001b[39m\u001b[38;5;124m'\u001b[39m\u001b[38;5;124madam\u001b[39m\u001b[38;5;124m'\u001b[39m, loss\u001b[38;5;241m=\u001b[39m\u001b[38;5;124m'\u001b[39m\u001b[38;5;124mmse\u001b[39m\u001b[38;5;124m'\u001b[39m)\n\u001b[1;32m----> 8\u001b[0m \u001b[43mmodel\u001b[49m\u001b[38;5;241;43m.\u001b[39;49m\u001b[43mfit\u001b[49m\u001b[43m(\u001b[49m\u001b[43mX_train\u001b[49m\u001b[43m,\u001b[49m\u001b[43m \u001b[49m\u001b[43my_train\u001b[49m\u001b[43m,\u001b[49m\u001b[43m \u001b[49m\u001b[43mepochs\u001b[49m\u001b[38;5;241;43m=\u001b[39;49m\u001b[38;5;241;43m300\u001b[39;49m\u001b[43m,\u001b[49m\u001b[43m \u001b[49m\u001b[43mverbose\u001b[49m\u001b[38;5;241;43m=\u001b[39;49m\u001b[38;5;241;43m1\u001b[39;49m\u001b[43m)\u001b[49m\n",
      "File \u001b[1;32m~\\AppData\\Local\\Programs\\Python\\Python310\\lib\\site-packages\\keras\\utils\\traceback_utils.py:67\u001b[0m, in \u001b[0;36mfilter_traceback.<locals>.error_handler\u001b[1;34m(*args, **kwargs)\u001b[0m\n\u001b[0;32m     65\u001b[0m \u001b[38;5;28;01mexcept\u001b[39;00m \u001b[38;5;167;01mException\u001b[39;00m \u001b[38;5;28;01mas\u001b[39;00m e:  \u001b[38;5;66;03m# pylint: disable=broad-except\u001b[39;00m\n\u001b[0;32m     66\u001b[0m   filtered_tb \u001b[38;5;241m=\u001b[39m _process_traceback_frames(e\u001b[38;5;241m.\u001b[39m__traceback__)\n\u001b[1;32m---> 67\u001b[0m   \u001b[38;5;28;01mraise\u001b[39;00m e\u001b[38;5;241m.\u001b[39mwith_traceback(filtered_tb) \u001b[38;5;28;01mfrom\u001b[39;00m \u001b[38;5;28mNone\u001b[39m\n\u001b[0;32m     68\u001b[0m \u001b[38;5;28;01mfinally\u001b[39;00m:\n\u001b[0;32m     69\u001b[0m   \u001b[38;5;28;01mdel\u001b[39;00m filtered_tb\n",
      "File \u001b[1;32m~\\AppData\\Local\\Programs\\Python\\Python310\\lib\\site-packages\\tensorflow\\python\\framework\\constant_op.py:102\u001b[0m, in \u001b[0;36mconvert_to_eager_tensor\u001b[1;34m(value, ctx, dtype)\u001b[0m\n\u001b[0;32m    100\u001b[0m     dtype \u001b[38;5;241m=\u001b[39m dtypes\u001b[38;5;241m.\u001b[39mas_dtype(dtype)\u001b[38;5;241m.\u001b[39mas_datatype_enum\n\u001b[0;32m    101\u001b[0m ctx\u001b[38;5;241m.\u001b[39mensure_initialized()\n\u001b[1;32m--> 102\u001b[0m \u001b[38;5;28;01mreturn\u001b[39;00m \u001b[43mops\u001b[49m\u001b[38;5;241;43m.\u001b[39;49m\u001b[43mEagerTensor\u001b[49m\u001b[43m(\u001b[49m\u001b[43mvalue\u001b[49m\u001b[43m,\u001b[49m\u001b[43m \u001b[49m\u001b[43mctx\u001b[49m\u001b[38;5;241;43m.\u001b[39;49m\u001b[43mdevice_name\u001b[49m\u001b[43m,\u001b[49m\u001b[43m \u001b[49m\u001b[43mdtype\u001b[49m\u001b[43m)\u001b[49m\n",
      "\u001b[1;31mValueError\u001b[0m: Failed to convert a NumPy array to a Tensor (Unsupported object type Timestamp)."
     ]
    }
   ],
   "source": [
    "model = Sequential()\n",
    "model.add(InputLayer((5, 1)))\n",
    "model.add(LSTM(128))\n",
    "model.add(Dense(16, 'relu'))\n",
    "model.add(Dense(8, 'relu'))\n",
    "model.add(Dense(1, 'linear'))\n",
    "model.compile(optimizer='adam', loss='mse')\n",
    "model.fit(X_train, y_train, epochs=300, verbose=1)"
   ]
  },
  {
   "cell_type": "code",
   "execution_count": 36,
   "id": "f8aa861b",
   "metadata": {
    "scrolled": true
   },
   "outputs": [
    {
     "name": "stdout",
     "output_type": "stream",
     "text": [
      "Model: \"sequential_1\"\n",
      "_________________________________________________________________\n",
      " Layer (type)                Output Shape              Param #   \n",
      "=================================================================\n",
      " lstm_2 (LSTM)               (None, 128)               66560     \n",
      "                                                                 \n",
      " dense_1 (Dense)             (None, 16)                2064      \n",
      "                                                                 \n",
      " dense_2 (Dense)             (None, 8)                 136       \n",
      "                                                                 \n",
      " dense_3 (Dense)             (None, 1)                 9         \n",
      "                                                                 \n",
      "=================================================================\n",
      "Total params: 68,769\n",
      "Trainable params: 68,769\n",
      "Non-trainable params: 0\n",
      "_________________________________________________________________\n"
     ]
    }
   ],
   "source": [
    "model.summary()"
   ]
  },
  {
   "cell_type": "code",
   "execution_count": 263,
   "id": "eb4be0c9",
   "metadata": {},
   "outputs": [
    {
     "name": "stdout",
     "output_type": "stream",
     "text": [
      "35/35 [==============================] - 1s 5ms/step\n",
      "12/12 [==============================] - 0s 3ms/step\n"
     ]
    }
   ],
   "source": [
    "trainPredict = model.predict(X_train)\n",
    "testPredict = model.predict(X_test)"
   ]
  },
  {
   "cell_type": "code",
   "execution_count": 264,
   "id": "b75c2623",
   "metadata": {},
   "outputs": [
    {
     "data": {
      "text/plain": [
       "array([[-0.00142721],\n",
       "       [ 0.00112843],\n",
       "       [-0.00121286],\n",
       "       ...,\n",
       "       [ 0.01379752],\n",
       "       [ 0.07214997],\n",
       "       [ 0.01100146]], dtype=float32)"
      ]
     },
     "execution_count": 264,
     "metadata": {},
     "output_type": "execute_result"
    }
   ],
   "source": [
    "trainPredict"
   ]
  },
  {
   "cell_type": "code",
   "execution_count": 252,
   "id": "1cdec519",
   "metadata": {},
   "outputs": [
    {
     "data": {
      "text/plain": [
       "array([[ 1.93630142],\n",
       "       [ 0.12331945],\n",
       "       [-0.00242965],\n",
       "       ...,\n",
       "       [-0.02535854],\n",
       "       [ 1.63259508],\n",
       "       [-0.56602626]])"
      ]
     },
     "execution_count": 252,
     "metadata": {},
     "output_type": "execute_result"
    }
   ],
   "source": [
    "y_train"
   ]
  },
  {
   "cell_type": "code",
   "execution_count": 253,
   "id": "831971e0",
   "metadata": {},
   "outputs": [
    {
     "name": "stdout",
     "output_type": "stream",
     "text": [
      "Train Score: 1.15 RMSE\n",
      "Test Score: 1.17 RMSE\n"
     ]
    }
   ],
   "source": [
    "trainScore = np.sqrt(mean_squared_error(y_train, trainPredict))\n",
    "print('Train Score: %.2f RMSE' % (trainScore))\n",
    "testScore = np.sqrt(mean_squared_error(y_test, testPredict))\n",
    "print('Test Score: %.2f RMSE' % (testScore))"
   ]
  },
  {
   "cell_type": "code",
   "execution_count": null,
   "id": "fea5ba46",
   "metadata": {},
   "outputs": [],
   "source": []
  },
  {
   "cell_type": "code",
   "execution_count": null,
   "id": "47965559",
   "metadata": {},
   "outputs": [],
   "source": []
  },
  {
   "cell_type": "code",
   "execution_count": null,
   "id": "e2cb9f29",
   "metadata": {},
   "outputs": [],
   "source": [
    "import numpy as np\n",
    "from tensorflow.keras.models import Sequential\n",
    "from tensorflow.keras.layers import Dense, LSTM\n",
    "from tensorflow.keras.preprocessing.sequence import TimeseriesGenerator\n",
    "from sklearn.preprocessing import MinMaxScaler\n",
    "\n",
    "np.random.seed(73)\n",
    "\n",
    "# Apply MinMaxScaler to training and test data. Fit to training data, use to transform train + test\n",
    "\n",
    "scaler = MinMaxScaler(feature_range=(0,1))\n",
    "scaled_train_values = scaler.fit_transform(train_series.values.reshape(-1,1))\n",
    "train_series_scaled = pd.Series(data=scaled_train_values.reshape(1,-1)[0], index=train_series.index)\n",
    "\n",
    "# Create TimeseriesGenerator using training data and selected hyperparameters\n",
    "\n",
    "n_input = 24\n",
    "n_features= 1\n",
    "sampling_rate = 1\n",
    "stride = 1\n",
    "batch_size = 1\n",
    "\n",
    "train_generator = TimeseriesGenerator(scaled_train_values, \n",
    "                                      scaled_train_values, \n",
    "                                      length=n_input,\n",
    "                                      sampling_rate=sampling_rate,\n",
    "                                      stride=stride,\n",
    "                                      batch_size=batch_size)\n",
    "\n",
    "# Build and fit model\n",
    "\n",
    "model = Sequential()\n",
    "model.add(LSTM(100, activation='relu', return_sequences=False, input_shape=(n_input, n_features)))\n",
    "model.add(Dense(1))\n",
    "model.compile(optimizer='adam', loss='mse')\n",
    "\n",
    "model.fit(train_generator, epochs=80)\n",
    "\n",
    "# Generate predictions\n",
    "\n",
    "lstm_preds = []\n",
    "\n",
    "batch = scaled_train_values[-n_input:]\n",
    "current_batch = batch.reshape((1, n_input, n_features))\n",
    "\n",
    "for i in range(len(test_series)):\n",
    "    pred = model.predict(current_batch)[0]\n",
    "    lstm_preds.append(pred)\n",
    "    current_batch = np.append(current_batch[:, 1:, :], [[pred]], axis=1)\n",
    "    \n",
    "# Evaluate performance\n",
    "    \n",
    "lstm_preds = scaler.inverse_transform(lstm_preds)\n",
    "lstm_preds = [item for sublist in lstm_preds for item in sublist]\n",
    "    \n",
    "test_score = mean_squared_error(test_series.values, lstm_preds)\n",
    "print(test_score)"
   ]
  },
  {
   "cell_type": "code",
   "execution_count": 1,
   "id": "641f6aac",
   "metadata": {},
   "outputs": [
    {
     "ename": "NameError",
     "evalue": "name 'adfuller' is not defined",
     "output_type": "error",
     "traceback": [
      "\u001b[1;31m---------------------------------------------------------------------------\u001b[0m",
      "\u001b[1;31mNameError\u001b[0m                                 Traceback (most recent call last)",
      "Input \u001b[1;32mIn [1]\u001b[0m, in \u001b[0;36m<cell line: 1>\u001b[1;34m()\u001b[0m\n\u001b[1;32m----> 1\u001b[0m test_result \u001b[38;5;241m=\u001b[39m \u001b[43madfuller\u001b[49m(df_copy[\u001b[38;5;124m'\u001b[39m\u001b[38;5;124mtemperature\u001b[39m\u001b[38;5;124m'\u001b[39m])\n",
      "\u001b[1;31mNameError\u001b[0m: name 'adfuller' is not defined"
     ]
    }
   ],
   "source": [
    "test_result = adfuller(df_copy['temperature'])"
   ]
  },
  {
   "cell_type": "code",
   "execution_count": null,
   "id": "8bc6cc65",
   "metadata": {},
   "outputs": [],
   "source": []
  },
  {
   "cell_type": "code",
   "execution_count": null,
   "id": "1623f3d8",
   "metadata": {},
   "outputs": [],
   "source": []
  },
  {
   "cell_type": "code",
   "execution_count": null,
   "id": "cf6c7a65",
   "metadata": {},
   "outputs": [],
   "source": []
  },
  {
   "cell_type": "code",
   "execution_count": null,
   "id": "ed0a55c3",
   "metadata": {},
   "outputs": [],
   "source": []
  },
  {
   "cell_type": "code",
   "execution_count": null,
   "id": "e9f028c8",
   "metadata": {},
   "outputs": [],
   "source": []
  },
  {
   "cell_type": "code",
   "execution_count": null,
   "id": "f57a17d2",
   "metadata": {},
   "outputs": [],
   "source": []
  },
  {
   "cell_type": "code",
   "execution_count": null,
   "id": "45daf02e",
   "metadata": {},
   "outputs": [],
   "source": []
  },
  {
   "cell_type": "code",
   "execution_count": null,
   "id": "887fbcfb",
   "metadata": {},
   "outputs": [],
   "source": []
  },
  {
   "cell_type": "code",
   "execution_count": null,
   "id": "58642013",
   "metadata": {},
   "outputs": [],
   "source": []
  },
  {
   "cell_type": "code",
   "execution_count": null,
   "id": "3870dd9e",
   "metadata": {},
   "outputs": [],
   "source": []
  },
  {
   "cell_type": "code",
   "execution_count": null,
   "id": "ed814c1c",
   "metadata": {},
   "outputs": [],
   "source": []
  },
  {
   "cell_type": "code",
   "execution_count": null,
   "id": "db9e43fb",
   "metadata": {},
   "outputs": [],
   "source": []
  },
  {
   "cell_type": "code",
   "execution_count": null,
   "id": "f9c2de72",
   "metadata": {},
   "outputs": [],
   "source": []
  },
  {
   "cell_type": "code",
   "execution_count": null,
   "id": "21fa8cd5",
   "metadata": {},
   "outputs": [],
   "source": []
  },
  {
   "cell_type": "code",
   "execution_count": null,
   "id": "f1ac4d5a",
   "metadata": {},
   "outputs": [],
   "source": []
  },
  {
   "cell_type": "code",
   "execution_count": null,
   "id": "4b62b260",
   "metadata": {},
   "outputs": [],
   "source": []
  },
  {
   "cell_type": "code",
   "execution_count": null,
   "id": "9d6145b7",
   "metadata": {},
   "outputs": [],
   "source": []
  },
  {
   "cell_type": "code",
   "execution_count": null,
   "id": "03cd702a",
   "metadata": {},
   "outputs": [],
   "source": []
  },
  {
   "cell_type": "code",
   "execution_count": null,
   "id": "1dfb97fb",
   "metadata": {},
   "outputs": [],
   "source": []
  },
  {
   "cell_type": "code",
   "execution_count": null,
   "id": "4b8c8289",
   "metadata": {},
   "outputs": [],
   "source": []
  },
  {
   "cell_type": "code",
   "execution_count": null,
   "id": "deb98df7",
   "metadata": {},
   "outputs": [],
   "source": []
  },
  {
   "cell_type": "code",
   "execution_count": null,
   "id": "41b93824",
   "metadata": {},
   "outputs": [],
   "source": []
  },
  {
   "cell_type": "code",
   "execution_count": null,
   "id": "43e44c1d",
   "metadata": {},
   "outputs": [],
   "source": []
  },
  {
   "cell_type": "code",
   "execution_count": null,
   "id": "42305a86",
   "metadata": {},
   "outputs": [],
   "source": []
  },
  {
   "cell_type": "code",
   "execution_count": null,
   "id": "49d45227",
   "metadata": {},
   "outputs": [],
   "source": []
  },
  {
   "cell_type": "code",
   "execution_count": null,
   "id": "7ee5baec",
   "metadata": {},
   "outputs": [],
   "source": []
  },
  {
   "cell_type": "code",
   "execution_count": null,
   "id": "406cfd14",
   "metadata": {},
   "outputs": [],
   "source": []
  },
  {
   "cell_type": "code",
   "execution_count": null,
   "id": "1be356f2",
   "metadata": {},
   "outputs": [],
   "source": []
  },
  {
   "cell_type": "code",
   "execution_count": null,
   "id": "3c48d8e7",
   "metadata": {},
   "outputs": [],
   "source": []
  },
  {
   "cell_type": "code",
   "execution_count": null,
   "id": "24f3d4ec",
   "metadata": {},
   "outputs": [],
   "source": []
  },
  {
   "cell_type": "code",
   "execution_count": null,
   "id": "f3219ec2",
   "metadata": {},
   "outputs": [],
   "source": []
  },
  {
   "cell_type": "code",
   "execution_count": null,
   "id": "9ca1ea16",
   "metadata": {},
   "outputs": [],
   "source": []
  },
  {
   "cell_type": "code",
   "execution_count": null,
   "id": "76b00624",
   "metadata": {},
   "outputs": [],
   "source": []
  },
  {
   "cell_type": "code",
   "execution_count": null,
   "id": "151872ad",
   "metadata": {},
   "outputs": [],
   "source": []
  },
  {
   "cell_type": "code",
   "execution_count": null,
   "id": "7dd6dbd1",
   "metadata": {},
   "outputs": [],
   "source": []
  },
  {
   "cell_type": "code",
   "execution_count": null,
   "id": "0ebc575c",
   "metadata": {},
   "outputs": [],
   "source": []
  },
  {
   "cell_type": "code",
   "execution_count": null,
   "id": "9f589cec",
   "metadata": {},
   "outputs": [],
   "source": []
  },
  {
   "cell_type": "code",
   "execution_count": null,
   "id": "d5c5d211",
   "metadata": {},
   "outputs": [],
   "source": []
  }
 ],
 "metadata": {
  "kernelspec": {
   "display_name": "Python 3 (ipykernel)",
   "language": "python",
   "name": "python3"
  },
  "language_info": {
   "codemirror_mode": {
    "name": "ipython",
    "version": 3
   },
   "file_extension": ".py",
   "mimetype": "text/x-python",
   "name": "python",
   "nbconvert_exporter": "python",
   "pygments_lexer": "ipython3",
   "version": "3.10.5"
  }
 },
 "nbformat": 4,
 "nbformat_minor": 5
}
